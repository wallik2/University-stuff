{
  "nbformat": 4,
  "nbformat_minor": 0,
  "metadata": {
    "kernelspec": {
      "display_name": "Python 3",
      "language": "python",
      "name": "python3"
    },
    "language_info": {
      "codemirror_mode": {
        "name": "ipython",
        "version": 3
      },
      "file_extension": ".py",
      "mimetype": "text/x-python",
      "name": "python",
      "nbconvert_exporter": "python",
      "pygments_lexer": "ipython3",
      "version": "3.7.3"
    },
    "colab": {
      "name": "Lecture 1.3 : OOP Example",
      "provenance": [],
      "include_colab_link": true
    }
  },
  "cells": [
    {
      "cell_type": "markdown",
      "metadata": {
        "id": "view-in-github",
        "colab_type": "text"
      },
      "source": [
        "<a href=\"https://colab.research.google.com/github/wallik2/University-stuff/blob/main/Data%20Structure%20and%20Algorithms/Homework/Lecture_1_3_OOP_Example.ipynb\" target=\"_parent\"><img src=\"https://colab.research.google.com/assets/colab-badge.svg\" alt=\"Open In Colab\"/></a>"
      ]
    },
    {
      "cell_type": "markdown",
      "metadata": {
        "id": "7hzSP1niUOuL"
      },
      "source": [
        "# When should I be using Class?\n",
        "\n",
        "\n",
        "---\n",
        "\n",
        "\n",
        "\n",
        "<u>**Scenario 1:  Grading system**</u>\n",
        "\n",
        "- Suppose you want to store the information of individual students"
      ]
    },
    {
      "cell_type": "markdown",
      "metadata": {
        "id": "mq-hpf6UNPsQ"
      },
      "source": [
        "\n",
        "\n",
        "---\n",
        "\n"
      ]
    },
    {
      "cell_type": "markdown",
      "metadata": {
        "id": "K6n9wOlJNCd9"
      },
      "source": [
        "> <u>Case 1</u>: Don't Use Class (Messy)"
      ]
    },
    {
      "cell_type": "code",
      "metadata": {
        "colab": {
          "base_uri": "https://localhost:8080/"
        },
        "id": "0FUs8vT1I4FP",
        "outputId": "ae83d494-a12a-423e-bcb8-bbdc3e47d8d8"
      },
      "source": [
        "def calculateGPA(gradeDict):\n",
        "    return sum(gradeDict.values())/len(gradeDict)\n",
        "\n",
        "students = {}\n",
        "# We can set the keys to variables so we might minimize typos\n",
        "name, age, gender, level, grades = \"name\", \"age\", \"gender\", \"level\", \"grades\"\n",
        "john, jane = \"john\", \"jane\"\n",
        "math = \"math\"\n",
        "students[john] = {}\n",
        "students[john][age] = 12\n",
        "students[john][gender] = \"male\"\n",
        "students[john][level] = 6\n",
        "students[john][grades] = {math:3.3}\n",
        "\n",
        "students[jane] = {}\n",
        "students[jane][age] = 12\n",
        "students[jane][gender] = \"female\"\n",
        "students[jane][level] = 6\n",
        "students[jane][grades] = {math:3.5}\n",
        "\n",
        "# At this point, we need to remember who the students are and where the grades are stored. Not a huge deal, but avoided by OOP.\n",
        "print(calculateGPA(students[john][grades]))\n",
        "print(calculateGPA(students[jane][grades]))"
      ],
      "execution_count": null,
      "outputs": [
        {
          "output_type": "stream",
          "text": [
            "3.3\n",
            "3.5\n"
          ],
          "name": "stdout"
        }
      ]
    },
    {
      "cell_type": "markdown",
      "metadata": {
        "id": "Jb5Ke9GdNHuA"
      },
      "source": [
        "> <u>Case 2</u>: Use Class (Clean)"
      ]
    },
    {
      "cell_type": "code",
      "metadata": {
        "colab": {
          "base_uri": "https://localhost:8080/"
        },
        "id": "3eGaFyWZJu3_",
        "outputId": "824ccc80-7e75-41f9-c0c4-368dd5605204"
      },
      "source": [
        "class Student(object):\n",
        "    def __init__(self, name, age, gender, level, grades=None):\n",
        "        self.name = name\n",
        "        self.age = age\n",
        "        self.gender = gender\n",
        "        self.level = level\n",
        "        self.grades = grades or {}\n",
        "\n",
        "    def setGrade(self, course, grade):\n",
        "        self.grades[course] = grade\n",
        "\n",
        "    def getGrade(self, course):\n",
        "        return self.grades[course]\n",
        "\n",
        "    def getGPA(self):\n",
        "        return sum(self.grades.values())/len(self.grades)\n",
        "\n",
        "# Define some students\n",
        "john = Student(\"John\", 12, \"male\", 6, {\"math\":3.3})\n",
        "jane = Student(\"Jane\", 12, \"female\", 6, {\"math\":3.5})\n",
        "\n",
        "# Now we can get to the grades easily\n",
        "print(john.getGPA())\n",
        "print(jane.getGPA())"
      ],
      "execution_count": null,
      "outputs": [
        {
          "output_type": "stream",
          "text": [
            "3.3\n",
            "3.5\n"
          ],
          "name": "stdout"
        }
      ]
    },
    {
      "cell_type": "markdown",
      "metadata": {
        "id": "glYm_aCAKqcf"
      },
      "source": [
        "As you can see, the code that using class is significantly cleaner\n",
        " - If the Grade system you use just one time, then you don't have to do Class, but if tou want to reuse it over and over again, then it is worthy to use Class\n",
        " \n",
        " - Not only just cleaner, but it is also easy to call the grade of John and Jane. Comparing john.getGPA() and calculateGPA(students[john][grades]"
      ]
    },
    {
      "cell_type": "markdown",
      "metadata": {
        "id": "7rEd3SToJEi4"
      },
      "source": [
        "Ref: https://stackoverflow.com/questions/33072570/when-should-i-be-using-classes-in-python"
      ]
    },
    {
      "cell_type": "markdown",
      "metadata": {
        "id": "2CUEZuzrJm5H"
      },
      "source": [
        "\n",
        "\n",
        "---\n",
        "\n"
      ]
    },
    {
      "cell_type": "markdown",
      "metadata": {
        "id": "mtW4nFcgM1Tb"
      },
      "source": [
        "\n",
        "<u>**Scenario 2:  Banking system**</u>"
      ]
    },
    {
      "cell_type": "markdown",
      "metadata": {
        "id": "55Dfy9XGUOuP"
      },
      "source": [
        "| Customer | Bank | Account | Limit\n",
        "| :- | :-: | :-: | -: |\n",
        "| Marry Jane | SCB | 1234 5678 8765 4321 | 10000 |\n",
        "| John Doe | 1st Bank | 5391 0375 9387 5309 | 1000 |\n",
        "Eddie Frank | KTC | 1001 2002 3003 40004 | 50000 |"
      ]
    },
    {
      "cell_type": "markdown",
      "metadata": {
        "id": "snKsOgzTNUYB"
      },
      "source": [
        "\n",
        "\n",
        "---\n",
        "\n"
      ]
    },
    {
      "cell_type": "markdown",
      "metadata": {
        "id": "iQWkTw4lNYUn"
      },
      "source": [
        "<u>Case 1</u>: Don't use Class"
      ]
    },
    {
      "cell_type": "markdown",
      "metadata": {
        "id": "O3A6NhWlUOuQ"
      },
      "source": [
        "### (0) Use Nested list"
      ]
    },
    {
      "cell_type": "code",
      "metadata": {
        "colab": {
          "base_uri": "https://localhost:8080/"
        },
        "id": "0i5ejNlVUOuQ",
        "outputId": "8b997d7b-5d8a-41db-cfbb-ffd187031d77"
      },
      "source": [
        "cc = [\n",
        "    [\"Marry Jane\", \"SCB\", \"1234 5678 8765 4321\", 10000],\n",
        "    [\"John Doe\", \"1st Bank\", \"5391 0375 9387 5309\", 1000],\n",
        "    [\"Eddie Frank\", \"KTC\", \"1001 2002 3003 40004\", 50000] ]\n",
        "\n",
        "cc[0]"
      ],
      "execution_count": null,
      "outputs": [
        {
          "output_type": "execute_result",
          "data": {
            "text/plain": [
              "['Marry Jane', 'SCB', '1234 5678 8765 4321', 10000]"
            ]
          },
          "metadata": {
            "tags": []
          },
          "execution_count": 1
        }
      ]
    },
    {
      "cell_type": "code",
      "metadata": {
        "colab": {
          "base_uri": "https://localhost:8080/",
          "height": 35
        },
        "id": "vGRjvxk_UOuQ",
        "outputId": "9ca7e3d0-0c8c-4bd0-bf5c-53059f9394e7"
      },
      "source": [
        "cc[0][0]\n",
        "\n",
        "#When you want to call the name of Marry Jane"
      ],
      "execution_count": null,
      "outputs": [
        {
          "output_type": "execute_result",
          "data": {
            "application/vnd.google.colaboratory.intrinsic+json": {
              "type": "string"
            },
            "text/plain": [
              "'Marry Jane'"
            ]
          },
          "metadata": {
            "tags": []
          },
          "execution_count": 2
        }
      ]
    },
    {
      "cell_type": "markdown",
      "metadata": {
        "id": "XCfhAUH3UOuR"
      },
      "source": [
        "### (1) Use Tuple"
      ]
    },
    {
      "cell_type": "code",
      "metadata": {
        "colab": {
          "base_uri": "https://localhost:8080/"
        },
        "id": "-9CfrNIKUOuR",
        "outputId": "54a1fff4-db39-401e-e53f-e8a998cc2d03"
      },
      "source": [
        "cc1t = (\"Marry Jane\", \"SCB\", \"1234 5678 8765 4321\", 10000)\n",
        "print(cc1t)"
      ],
      "execution_count": null,
      "outputs": [
        {
          "output_type": "stream",
          "text": [
            "('Marry Jane', 'SCB', '1234 5678 8765 4321', 10000)\n"
          ],
          "name": "stdout"
        }
      ]
    },
    {
      "cell_type": "code",
      "metadata": {
        "colab": {
          "base_uri": "https://localhost:8080/"
        },
        "id": "Wb4q55u7UOuR",
        "outputId": "26d2fcf4-8e8c-4726-b2ec-a04ded840c9d"
      },
      "source": [
        "print(cc1t[0])"
      ],
      "execution_count": null,
      "outputs": [
        {
          "output_type": "stream",
          "text": [
            "Marry Jane\n"
          ],
          "name": "stdout"
        }
      ]
    },
    {
      "cell_type": "markdown",
      "metadata": {
        "id": "z8w6cvF4UOuR"
      },
      "source": [
        "### (2) Use Dictionary"
      ]
    },
    {
      "cell_type": "code",
      "metadata": {
        "colab": {
          "base_uri": "https://localhost:8080/"
        },
        "id": "awWcbQcDUOuS",
        "outputId": "72e0a5e8-beaa-4801-ee74-9918ac6fa7f5"
      },
      "source": [
        "cc1d = {\"customer\":\"Marry Jane\", \"bank\":\"SCB\", \"account\":\"1234 5678 8765 4321\", \"limit\":10000}\n",
        "print(cc1d)"
      ],
      "execution_count": null,
      "outputs": [
        {
          "output_type": "stream",
          "text": [
            "{'customer': 'Marry Jane', 'bank': 'SCB', 'account': '1234 5678 8765 4321', 'limit': 10000}\n"
          ],
          "name": "stdout"
        }
      ]
    },
    {
      "cell_type": "code",
      "metadata": {
        "colab": {
          "base_uri": "https://localhost:8080/"
        },
        "id": "swSxeipcUOuS",
        "outputId": "c6e81c4b-83e7-4cf9-f7df-a8e653911e5f"
      },
      "source": [
        "print(cc1d[\"customer\"])"
      ],
      "execution_count": null,
      "outputs": [
        {
          "output_type": "stream",
          "text": [
            "Marry Jane\n"
          ],
          "name": "stdout"
        }
      ]
    },
    {
      "cell_type": "markdown",
      "metadata": {
        "id": "PgieRRYmOE3P"
      },
      "source": [
        "\n",
        "\n",
        "---\n",
        "\n"
      ]
    },
    {
      "cell_type": "markdown",
      "metadata": {
        "id": "Gw2uT0uKN_G_"
      },
      "source": [
        "<u>Case 2</u>: Use Class"
      ]
    },
    {
      "cell_type": "code",
      "metadata": {
        "colab": {
          "base_uri": "https://localhost:8080/",
          "height": 35
        },
        "id": "JaUG6sweJ25S",
        "outputId": "2794c414-c0bb-458d-ee73-c81d45353a06"
      },
      "source": [
        "__name__"
      ],
      "execution_count": null,
      "outputs": [
        {
          "output_type": "execute_result",
          "data": {
            "application/vnd.google.colaboratory.intrinsic+json": {
              "type": "string"
            },
            "text/plain": [
              "'__main__'"
            ]
          },
          "metadata": {
            "tags": []
          },
          "execution_count": 3
        }
      ]
    },
    {
      "cell_type": "markdown",
      "metadata": {
        "id": "W9Ui3q13UOuS"
      },
      "source": [
        "### (3) Use class : without setting attributes at beginning"
      ]
    },
    {
      "cell_type": "code",
      "metadata": {
        "colab": {
          "base_uri": "https://localhost:8080/"
        },
        "id": "aHFkFNFnUOuS",
        "outputId": "5b0db6c1-7685-41dd-8dd9-9998b0162d4f"
      },
      "source": [
        "#class CreditCard:\n",
        "#class CreditCard():\n",
        "#class CreditCard(object):\n",
        "class CreditCard:\n",
        "    def __init__(self): #create attributes/properties of instance using init method\n",
        "        self.customer = \"\"\n",
        "        self.bank = \"\"\n",
        "        self.account = \"\"\n",
        "        self.limit = \"\"\n",
        "        \n",
        "\n",
        "if __name__ == '__main__':                  #will pass if it is directly run from this  #will NOT pass when if you save this file as .py (module), and let IMPORT that module to another script --> __Name__ at the first script will not be __main__ anymore since it got imported instead of directly run\n",
        "    cc1 = CreditCard() \n",
        "    cc1.customer = \"Marry Jane\"\n",
        "    cc1.bank = \"SCB\"\n",
        "    cc1.account = \"1234 5678 8765 4321\"\n",
        "    cc1.limit = 10000\n",
        "    \n",
        "    cc2 = CreditCard()\n",
        "    cc2.customer = \"John Doe\"\n",
        "    cc2.bank = \"1st Bank\"\n",
        "    cc2.account = \"5391 0375 9387 5309\"\n",
        "    cc2.limit = 1000\n",
        "    \n",
        "    print(cc1.customer)"
      ],
      "execution_count": null,
      "outputs": [
        {
          "output_type": "stream",
          "text": [
            "Marry Jane\n"
          ],
          "name": "stdout"
        }
      ]
    },
    {
      "cell_type": "markdown",
      "metadata": {
        "id": "XmmkZsSuUOuS"
      },
      "source": [
        "### (4) Use class"
      ]
    },
    {
      "cell_type": "code",
      "metadata": {
        "colab": {
          "base_uri": "https://localhost:8080/"
        },
        "id": "IrO_WsghUOuT",
        "outputId": "36559182-d3bf-45d7-c6d1-e9d6d98ae1c3"
      },
      "source": [
        "class CreditCard2:\n",
        "    def __init__(self, customer, bank, account, limit): #create attributes/properties of instance\n",
        "        self.customer = customer\n",
        "        self.bank = bank\n",
        "        self.account = account\n",
        "        self.limit = limit\n",
        "\n",
        "\n",
        "if __name__ == '__main__':\n",
        "    cc1 = CreditCard2(\"Marry Jane\", \"SCB\", \"1234 5678 8765 4321\", 10000)\n",
        "    cc2 = CreditCard2(\"John Doe\", \"1st Bank\", \"5391 0375 9387 5309\", 1000)\n",
        "    \n",
        "    print(cc1.customer)\n",
        "\n",
        "#Run this module; __name__ == '__main__' will be true\n",
        "# So, this allow us to pass if __name__ == '__main__' statement, because we run this module (doesn't import this module to the another module and run!) "
      ],
      "execution_count": null,
      "outputs": [
        {
          "output_type": "stream",
          "text": [
            "Marry Jane\n"
          ],
          "name": "stdout"
        }
      ]
    },
    {
      "cell_type": "markdown",
      "metadata": {
        "id": "qc7rFo4xUOuT"
      },
      "source": [
        "### (5) Use class : also make main short"
      ]
    },
    {
      "cell_type": "code",
      "metadata": {
        "colab": {
          "base_uri": "https://localhost:8080/"
        },
        "id": "z-8RB0vPUOuT",
        "outputId": "c1a2ca81-1c76-45fe-95a3-bd4fe9dc26ce"
      },
      "source": [
        "class CreditCard2:\n",
        "    def __init__(self, customer, bank, account, limit): #create attributes/properties of instance\n",
        "        self.customer = customer\n",
        "        self.bank = bank\n",
        "        self.account = account\n",
        "        self.limit = limit\n",
        "        \n",
        "def demo_creditcard2_class():\n",
        "    cc1 = CreditCard2(\"Marry Jane\", \"SCB\", \"1234 5678 8765 4321\", 10000)        #Cleaner! as we make the all of those commands in form of function\n",
        "    cc2 = CreditCard2(\"John Doe\", \"1st Bank\", \"5391 0375 9387 5309\", 1000)\n",
        "  \n",
        "    print(cc1.customer)\n",
        "    \n",
        "if __name__ == '__main__':\n",
        "    demo_creditcard2_class()"
      ],
      "execution_count": null,
      "outputs": [
        {
          "output_type": "stream",
          "text": [
            "Marry Jane\n"
          ],
          "name": "stdout"
        }
      ]
    },
    {
      "cell_type": "markdown",
      "metadata": {
        "id": "KFhAIx2SUOuT"
      },
      "source": [
        "### (6) Use class : also set some initial value for attributes (Default value)"
      ]
    },
    {
      "cell_type": "code",
      "metadata": {
        "colab": {
          "base_uri": "https://localhost:8080/"
        },
        "id": "YvntoGG-UOuT",
        "outputId": "678266ee-ca61-4061-b5fa-10a046e04bfc"
      },
      "source": [
        "class CreditCard3:\n",
        "    def __init__(self, customer=None, bank=\"SCB\", account=None, limit=None): #Default of customer is None, bank is SCB, account is None, and limit is None \n",
        "        self.customer = customer\n",
        "        self.bank = bank\n",
        "        self.account = account\n",
        "        self.limit = limit                        #We force everyone's limit = none\n",
        "        \n",
        "def demo_creditcard3_class():\n",
        "    cc1 = CreditCard3()\n",
        "    print(cc1.customer, cc1.bank)                #Even you didn't input the bank name; the default bank name still is SCB\n",
        "    \n",
        "    cc1 = CreditCard3(customer=\"Marry Jane\")\n",
        "    print(cc1.customer)\n",
        "    \n",
        "    cc2 = CreditCard3(customer=\"John Doe\", bank=\"1st Bank\", limit=1000,\n",
        "    account=\"5391 0375 9387 5309\")\n",
        "    print(cc2.bank)                               #But you can still replace the default bank's name;\n",
        "    print(cc2.limit)                              #Limit a\n",
        "        \n",
        "if __name__ == '__main__':\n",
        "    demo_creditcard3_class()                     #This can interpret as If you run from this module, you are able to break the encapsulation! break though if  _name_==_main_"
      ],
      "execution_count": null,
      "outputs": [
        {
          "output_type": "stream",
          "text": [
            "None SCB\n",
            "Marry Jane\n",
            "1st Bank\n",
            "1000\n"
          ],
          "name": "stdout"
        }
      ]
    },
    {
      "cell_type": "markdown",
      "metadata": {
        "id": "0cpHwWPjH79n"
      },
      "source": [
        "\n",
        "\n",
        "---\n",
        "\n"
      ]
    },
    {
      "cell_type": "markdown",
      "metadata": {
        "id": "2ARjUndhUOuU"
      },
      "source": [
        "## Importing Module/Class"
      ]
    },
    {
      "cell_type": "markdown",
      "metadata": {
        "id": "XgGhLynwPf-K"
      },
      "source": [
        "1) ADMIN MODULE"
      ]
    },
    {
      "cell_type": "code",
      "metadata": {
        "id": "f1LsagsbUOuU"
      },
      "source": [
        "# file : medal.py\n",
        "class Medal:\n",
        "    def __init__(self, country, gold, silver, bronze):\n",
        "        self.country = country\n",
        "        self.gold = gold\n",
        "        self.silver = silver\n",
        "        self.bronze = bronze\n",
        "        \n",
        "    def total(self): #instance method\n",
        "        return(self.gold + self.silver + self.bronze)\n",
        "\n",
        "#Calculate total numbers of Medals"
      ],
      "execution_count": null,
      "outputs": []
    },
    {
      "cell_type": "markdown",
      "metadata": {
        "id": "OTl3BnTpPjHZ"
      },
      "source": [
        "2) USER MODULE"
      ]
    },
    {
      "cell_type": "code",
      "metadata": {
        "colab": {
          "base_uri": "https://localhost:8080/"
        },
        "id": "D-gwy5AzUOuU",
        "outputId": "9ace965e-5d22-4324-f338-fbca44e0242c"
      },
      "source": [
        "# file : demo_medal.py\n",
        "#from medal import Medal                     \n",
        "\n",
        "if __name__ == '__main__':                    \n",
        "    jp = Medal(\"Japan\", 10, 5, 2)\n",
        "    print(jp.total())"
      ],
      "execution_count": null,
      "outputs": [
        {
          "output_type": "stream",
          "text": [
            "17\n"
          ],
          "name": "stdout"
        }
      ]
    },
    {
      "cell_type": "code",
      "metadata": {
        "id": "He16RfUSUOuU"
      },
      "source": [
        "# file : medal.py (revisited)\n",
        "class Medal:\n",
        "    def __init__(self, country, gold, silver, bronze):\n",
        "        self.country = country\n",
        "        self.gold = gold\n",
        "        self.silver = silver\n",
        "        self.bronze = bronze\n",
        "        \n",
        "    def total(self): #instance method\n",
        "        return(self.gold + self.silver + self.bronze)\n",
        "    \n",
        "class Action:\n",
        "    def greeting(self):\n",
        "        return \"hello\""
      ],
      "execution_count": null,
      "outputs": []
    },
    {
      "cell_type": "code",
      "metadata": {
        "colab": {
          "base_uri": "https://localhost:8080/"
        },
        "id": "nw9Pz7s9UOuU",
        "outputId": "3fcfb263-6013-4d52-eb0b-f1531082d049"
      },
      "source": [
        "# file : demo2_medal.py\n",
        "#from medal import Medal, Action\n",
        "#import medal\n",
        "#import medal as md\n",
        "\n",
        "if __name__ == '__main__':\n",
        "    th = Medal(\"Thailand\", 5, 3, 2)\n",
        "    print(th.total())\n",
        "    a = Action()\n",
        "    print(a.greeting())"
      ],
      "execution_count": null,
      "outputs": [
        {
          "output_type": "stream",
          "text": [
            "10\n",
            "hello\n"
          ],
          "name": "stdout"
        }
      ]
    },
    {
      "cell_type": "markdown",
      "metadata": {
        "id": "ilTe6FrPUOuV"
      },
      "source": [
        "## Self"
      ]
    },
    {
      "cell_type": "code",
      "metadata": {
        "colab": {
          "base_uri": "https://localhost:8080/"
        },
        "id": "duLlBs1oUOuV",
        "outputId": "cabda04e-629a-4dd8-f9f1-fc1727bcdda0"
      },
      "source": [
        "class Medal:\n",
        "    def __init__(self, country, gold, silver, bronze):\n",
        "        self.country = country\n",
        "        self.gold = gold\n",
        "        self.silver = silver\n",
        "        self.bronze = bronze\n",
        "        \n",
        "    def total(self): #instance method\n",
        "        return(self.gold + self.silver + self.bronze)\n",
        "    \n",
        "if __name__ == '__main__':\n",
        "    th = Medal(\"Thailand\", 5, 3, 2)\n",
        "    print(th.country)\n",
        "    print(th.total())\n",
        "    print(Medal.total(th))  # class.method(instance)"
      ],
      "execution_count": null,
      "outputs": [
        {
          "output_type": "stream",
          "text": [
            "Thailand\n",
            "10\n",
            "10\n"
          ],
          "name": "stdout"
        }
      ]
    },
    {
      "cell_type": "code",
      "metadata": {
        "colab": {
          "base_uri": "https://localhost:8080/"
        },
        "id": "VxorE9v1UOuV",
        "outputId": "f1a324f6-e493-4c7b-d58b-03249f018343"
      },
      "source": [
        "class Medal:\n",
        "    def __init__(self, country, gold, silver, bronze):\n",
        "        self.country = country\n",
        "        self.gold = gold\n",
        "        self.silver = silver\n",
        "        self.bronze = bronze\n",
        "        \n",
        "    def total(self): #instance method\n",
        "        return(self.gold + self.silver + self.bronze)\n",
        "    \n",
        "    def myadd(self, a, b):\n",
        "        return a + b\n",
        "    \n",
        "if __name__ == '__main__':\n",
        "    th = Medal(\"Thailand\", 5, 3, 2)\n",
        "    print(th.country)\n",
        "    print(th.myadd(1, 2))         # instance.method(attribute values)  <==== Recommended!!\n",
        "    print(Medal.myadd(th, 1, 2))  # class.method(instance, att values)"
      ],
      "execution_count": null,
      "outputs": [
        {
          "output_type": "stream",
          "text": [
            "Thailand\n",
            "3\n",
            "3\n"
          ],
          "name": "stdout"
        }
      ]
    },
    {
      "cell_type": "markdown",
      "metadata": {
        "id": "yihFETCuUOuV"
      },
      "source": [
        "* We can add a new attribute."
      ]
    },
    {
      "cell_type": "code",
      "metadata": {
        "id": "TaQL88zyUOuV"
      },
      "source": [
        "class Medal:\n",
        "    def __init__(self, country, gold, silver, bronze):\n",
        "        self.country = country\n",
        "        self.gold = gold\n",
        "        self.silver = silver\n",
        "        self.bronze = bronze\n",
        "        \n",
        "    def total(self): #instance method\n",
        "        return(self.gold + self.silver + self.bronze)\n",
        "    \n",
        "    def myadd(self, a, b):\n",
        "        return a + b\n",
        "    \n",
        "if __name__ == '__main__':\n",
        "    th = Medal(\"Thailand\", 5, 3, 2)\n",
        "    th.rank = 2\n",
        "    print(th.rank)"
      ],
      "execution_count": null,
      "outputs": []
    },
    {
      "cell_type": "markdown",
      "metadata": {
        "id": "A-MMt8_BUOuV"
      },
      "source": [
        "## Convert procedural to OOP"
      ]
    },
    {
      "cell_type": "code",
      "metadata": {
        "id": "FkIGul9qUOuW"
      },
      "source": [
        "# bmi_procedural.py\n",
        "def bmi(w_kg, h_cm):\n",
        "    return w_kg / (h_cm / 100) ** 2\n",
        "\n",
        "def category(w_kg, h_cm):\n",
        "    diag = \"\"\n",
        "    bmi_value = bmi(w_kg, h_cm)\n",
        "    if bmi_value < 18.5:\n",
        "        diag = \"underweight\"\n",
        "    elif 18.5 <= bmi_value <= 25:\n",
        "        diag = \"healthy\"\n",
        "    elif 25 < bmi_value <= 30:\n",
        "        diag = \"overweight\"\n",
        "    elif bmi_value > 30:\n",
        "        diag = \"obese\"\n",
        "    return diag\n",
        "\n",
        "if __name__ == '__main__':\n",
        "    w = 70\n",
        "    h = 170\n",
        "    print(bmi(w, h))\n",
        "    print(category(w, h))"
      ],
      "execution_count": null,
      "outputs": []
    },
    {
      "cell_type": "code",
      "metadata": {
        "id": "DriHEepnUOuW"
      },
      "source": [
        "# bmi_OOP.py\n",
        "class Bmi:\n",
        "    def __init__(self, w_kg, h_cm):\n",
        "        self.w_kg = w_kg\n",
        "        self.h_cm = h_cm\n",
        "        \n",
        "    def bmi(self):\n",
        "        return self.w_kg / (self.h_cm / 100) ** 2\n",
        "\n",
        "    def category(self):\n",
        "        diag = \"\"\n",
        "        if self.bmi() < 18.5:\n",
        "            diag = \"underweight\"\n",
        "        elif 18.5 <= self.bmi() <= 25:\n",
        "            diag = \"healthy\"\n",
        "        elif 25 < self.bmi() <= 30:\n",
        "            diag = \"overweight\"\n",
        "        elif self.bmi() > 30:\n",
        "            diag = \"obese\"\n",
        "        return diag\n",
        "\n",
        "    def __str__(self): # toString() in Java\n",
        "        return \"BMI = {:.2f} ({})\".format(self.bmi(), self.category())\n",
        "\n",
        "if __name__ == '__main__':\n",
        "    a = Bmi(70, 170)\n",
        "    print(a.bmi())\n",
        "    print(a.category())\n",
        "    # print(a)"
      ],
      "execution_count": null,
      "outputs": []
    },
    {
      "cell_type": "markdown",
      "metadata": {
        "id": "eM3Sr_6JUOuW"
      },
      "source": [
        "### str vs repr"
      ]
    },
    {
      "cell_type": "code",
      "metadata": {
        "id": "AR3WGQUJUOuX"
      },
      "source": [
        "# str_repr.py\n",
        "class Medal:\n",
        "    def __init__(self, country, gold, silver, bronze):\n",
        "        self.country = country\n",
        "        self.gold = gold\n",
        "        self.silver = silver\n",
        "        self.bronze = bronze\n",
        "    \n",
        "    def total(self): #instance method\n",
        "        return(self.gold + self.silver + self.bronze)\n",
        "\n",
        "if __name__ == '__main__':\n",
        "    th = Medal(\"Thailand\", 5, 6, 10)\n",
        "    print(th)\n",
        "    print(th.country, th.gold, th.silver, th.bronze, th.total())"
      ],
      "execution_count": null,
      "outputs": []
    },
    {
      "cell_type": "code",
      "metadata": {
        "id": "G8O2-7rXUOuX"
      },
      "source": [
        "# str_repr2.py\n",
        "class Medal:\n",
        "    def __init__(self, country, gold, silver, bronze):\n",
        "        self.country = country\n",
        "        self.gold = gold\n",
        "        self.silver = silver\n",
        "        self.bronze = bronze\n",
        "\n",
        "    def total(self):  # instance method\n",
        "        return self.gold + self.silver + self.bronze\n",
        "\n",
        "    def __str__(self): # toString()\n",
        "        return \"{:15} g: {:3} s: {:3} b: {:3} t: {:3}\".format(self.country, self.gold, self.silver, self.bronze, self.total())\n",
        "\n",
        "if __name__ == '__main__':\n",
        "    # th = Medal(\"Thailand\", 5, 6, 10)\n",
        "    m = [\n",
        "        Medal(\"Thailand\", 5, 6, 10),\n",
        "        Medal(\"Japan\", 15, 20, 10),\n",
        "        Medal(\"China\", 55, 40, 105)\n",
        "    ]\n",
        "    for c in m:\n",
        "        print(c)"
      ],
      "execution_count": null,
      "outputs": []
    },
    {
      "cell_type": "code",
      "metadata": {
        "id": "YeQ44tCgUOuX"
      },
      "source": [
        "# str_repr3.py\n",
        "class Medal:\n",
        "    def __init__(self, country, gold, silver, bronze):\n",
        "        self.country = country\n",
        "        self.gold = gold\n",
        "        self.silver = silver\n",
        "        self.bronze = bronze\n",
        "\n",
        "    def total(self):  # instance method\n",
        "        return self.gold + self.silver + self.bronze\n",
        "\n",
        "    # def __str__(self): # toString()\n",
        "    #     return \"{:15} g: {:3} s: {:3} b: {:3} t: {:3}\".format(self.country, self.gold, self.silver, self.bronze, self.total())\n",
        "\n",
        "    def __repr__(self):  # string representation\n",
        "        return repr((self.country, self.gold, self.silver, self.bronze))\n",
        "        #return \"{}{}\".format(self.__class__.__name__, repr((self.country, self.gold, self.silver, self.bronze)))\n",
        "\n",
        "        #return \"({!r},{},{},{},{})\".format(self.country, self.gold, self.silver, self.bronze, self.total())\n",
        "        \n",
        "\n",
        "if __name__ == '__main__':\n",
        "    # th = Medal(\"Thailand\", 5, 6, 10)\n",
        "    m = [\n",
        "        Medal(\"Thailand\", 5, 6, 10),\n",
        "        Medal(\"Japan\", 15, 20, 10),\n",
        "        Medal(\"China\", 55, 40, 105)\n",
        "    ]\n",
        "    for c in m:\n",
        "        print(c)"
      ],
      "execution_count": null,
      "outputs": []
    },
    {
      "cell_type": "code",
      "metadata": {
        "id": "pOZ1qYOPUOuX"
      },
      "source": [
        ""
      ],
      "execution_count": null,
      "outputs": []
    },
    {
      "cell_type": "code",
      "metadata": {
        "id": "UdJ0K3t3UOuY"
      },
      "source": [
        "# from python_OOP.pdf"
      ],
      "execution_count": null,
      "outputs": []
    }
  ]
}