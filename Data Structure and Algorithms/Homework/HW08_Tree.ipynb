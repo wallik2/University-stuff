{
  "nbformat": 4,
  "nbformat_minor": 0,
  "metadata": {
    "colab": {
      "name": "HW08_Tree",
      "provenance": [],
      "authorship_tag": "ABX9TyMO2E8iyMWT9JxCilYkgGtm",
      "include_colab_link": true
    },
    "kernelspec": {
      "name": "python3",
      "display_name": "Python 3"
    },
    "language_info": {
      "name": "python"
    }
  },
  "cells": [
    {
      "cell_type": "markdown",
      "metadata": {
        "id": "view-in-github",
        "colab_type": "text"
      },
      "source": [
        "<a href=\"https://colab.research.google.com/github/wallik2/University-stuff/blob/main/Data%20Structure%20and%20Algorithms/Homework/HW08_Tree.ipynb\" target=\"_parent\"><img src=\"https://colab.research.google.com/assets/colab-badge.svg\" alt=\"Open In Colab\"/></a>"
      ]
    },
    {
      "cell_type": "markdown",
      "metadata": {
        "id": "3MVxG-cIY4JM"
      },
      "source": [
        "![image.png](data:image/png;base64,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)"
      ]
    },
    {
      "cell_type": "markdown",
      "metadata": {
        "id": "FQKlfJHtV23s"
      },
      "source": [
        "# InOrder Traversal"
      ]
    },
    {
      "cell_type": "code",
      "metadata": {
        "colab": {
          "base_uri": "https://localhost:8080/"
        },
        "id": "ksM5GF9wWDOT",
        "outputId": "9148461d-885e-4788-c389-44ee39606988"
      },
      "source": [
        "class Node:\n",
        "\n",
        "    def __init__(self, data):\n",
        "        self.left = None\n",
        "        self.right = None\n",
        "        self.data = data\n",
        "\n",
        "# Insert Node\n",
        "    def insert(self, data):\n",
        "\n",
        "        if self.data:\n",
        "            if data < self.data:\n",
        "                if self.left is None:\n",
        "                    self.left = Node(data)\n",
        "                else:\n",
        "                    self.left.insert(data)\n",
        "            elif data > self.data:\n",
        "                if self.right is None:\n",
        "                    self.right = Node(data)\n",
        "                else:\n",
        "                    self.right.insert(data)\n",
        "        else:\n",
        "            self.data = data\n",
        "\n",
        "# Print the Tree\n",
        "    def PrintTree(self):\n",
        "        if self.left:\n",
        "            self.left.PrintTree()\n",
        "        print( self.data),\n",
        "        if self.right:\n",
        "            self.right.PrintTree()\n",
        "\n",
        "# Inorder traversal\n",
        "# Left -> Root -> Right\n",
        "    def inorderTraversal(self, root):\n",
        "        res = []\n",
        "        if root:\n",
        "            res = self.inorderTraversal(root.left)\n",
        "            res.append(root.data)\n",
        "            res = res + self.inorderTraversal(root.right)\n",
        "        return res\n",
        "\n",
        "root = Node(60)\n",
        "\n",
        "for i in range(10,71,10):\n",
        "  if i == 60:\n",
        "    pass\n",
        "  root.insert(i)\n",
        "\n",
        "print(root.inorderTraversal(root))"
      ],
      "execution_count": null,
      "outputs": [
        {
          "output_type": "stream",
          "text": [
            "[10, 20, 30, 40, 50, 60, 70]\n"
          ],
          "name": "stdout"
        }
      ]
    },
    {
      "cell_type": "markdown",
      "metadata": {
        "id": "RO01XtbEWR0D"
      },
      "source": [
        "# PreOrder Traversal"
      ]
    },
    {
      "cell_type": "code",
      "metadata": {
        "colab": {
          "base_uri": "https://localhost:8080/"
        },
        "id": "ihMAI-YmWXJJ",
        "outputId": "01257cd2-ba95-4f46-dcb1-7b3a8ea72f96"
      },
      "source": [
        "class Node:\n",
        "\n",
        "    def __init__(self, data):\n",
        "        self.left = None\n",
        "        self.right = None\n",
        "        self.data = data\n",
        "\n",
        "# Insert Node\n",
        "    def insert(self, data):\n",
        "\n",
        "        if self.data:\n",
        "            if data < self.data:\n",
        "                if self.left is None:\n",
        "                    self.left = Node(data)\n",
        "                else:\n",
        "                    self.left.insert(data)\n",
        "            elif data > self.data:\n",
        "                if self.right is None:\n",
        "                    self.right = Node(data)\n",
        "                else:\n",
        "                    self.right.insert(data)\n",
        "        else:\n",
        "            self.data = data\n",
        "\n",
        "# Print the Tree\n",
        "    def PrintTree(self):\n",
        "        if self.left:\n",
        "            self.left.PrintTree()\n",
        "        print( self.data),\n",
        "        if self.right:\n",
        "            self.right.PrintTree()\n",
        "\n",
        "# Preorder traversal\n",
        "# Root -> Left ->Right\n",
        "    def PreorderTraversal(self, root):\n",
        "        res = []\n",
        "        if root:\n",
        "            res.append(root.data)\n",
        "            res = res + self.PreorderTraversal(root.left)\n",
        "            res = res + self.PreorderTraversal(root.right)\n",
        "        return res\n",
        "\n",
        "root = Node(60)\n",
        "root.insert(20)\n",
        "root.insert(70)\n",
        "root.insert(10)\n",
        "root.insert(40)\n",
        "root.insert(30)\n",
        "root.insert(50)\n",
        "print(root.PreorderTraversal(root))"
      ],
      "execution_count": null,
      "outputs": [
        {
          "output_type": "stream",
          "text": [
            "[60, 20, 10, 40, 30, 50, 70]\n"
          ],
          "name": "stdout"
        }
      ]
    },
    {
      "cell_type": "markdown",
      "metadata": {
        "id": "Kr0rw1vXWHXb"
      },
      "source": [
        "# PostOrder Traversal"
      ]
    },
    {
      "cell_type": "code",
      "metadata": {
        "colab": {
          "base_uri": "https://localhost:8080/"
        },
        "id": "9xRaANtnVoq1",
        "outputId": "6bd21bca-0ec5-4584-f1e7-c0a09557423a"
      },
      "source": [
        "class Node:\n",
        "\n",
        "    def __init__(self, data):\n",
        "        self.left = None\n",
        "        self.right = None\n",
        "        self.data = data\n",
        "\n",
        "# Insert Node\n",
        "    def insert(self, data):\n",
        "\n",
        "        if self.data:\n",
        "            if data < self.data:\n",
        "                if self.left is None:\n",
        "                    self.left = Node(data)\n",
        "                else:\n",
        "                    self.left.insert(data)\n",
        "            elif data > self.data:\n",
        "                if self.right is None:\n",
        "                    self.right = Node(data)\n",
        "                else:\n",
        "                    self.right.insert(data)\n",
        "        else:\n",
        "            self.data = data\n",
        "\n",
        "# Print the Tree\n",
        "    def PrintTree(self):\n",
        "        if self.left:\n",
        "            self.left.PrintTree()\n",
        "        print( self.data),\n",
        "        if self.right:\n",
        "            self.right.PrintTree()\n",
        "\n",
        "# Preorder traversal :: Left ->Right -> Root\n",
        "    def PostorderTraversal(self, root):\n",
        "        res = []\n",
        "        if root:\n",
        "            res = self.PostorderTraversal(root.left)\n",
        "            res = res + self.PostorderTraversal(root.right)\n",
        "            res.append(root.data)\n",
        "        return res\n",
        "\n",
        "root = Node(60)\n",
        "root.insert(30)\n",
        "root.insert(50)\n",
        "root.insert(10)\n",
        "root.insert(40)\n",
        "root.insert(20)\n",
        "root.insert(70)\n",
        "root.insert(60)\n",
        "print(root.PostorderTraversal(root))"
      ],
      "execution_count": null,
      "outputs": [
        {
          "output_type": "stream",
          "text": [
            "[20, 10, 40, 50, 30, 70, 60]\n"
          ],
          "name": "stdout"
        }
      ]
    }
  ]
}