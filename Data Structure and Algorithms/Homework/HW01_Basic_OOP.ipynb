{
  "nbformat": 4,
  "nbformat_minor": 0,
  "metadata": {
    "colab": {
      "name": "HW01 : Basic OOP",
      "provenance": [],
      "include_colab_link": true
    },
    "kernelspec": {
      "name": "python3",
      "display_name": "Python 3"
    }
  },
  "cells": [
    {
      "cell_type": "markdown",
      "metadata": {
        "id": "view-in-github",
        "colab_type": "text"
      },
      "source": [
        "<a href=\"https://colab.research.google.com/github/wallik2/University-stuff/blob/main/Data%20Structure%20and%20Algorithms/Homework/HW01_Basic_OOP.ipynb\" target=\"_parent\"><img src=\"https://colab.research.google.com/assets/colab-badge.svg\" alt=\"Open In Colab\"/></a>"
      ]
    },
    {
      "cell_type": "code",
      "metadata": {
        "id": "4MEsHdATZ3VI"
      },
      "source": [
        ""
      ],
      "execution_count": null,
      "outputs": []
    },
    {
      "cell_type": "markdown",
      "metadata": {
        "id": "OUgBMn7dbAcq"
      },
      "source": [
        "#### Q.1) Write a short Python function that takes a positive integer n and returns the sum of the squares of all the positive integers smaller than n.\n",
        "\n",
        "\n",
        "\n",
        "---\n",
        "\n"
      ]
    },
    {
      "cell_type": "code",
      "metadata": {
        "id": "7J0acofzbW6S"
      },
      "source": [
        "def square_lower(n):\n",
        "  sum = 0\n",
        "  for i in range(1,n):                                             \n",
        "    sum = sum + i**2\n",
        "  return(sum)"
      ],
      "execution_count": null,
      "outputs": []
    },
    {
      "cell_type": "code",
      "metadata": {
        "id": "r6nxSSS7fjSr",
        "colab": {
          "base_uri": "https://localhost:8080/"
        },
        "outputId": "1b0ee026-d6e9-4c13-db97-b47ebe6a5283"
      },
      "source": [
        "n = int(input((\"Enter n : \")))\n",
        "\n",
        "square_lower(n)"
      ],
      "execution_count": null,
      "outputs": [
        {
          "output_type": "stream",
          "text": [
            "Enter n : 4\n"
          ],
          "name": "stdout"
        },
        {
          "output_type": "execute_result",
          "data": {
            "text/plain": [
              "14"
            ]
          },
          "metadata": {
            "tags": []
          },
          "execution_count": 2
        }
      ]
    },
    {
      "cell_type": "markdown",
      "metadata": {
        "id": "9dQYN69fhHn7"
      },
      "source": [
        "\n",
        "\n",
        "---\n",
        "\n"
      ]
    },
    {
      "cell_type": "markdown",
      "metadata": {
        "id": "9OZPIhxGczof"
      },
      "source": [
        "#### Q.2) Give a single command that computes the sum from Q.1, relying on Python's comprehension syntax and the built-in sum function\n"
      ]
    },
    {
      "cell_type": "code",
      "metadata": {
        "id": "LtsQI1UZeisq"
      },
      "source": [
        "def square_lower2(n):\n",
        "  return sum([i**2 for i in range(1,n)])"
      ],
      "execution_count": null,
      "outputs": []
    },
    {
      "cell_type": "code",
      "metadata": {
        "colab": {
          "base_uri": "https://localhost:8080/"
        },
        "id": "brN6H-eMgxYD",
        "outputId": "fad7385b-7dfe-4562-a46e-8f6484fa5e5c"
      },
      "source": [
        "n = int(input((\"Enter n : \")))\n",
        "\n",
        "square_lower2(n)"
      ],
      "execution_count": null,
      "outputs": [
        {
          "output_type": "stream",
          "text": [
            "Enter n : 7\n"
          ],
          "name": "stdout"
        },
        {
          "output_type": "execute_result",
          "data": {
            "text/plain": [
              "91"
            ]
          },
          "metadata": {
            "tags": []
          },
          "execution_count": 33
        }
      ]
    },
    {
      "cell_type": "markdown",
      "metadata": {
        "id": "T9DtNseQhI-6"
      },
      "source": [
        "\n",
        "\n",
        "---\n",
        "\n"
      ]
    },
    {
      "cell_type": "markdown",
      "metadata": {
        "id": "cZ5GNW8Ag5Hp"
      },
      "source": [
        "#### Q.3) Redo Problem 1.4 but do in OOP approach."
      ]
    },
    {
      "cell_type": "code",
      "metadata": {
        "id": "bSRpbOZhhFpi",
        "colab": {
          "base_uri": "https://localhost:8080/"
        },
        "outputId": "e85c732b-a0e1-429f-83e3-230d52e641fd"
      },
      "source": [
        "class Sum_Square:\n",
        "  def __init__(self,n):\n",
        "    self.n = n\n",
        "  def square_lower(self):\n",
        "    sum = 0\n",
        "    for i in range(1,self.n):                                             \n",
        "      sum = sum + i**2\n",
        "    return(sum)\n",
        "\n",
        "def insert_n(n):\n",
        "  N = Sum_Square(n)\n",
        "  return N.square_lower()\n",
        "\n",
        "if __name__ == '__main__' :\n",
        "  n = int(input((\"Enter n : \")))\n",
        "  print(insert_n(n))"
      ],
      "execution_count": null,
      "outputs": [
        {
          "output_type": "stream",
          "text": [
            "Enter n : 5\n",
            "30\n"
          ],
          "name": "stdout"
        }
      ]
    }
  ]
}