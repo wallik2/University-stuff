{
  "nbformat": 4,
  "nbformat_minor": 0,
  "metadata": {
    "kernelspec": {
      "display_name": "Python 3",
      "language": "python",
      "name": "python3"
    },
    "language_info": {
      "codemirror_mode": {
        "name": "ipython",
        "version": 3
      },
      "file_extension": ".py",
      "mimetype": "text/x-python",
      "name": "python",
      "nbconvert_exporter": "python",
      "pygments_lexer": "ipython3",
      "version": "3.7.3"
    },
    "colab": {
      "name": "Lecture 1.1 : Review Basic",
      "provenance": [],
      "include_colab_link": true
    }
  },
  "cells": [
    {
      "cell_type": "markdown",
      "metadata": {
        "id": "view-in-github",
        "colab_type": "text"
      },
      "source": [
        "<a href=\"https://colab.research.google.com/github/wallik2/University-stuff/blob/main/Data%20Structure%20and%20Algorithms/Homework/Lecture_1_1_Review_Basic.ipynb\" target=\"_parent\"><img src=\"https://colab.research.google.com/assets/colab-badge.svg\" alt=\"Open In Colab\"/></a>"
      ]
    },
    {
      "cell_type": "markdown",
      "metadata": {
        "id": "_Lp8zUweoCvs"
      },
      "source": [
        "# **1)Built-in Basic Data Types**\n",
        "\n",
        "---\n",
        "\n",
        "\n",
        "\n",
        "\n",
        "> Basic Data types consist of 4 types, which including \n",
        "\n",
        "\n",
        "1. String\n",
        "2. Integers\n",
        "3. Float\n",
        "4. Boolean\n",
        "\n",
        "\n",
        "\n",
        "\n"
      ]
    },
    {
      "cell_type": "markdown",
      "metadata": {
        "id": "cAN8gP07oCv1"
      },
      "source": [
        "# 1.1) String\n",
        "\n",
        "---\n",
        "\n"
      ]
    },
    {
      "cell_type": "code",
      "metadata": {
        "id": "3A2ej5VFoCv2",
        "outputId": "d86fcd04-b207-45eb-c4e8-4a8a4b92dbfe"
      },
      "source": [
        "'Hello World'"
      ],
      "execution_count": null,
      "outputs": [
        {
          "output_type": "execute_result",
          "data": {
            "text/plain": [
              "'Hello World'"
            ]
          },
          "metadata": {
            "tags": []
          },
          "execution_count": 3
        }
      ]
    },
    {
      "cell_type": "code",
      "metadata": {
        "id": "vSeXfI5zoCv4",
        "outputId": "59bce69d-a5d8-47cd-9e34-3dcd84fe06eb"
      },
      "source": [
        "str(10)"
      ],
      "execution_count": null,
      "outputs": [
        {
          "output_type": "execute_result",
          "data": {
            "text/plain": [
              "'10'"
            ]
          },
          "metadata": {
            "tags": []
          },
          "execution_count": 4
        }
      ]
    },
    {
      "cell_type": "markdown",
      "metadata": {
        "id": "t9-PlcfuoCv4"
      },
      "source": [
        "# 1.2) Integers\n",
        "\n",
        "---\n",
        "\n"
      ]
    },
    {
      "cell_type": "code",
      "metadata": {
        "id": "ounjnw0PoCv5",
        "outputId": "87fece00-6b24-42c0-d229-b258879f8066"
      },
      "source": [
        "7**73"
      ],
      "execution_count": null,
      "outputs": [
        {
          "output_type": "execute_result",
          "data": {
            "text/plain": [
              "49221735352184872959961855190338177606846542622561400857262407"
            ]
          },
          "metadata": {
            "tags": []
          },
          "execution_count": 12
        }
      ]
    },
    {
      "cell_type": "markdown",
      "metadata": {
        "id": "EGt0y1mEoCv5"
      },
      "source": [
        "# 1.3) Float\n",
        "\n",
        "---\n",
        "\n"
      ]
    },
    {
      "cell_type": "code",
      "metadata": {
        "id": "PDU1tyRCoCv5",
        "outputId": "e1ae6dd6-2ca0-43a1-f229-5088f83a86fc"
      },
      "source": [
        "1/2"
      ],
      "execution_count": null,
      "outputs": [
        {
          "output_type": "execute_result",
          "data": {
            "text/plain": [
              "0.5"
            ]
          },
          "metadata": {
            "tags": []
          },
          "execution_count": 7
        }
      ]
    },
    {
      "cell_type": "markdown",
      "metadata": {
        "id": "qSez5kkfoCv6"
      },
      "source": [
        "* bool = True or False"
      ]
    },
    {
      "cell_type": "markdown",
      "metadata": {
        "id": "-wpvPQWprvY9"
      },
      "source": [
        "# 1.4) Boolean\n",
        "\n",
        "---\n",
        "\n"
      ]
    },
    {
      "cell_type": "code",
      "metadata": {
        "id": "qongRn8roCv6",
        "outputId": "1d36da2c-2607-4f3c-b02f-f44f2b933e9b"
      },
      "source": [
        "bool(10)           "
      ],
      "execution_count": null,
      "outputs": [
        {
          "output_type": "execute_result",
          "data": {
            "text/plain": [
              "True"
            ]
          },
          "metadata": {
            "tags": []
          },
          "execution_count": 9
        }
      ]
    },
    {
      "cell_type": "code",
      "metadata": {
        "id": "eHBSN1JOoCv6",
        "outputId": "2c50ba76-f01e-416f-99a3-753e74174879"
      },
      "source": [
        "bool(0)"
      ],
      "execution_count": null,
      "outputs": [
        {
          "output_type": "execute_result",
          "data": {
            "text/plain": [
              "False"
            ]
          },
          "metadata": {
            "tags": []
          },
          "execution_count": 29
        }
      ]
    },
    {
      "cell_type": "markdown",
      "metadata": {
        "id": "qP9lO1k9oCv7"
      },
      "source": [
        "# 2) Collection Data Types\n",
        "\n",
        "---\n",
        "\n",
        "\n",
        "> A complex type that is made up of one or more elements.\n",
        "\n",
        "> A collection element can be of any data type (including other complex types)\n",
        "\n",
        "\n",
        "\n",
        "\n"
      ]
    },
    {
      "cell_type": "markdown",
      "metadata": {
        "id": "chxH809uoCv7"
      },
      "source": [
        "# 2.1) List\n",
        "\n",
        "---\n",
        "\n",
        "- Matable, Can be changed\n"
      ]
    },
    {
      "cell_type": "code",
      "metadata": {
        "id": "5deWWmbHoCv7",
        "outputId": "32d0f88c-77b5-43cd-84d3-5ddb7da6c6eb"
      },
      "source": [
        "['a', 'b', 10, 10, 7]"
      ],
      "execution_count": null,
      "outputs": [
        {
          "output_type": "execute_result",
          "data": {
            "text/plain": [
              "['a', 'b', 10, 10, 7]"
            ]
          },
          "metadata": {
            "tags": []
          },
          "execution_count": 34
        }
      ]
    },
    {
      "cell_type": "code",
      "metadata": {
        "id": "uidfyMdDoCv8"
      },
      "source": [
        "l = ['a', 'b', 10, 10, 7]"
      ],
      "execution_count": null,
      "outputs": []
    },
    {
      "cell_type": "code",
      "metadata": {
        "id": "K9VFkSCZoCv8"
      },
      "source": [
        "l[0] = 'hello'"
      ],
      "execution_count": null,
      "outputs": []
    },
    {
      "cell_type": "code",
      "metadata": {
        "id": "CtcSpWr8oCv8",
        "outputId": "d1e0bea9-48e2-4b73-f9cb-28af240134d3"
      },
      "source": [
        "l"
      ],
      "execution_count": null,
      "outputs": [
        {
          "output_type": "execute_result",
          "data": {
            "text/plain": [
              "['hello', 'b', 10, 10, 7]"
            ]
          },
          "metadata": {
            "tags": []
          },
          "execution_count": 87
        }
      ]
    },
    {
      "cell_type": "code",
      "metadata": {
        "id": "Brc2d4ycoCv9"
      },
      "source": [
        "l.append(77)"
      ],
      "execution_count": null,
      "outputs": []
    },
    {
      "cell_type": "code",
      "metadata": {
        "id": "ONZfn781oCv9",
        "outputId": "c97c0bc4-447c-400c-f038-fffad9d7bd28"
      },
      "source": [
        "l"
      ],
      "execution_count": null,
      "outputs": [
        {
          "output_type": "execute_result",
          "data": {
            "text/plain": [
              "['hello', 'b', 10, 10, 7, 77]"
            ]
          },
          "metadata": {
            "tags": []
          },
          "execution_count": 89
        }
      ]
    },
    {
      "cell_type": "markdown",
      "metadata": {
        "id": "gvPHgcWeoCv9"
      },
      "source": [
        "# 2.2) Tuple\n",
        "\n",
        "---\n",
        "\n",
        "- Immutable\n"
      ]
    },
    {
      "cell_type": "code",
      "metadata": {
        "id": "OC6z3AQyoCv9",
        "outputId": "32603391-5400-40d8-e763-910e074e0021"
      },
      "source": [
        "('a', 'b', 10, 10, 7)"
      ],
      "execution_count": null,
      "outputs": [
        {
          "output_type": "execute_result",
          "data": {
            "text/plain": [
              "('a', 'b', 10, 10, 7)"
            ]
          },
          "metadata": {
            "tags": []
          },
          "execution_count": 39
        }
      ]
    },
    {
      "cell_type": "code",
      "metadata": {
        "id": "Zh7zNYSToCv-"
      },
      "source": [
        "t = ('a', 'b', 10, 10, 7)"
      ],
      "execution_count": null,
      "outputs": []
    },
    {
      "cell_type": "code",
      "metadata": {
        "id": "CvAzLOtvoCv-",
        "outputId": "5c8e87f8-f798-478e-cc97-be16e895b252"
      },
      "source": [
        "t[0]"
      ],
      "execution_count": null,
      "outputs": [
        {
          "output_type": "execute_result",
          "data": {
            "text/plain": [
              "'a'"
            ]
          },
          "metadata": {
            "tags": []
          },
          "execution_count": 41
        }
      ]
    },
    {
      "cell_type": "code",
      "metadata": {
        "id": "FrfGkftjoCv-",
        "outputId": "97823d41-c365-4d22-b821-6ba9e62e7a56"
      },
      "source": [
        "#t[0] = 'hello'            #an example of Tuple cannot be changed"
      ],
      "execution_count": null,
      "outputs": [
        {
          "output_type": "error",
          "ename": "TypeError",
          "evalue": "'tuple' object does not support item assignment",
          "traceback": [
            "\u001b[0;31m---------------------------------------------------------------------------\u001b[0m",
            "\u001b[0;31mTypeError\u001b[0m                                 Traceback (most recent call last)",
            "\u001b[0;32m<ipython-input-42-cf6b9af8b690>\u001b[0m in \u001b[0;36m<module>\u001b[0;34m\u001b[0m\n\u001b[0;32m----> 1\u001b[0;31m \u001b[0mt\u001b[0m\u001b[0;34m[\u001b[0m\u001b[0;36m0\u001b[0m\u001b[0;34m]\u001b[0m \u001b[0;34m=\u001b[0m \u001b[0;34m'hello'\u001b[0m\u001b[0;34m\u001b[0m\u001b[0;34m\u001b[0m\u001b[0m\n\u001b[0m",
            "\u001b[0;31mTypeError\u001b[0m: 'tuple' object does not support item assignment"
          ]
        }
      ]
    },
    {
      "cell_type": "markdown",
      "metadata": {
        "id": "9KDXO9AaoCv-"
      },
      "source": [
        "# 2.3) Dictionary\n",
        "\n",
        "---\n",
        "\n",
        "- Consist of a collection of key-value pairs. Each key-value pair maps the key to its associated value\n",
        "\n"
      ]
    },
    {
      "cell_type": "code",
      "metadata": {
        "id": "4TW5-PGvoCv_",
        "outputId": "88f080f7-8d7b-404c-e555-2b17f974da39"
      },
      "source": [
        "{'a':7, 'b':10, 55:2}"
      ],
      "execution_count": null,
      "outputs": [
        {
          "output_type": "execute_result",
          "data": {
            "text/plain": [
              "{'a': 7, 'b': 10, 55: 2}"
            ]
          },
          "metadata": {
            "tags": []
          },
          "execution_count": 43
        }
      ]
    },
    {
      "cell_type": "code",
      "metadata": {
        "id": "ODRZgkF5oCv_"
      },
      "source": [
        "d = {'a':7, 'b':10, 55:2}"
      ],
      "execution_count": null,
      "outputs": []
    },
    {
      "cell_type": "code",
      "metadata": {
        "id": "AGWCztM_oCv_",
        "outputId": "ffd1f34a-3d0d-407c-9930-f8fe756186ab"
      },
      "source": [
        "d['a']"
      ],
      "execution_count": null,
      "outputs": [
        {
          "output_type": "execute_result",
          "data": {
            "text/plain": [
              "7"
            ]
          },
          "metadata": {
            "tags": []
          },
          "execution_count": 45
        }
      ]
    },
    {
      "cell_type": "code",
      "metadata": {
        "id": "5HkWZqTioCv_",
        "outputId": "5217f74d-8c37-4f65-8606-06f21fccc7a3"
      },
      "source": [
        "d[55]"
      ],
      "execution_count": null,
      "outputs": [
        {
          "output_type": "execute_result",
          "data": {
            "text/plain": [
              "2"
            ]
          },
          "metadata": {
            "tags": []
          },
          "execution_count": 46
        }
      ]
    },
    {
      "cell_type": "markdown",
      "metadata": {
        "id": "GwNfRTzZoCv_"
      },
      "source": [
        "# 2.4) Set\n",
        "\n",
        "---\n",
        "\n",
        "\n",
        "* Type I: Mutable set of elements"
      ]
    },
    {
      "cell_type": "code",
      "metadata": {
        "id": "pn2H1s6eoCwA"
      },
      "source": [
        "Set1 = set(['a', 'b', 'b', 10])"
      ],
      "execution_count": null,
      "outputs": []
    },
    {
      "cell_type": "code",
      "metadata": {
        "id": "L9exXeX_uH8P"
      },
      "source": [
        "Set1.add('c')     #Canoot use append on Set"
      ],
      "execution_count": null,
      "outputs": []
    },
    {
      "cell_type": "code",
      "metadata": {
        "colab": {
          "base_uri": "https://localhost:8080/"
        },
        "id": "4pcQDQmAv6lE",
        "outputId": "34ea1600-abf8-4470-d438-6e284629865e"
      },
      "source": [
        "Set1              #Mutable"
      ],
      "execution_count": null,
      "outputs": [
        {
          "output_type": "execute_result",
          "data": {
            "text/plain": [
              "{10, 'a', 'b', 'c'}"
            ]
          },
          "metadata": {
            "tags": []
          },
          "execution_count": 3
        }
      ]
    },
    {
      "cell_type": "markdown",
      "metadata": {
        "id": "W5TnH-W9ueFt"
      },
      "source": [
        "\n",
        "\n",
        "---\n",
        "\n"
      ]
    },
    {
      "cell_type": "markdown",
      "metadata": {
        "id": "u5hxGzV5oCwA"
      },
      "source": [
        "* Type II: Immutable set of elements (FrozenSet)"
      ]
    },
    {
      "cell_type": "code",
      "metadata": {
        "id": "6mM5-idOoCwA"
      },
      "source": [
        "Set2 = frozenset(['a', 'b', 'b', 10])"
      ],
      "execution_count": null,
      "outputs": []
    },
    {
      "cell_type": "code",
      "metadata": {
        "colab": {
          "base_uri": "https://localhost:8080/",
          "height": 163
        },
        "id": "wPxs08ChwH8E",
        "outputId": "9d805197-5c3d-4aca-82ea-f079877715b3"
      },
      "source": [
        "Set2.add('c')      #Not able to add"
      ],
      "execution_count": null,
      "outputs": [
        {
          "output_type": "error",
          "ename": "AttributeError",
          "evalue": "ignored",
          "traceback": [
            "\u001b[0;31m---------------------------------------------------------------------------\u001b[0m",
            "\u001b[0;31mAttributeError\u001b[0m                            Traceback (most recent call last)",
            "\u001b[0;32m<ipython-input-5-cc18c442472b>\u001b[0m in \u001b[0;36m<module>\u001b[0;34m()\u001b[0m\n\u001b[0;32m----> 1\u001b[0;31m \u001b[0mSet2\u001b[0m\u001b[0;34m.\u001b[0m\u001b[0madd\u001b[0m\u001b[0;34m(\u001b[0m\u001b[0;34m'c'\u001b[0m\u001b[0;34m)\u001b[0m\u001b[0;34m\u001b[0m\u001b[0;34m\u001b[0m\u001b[0m\n\u001b[0m",
            "\u001b[0;31mAttributeError\u001b[0m: 'frozenset' object has no attribute 'add'"
          ]
        }
      ]
    },
    {
      "cell_type": "markdown",
      "metadata": {
        "id": "TzJRAxvuoCwA"
      },
      "source": [
        "# Example of using Collections:"
      ]
    },
    {
      "cell_type": "code",
      "metadata": {
        "colab": {
          "base_uri": "https://localhost:8080/"
        },
        "id": "sfpiqEO1oCwA",
        "outputId": "5ff3338b-308f-4709-80c8-4387af8d6f8a"
      },
      "source": [
        "# can contain items of different type.\n",
        "['a', 'b', 10, 10, 7]"
      ],
      "execution_count": null,
      "outputs": [
        {
          "output_type": "execute_result",
          "data": {
            "text/plain": [
              "['a', 'b', 10, 10, 7]"
            ]
          },
          "metadata": {
            "tags": []
          },
          "execution_count": 11
        }
      ]
    },
    {
      "cell_type": "code",
      "metadata": {
        "colab": {
          "base_uri": "https://localhost:8080/"
        },
        "id": "u4xmIVNloCwB",
        "outputId": "dab0ccc5-bff4-4c22-933b-3072101c2c20"
      },
      "source": [
        "# can nest them.\n",
        "[(1,2), (3,4), [5,6,7,8], {'a':2}]"
      ],
      "execution_count": null,
      "outputs": [
        {
          "output_type": "execute_result",
          "data": {
            "text/plain": [
              "[(1, 2), (3, 4), [5, 6, 7, 8], {'a': 2}]"
            ]
          },
          "metadata": {
            "tags": []
          },
          "execution_count": 7
        }
      ]
    },
    {
      "cell_type": "code",
      "metadata": {
        "id": "YgpeqcZgoCwB"
      },
      "source": [
        "# sets do not preserve order."
      ],
      "execution_count": null,
      "outputs": []
    },
    {
      "cell_type": "code",
      "metadata": {
        "colab": {
          "base_uri": "https://localhost:8080/"
        },
        "id": "Rhez0ZdXoCwB",
        "outputId": "46814f2e-4be3-492c-ffa8-870508ad78c8"
      },
      "source": [
        "# dictionary keys must be constant, but can be frozenset or tuple.\n",
        "A = {}\n",
        "A[(1,2)] = 10\n",
        "A[frozenset([2,2,2])] = 33\n",
        "A"
      ],
      "execution_count": null,
      "outputs": [
        {
          "output_type": "execute_result",
          "data": {
            "text/plain": [
              "{(1, 2): 10, frozenset({2}): 33}"
            ]
          },
          "metadata": {
            "tags": []
          },
          "execution_count": 9
        }
      ]
    },
    {
      "cell_type": "code",
      "metadata": {
        "colab": {
          "base_uri": "https://localhost:8080/",
          "height": 163
        },
        "id": "0G5BYPp9oCwB",
        "outputId": "eecfc5d6-80d5-4672-8d3f-2da863d1eeb8"
      },
      "source": [
        "A[[10,2]] = 77"
      ],
      "execution_count": null,
      "outputs": [
        {
          "output_type": "error",
          "ename": "TypeError",
          "evalue": "ignored",
          "traceback": [
            "\u001b[0;31m---------------------------------------------------------------------------\u001b[0m",
            "\u001b[0;31mTypeError\u001b[0m                                 Traceback (most recent call last)",
            "\u001b[0;32m<ipython-input-10-ac4576b814fb>\u001b[0m in \u001b[0;36m<module>\u001b[0;34m()\u001b[0m\n\u001b[0;32m----> 1\u001b[0;31m \u001b[0mA\u001b[0m\u001b[0;34m[\u001b[0m\u001b[0;34m[\u001b[0m\u001b[0;36m10\u001b[0m\u001b[0;34m,\u001b[0m\u001b[0;36m2\u001b[0m\u001b[0;34m]\u001b[0m\u001b[0;34m]\u001b[0m \u001b[0;34m=\u001b[0m \u001b[0;36m77\u001b[0m\u001b[0;34m\u001b[0m\u001b[0;34m\u001b[0m\u001b[0m\n\u001b[0m",
            "\u001b[0;31mTypeError\u001b[0m: unhashable type: 'list'"
          ]
        }
      ]
    },
    {
      "cell_type": "markdown",
      "metadata": {
        "id": "hiBw2LQmoCwC"
      },
      "source": [
        "# 3) Slicing Lists and Strings\n",
        "\n",
        "---\n",
        "\n",
        "- Call specific element(s) in List\n",
        "\n"
      ]
    },
    {
      "cell_type": "code",
      "metadata": {
        "id": "Xand5xo-oCwC",
        "outputId": "a526f710-30a7-42b4-899b-9eedd3390c3f"
      },
      "source": [
        "# can extract subranges from lists and strings.\n",
        "s = 'abcdef'\n",
        "s[0]"
      ],
      "execution_count": null,
      "outputs": [
        {
          "output_type": "execute_result",
          "data": {
            "text/plain": [
              "'a'"
            ]
          },
          "metadata": {
            "tags": []
          },
          "execution_count": 55
        }
      ]
    },
    {
      "cell_type": "code",
      "metadata": {
        "id": "J3k72Jm8oCwC"
      },
      "source": [
        "# abcdef\n",
        "# 012345"
      ],
      "execution_count": null,
      "outputs": []
    },
    {
      "cell_type": "code",
      "metadata": {
        "id": "kRPjaxrtoCwC",
        "outputId": "c8195b80-0ce4-4ff4-c01c-76b75c7def21"
      },
      "source": [
        "s[2:4]    # s[start(inclusive):end(exclusive)]"
      ],
      "execution_count": null,
      "outputs": [
        {
          "output_type": "execute_result",
          "data": {
            "text/plain": [
              "'cd'"
            ]
          },
          "metadata": {
            "tags": []
          },
          "execution_count": 59
        }
      ]
    },
    {
      "cell_type": "code",
      "metadata": {
        "id": "16mFqr9moCwC",
        "outputId": "582a7ea0-6068-4c94-b0c8-2efa54cab1f0"
      },
      "source": [
        "s[2:]"
      ],
      "execution_count": null,
      "outputs": [
        {
          "output_type": "execute_result",
          "data": {
            "text/plain": [
              "'cdef'"
            ]
          },
          "metadata": {
            "tags": []
          },
          "execution_count": 60
        }
      ]
    },
    {
      "cell_type": "code",
      "metadata": {
        "id": "V8b43XA1oCwD",
        "outputId": "eaac2cf9-6536-43ae-f4f3-ebe42be882c7"
      },
      "source": [
        "s[-1]"
      ],
      "execution_count": null,
      "outputs": [
        {
          "output_type": "execute_result",
          "data": {
            "text/plain": [
              "'f'"
            ]
          },
          "metadata": {
            "tags": []
          },
          "execution_count": 61
        }
      ]
    },
    {
      "cell_type": "code",
      "metadata": {
        "id": "-_oKjC0NoCwD",
        "outputId": "6b92e877-485d-46a2-8454-bfb8770bb995"
      },
      "source": [
        "s[3:-2]"
      ],
      "execution_count": null,
      "outputs": [
        {
          "output_type": "execute_result",
          "data": {
            "text/plain": [
              "'d'"
            ]
          },
          "metadata": {
            "tags": []
          },
          "execution_count": 62
        }
      ]
    },
    {
      "cell_type": "code",
      "metadata": {
        "id": "K0xvr3proCwD"
      },
      "source": [
        "L = [11,22,33,44,55]"
      ],
      "execution_count": null,
      "outputs": []
    },
    {
      "cell_type": "code",
      "metadata": {
        "id": "LhQCRuJNoCwD",
        "outputId": "9c6f5d6c-016b-42e0-acdb-b30ad9dde4da"
      },
      "source": [
        "L[3:4]"
      ],
      "execution_count": null,
      "outputs": [
        {
          "output_type": "execute_result",
          "data": {
            "text/plain": [
              "[44]"
            ]
          },
          "metadata": {
            "tags": []
          },
          "execution_count": 69
        }
      ]
    },
    {
      "cell_type": "code",
      "metadata": {
        "id": "WSeYBAVjoCwD",
        "outputId": "02b2fb43-ba3e-43d9-8385-4a88f62588f0"
      },
      "source": [
        "# range(i,j) gives i, i+1, ..., j-1 \n",
        "range(3,5)"
      ],
      "execution_count": null,
      "outputs": [
        {
          "output_type": "execute_result",
          "data": {
            "text/plain": [
              "range(3, 5)"
            ]
          },
          "metadata": {
            "tags": []
          },
          "execution_count": 77
        }
      ]
    },
    {
      "cell_type": "code",
      "metadata": {
        "id": "mS3jXYN9oCwE",
        "outputId": "1506214d-bf64-4652-a399-58cf291f0c6c"
      },
      "source": [
        "# If i is omitted, it is assumed to be 0.\n",
        "range(5)"
      ],
      "execution_count": null,
      "outputs": [
        {
          "output_type": "execute_result",
          "data": {
            "text/plain": [
              "range(0, 5)"
            ]
          },
          "metadata": {
            "tags": []
          },
          "execution_count": 81
        }
      ]
    },
    {
      "cell_type": "code",
      "metadata": {
        "id": "AvX1TQyhoCwE",
        "outputId": "7ab28a14-9867-4010-e950-182f4fc31916"
      },
      "source": [
        "# range(i,j,increment)\n",
        "range(10, 20, 2)"
      ],
      "execution_count": null,
      "outputs": [
        {
          "output_type": "execute_result",
          "data": {
            "text/plain": [
              "range(10, 20, 2)"
            ]
          },
          "metadata": {
            "tags": []
          },
          "execution_count": 91
        }
      ]
    },
    {
      "cell_type": "markdown",
      "metadata": {
        "id": "51Txf8PwoCwE"
      },
      "source": [
        "# 4) Loops\n",
        "\n",
        "---\n",
        "\n"
      ]
    },
    {
      "cell_type": "code",
      "metadata": {
        "id": "5Z75-TMLoCwE",
        "outputId": "53e30aa0-cea7-472c-c594-15ef02f28e02"
      },
      "source": [
        "for i in [1,2,3,4]:\n",
        "    print('i = ', i)"
      ],
      "execution_count": null,
      "outputs": [
        {
          "output_type": "stream",
          "text": [
            "i =  1\n",
            "i =  2\n",
            "i =  3\n",
            "i =  4\n"
          ],
          "name": "stdout"
        }
      ]
    },
    {
      "cell_type": "code",
      "metadata": {
        "id": "Ks9maKZYoCwE",
        "outputId": "b07b2b2f-837a-4da5-85ee-4eff71299226"
      },
      "source": [
        "for i in range(5):\n",
        "    print('i = ', i)"
      ],
      "execution_count": null,
      "outputs": [
        {
          "output_type": "stream",
          "text": [
            "i =  0\n",
            "i =  1\n",
            "i =  2\n",
            "i =  3\n",
            "i =  4\n"
          ],
          "name": "stdout"
        }
      ]
    },
    {
      "cell_type": "code",
      "metadata": {
        "id": "Pt1_-5iaoCwF",
        "outputId": "51be76b6-79b8-40eb-c00b-c26c80264f96"
      },
      "source": [
        "for i in range(5):\n",
        "    if 2<=i<=3:\n",
        "        print('i = ', i)"
      ],
      "execution_count": null,
      "outputs": [
        {
          "output_type": "stream",
          "text": [
            "i =  2\n",
            "i =  3\n"
          ],
          "name": "stdout"
        }
      ]
    },
    {
      "cell_type": "code",
      "metadata": {
        "id": "PTfD5uOroCwF",
        "outputId": "1ff0254f-8937-4239-976a-72dfd49d509b"
      },
      "source": [
        "for i in range(5):\n",
        "    if 2<=i<=3:\n",
        "        print('i = ', i)\n",
        "    else:\n",
        "        print('-i = ', -i)"
      ],
      "execution_count": null,
      "outputs": [
        {
          "output_type": "stream",
          "text": [
            "-i =  0\n",
            "-i =  -1\n",
            "i =  2\n",
            "i =  3\n",
            "-i =  -4\n"
          ],
          "name": "stdout"
        }
      ]
    },
    {
      "cell_type": "code",
      "metadata": {
        "id": "sWDUoznBoCwF",
        "outputId": "4873b8e9-c29c-498c-f6ca-a60883e48d32"
      },
      "source": [
        "i=0\n",
        "while i<5:\n",
        "    print('i = ', i)\n",
        "    i+=1"
      ],
      "execution_count": null,
      "outputs": [
        {
          "output_type": "stream",
          "text": [
            "i =  0\n",
            "i =  1\n",
            "i =  2\n",
            "i =  3\n",
            "i =  4\n"
          ],
          "name": "stdout"
        }
      ]
    },
    {
      "cell_type": "code",
      "metadata": {
        "id": "xI05zNaSoCwF",
        "outputId": "e3bce866-fa1e-43c9-a10c-b7af26dd38ad"
      },
      "source": [
        "i=0\n",
        "while True:\n",
        "    print('i = ', i)\n",
        "    if i>=4:\n",
        "        break\n",
        "    i+=1"
      ],
      "execution_count": null,
      "outputs": [
        {
          "output_type": "stream",
          "text": [
            "i =  0\n",
            "i =  1\n",
            "i =  2\n",
            "i =  3\n",
            "i =  4\n"
          ],
          "name": "stdout"
        }
      ]
    },
    {
      "cell_type": "markdown",
      "metadata": {
        "id": "xs85TvLaoCwF"
      },
      "source": [
        "# 5) Generators\n",
        "\n",
        "---\n",
        "\n"
      ]
    },
    {
      "cell_type": "code",
      "metadata": {
        "id": "erbfhXlVoCwG"
      },
      "source": [
        "# Often it is wasteful to create a list in memory:\n",
        "\n",
        "#for i in range(2**20):\n",
        "#    print(i)\n",
        "\n",
        "# First creates a list of ≈ 1 million items, \n",
        "# then iterates through it."
      ],
      "execution_count": null,
      "outputs": []
    },
    {
      "cell_type": "code",
      "metadata": {
        "colab": {
          "base_uri": "https://localhost:8080/"
        },
        "id": "eokS6lpzoCwG",
        "outputId": "5a66b2bf-7895-4833-e174-c1c06ef71052"
      },
      "source": [
        "import sys\n",
        "\n",
        "x = range(2**20)\n",
        "print(sys.getsizeof(x)) "
      ],
      "execution_count": null,
      "outputs": [
        {
          "output_type": "stream",
          "text": [
            "48\n"
          ],
          "name": "stdout"
        }
      ]
    },
    {
      "cell_type": "code",
      "metadata": {
        "colab": {
          "base_uri": "https://localhost:8080/"
        },
        "id": "7v6G_vsfoCwG",
        "outputId": "1bee22f1-e2fe-42a7-e4a7-d9427f3061ef"
      },
      "source": [
        "import sys\n",
        "\n",
        "if sys.version_info >= (3, 0):\n",
        "    def xrange(*args, **kwargs):\n",
        "        return iter(range(*args, **kwargs))\n",
        "\n",
        "y = xrange(2**20)\n",
        "print(sys.getsizeof(y)) "
      ],
      "execution_count": null,
      "outputs": [
        {
          "output_type": "stream",
          "text": [
            "48\n"
          ],
          "name": "stdout"
        }
      ]
    },
    {
      "cell_type": "code",
      "metadata": {
        "id": "KSDPa_yvoCwG"
      },
      "source": [
        "x = xrange(1,10000)"
      ],
      "execution_count": null,
      "outputs": []
    },
    {
      "cell_type": "markdown",
      "metadata": {
        "id": "7uM-kvhNoCwG"
      },
      "source": [
        "# 6) Function\n",
        "\n",
        "\n",
        "---\n",
        "\n"
      ]
    },
    {
      "cell_type": "code",
      "metadata": {
        "id": "viJuKF2zoCwH",
        "outputId": "755406c8-0f6c-48cd-c12e-dbd2ed450751"
      },
      "source": [
        "def myfunc(x):\n",
        "    out = x**2\n",
        "    return out\n",
        "\n",
        "y = myfunc(3)\n",
        "y"
      ],
      "execution_count": null,
      "outputs": [
        {
          "output_type": "execute_result",
          "data": {
            "text/plain": [
              "9"
            ]
          },
          "metadata": {
            "tags": []
          },
          "execution_count": 23
        }
      ]
    },
    {
      "cell_type": "code",
      "metadata": {
        "id": "2sPZd36HoCwH",
        "outputId": "5792c9d7-f7b6-4c20-eabc-517deba4ba30"
      },
      "source": [
        "f = lambda x: x**2\n",
        "y = f(3) + f(4)\n",
        "print(y)"
      ],
      "execution_count": null,
      "outputs": [
        {
          "output_type": "stream",
          "text": [
            "25\n"
          ],
          "name": "stdout"
        }
      ]
    },
    {
      "cell_type": "code",
      "metadata": {
        "id": "owWHz2vAoCwH",
        "outputId": "549a8d22-2aa3-4501-8a01-ff97411de951"
      },
      "source": [
        "def myfunc2(x):\n",
        "    out1 = x**2\n",
        "    out2 = 10*x\n",
        "    return out1, out2\n",
        "\n",
        "out = myfunc2(3)\n",
        "print(out)"
      ],
      "execution_count": null,
      "outputs": [
        {
          "output_type": "stream",
          "text": [
            "(9, 30)\n"
          ],
          "name": "stdout"
        }
      ]
    },
    {
      "cell_type": "code",
      "metadata": {
        "id": "BDJ7d4hloCwH",
        "outputId": "165e58c1-67c1-4263-c4f6-64953cc41f03"
      },
      "source": [
        "out[0]"
      ],
      "execution_count": null,
      "outputs": [
        {
          "output_type": "execute_result",
          "data": {
            "text/plain": [
              "9"
            ]
          },
          "metadata": {
            "tags": []
          },
          "execution_count": 28
        }
      ]
    }
  ]
}