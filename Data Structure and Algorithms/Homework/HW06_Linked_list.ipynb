{
  "nbformat": 4,
  "nbformat_minor": 0,
  "metadata": {
    "colab": {
      "name": "Assignment_6_Linked_list",
      "provenance": [],
      "authorship_tag": "ABX9TyOnm+7ty7B5+WutqhK00/u2",
      "include_colab_link": true
    },
    "kernelspec": {
      "name": "python3",
      "display_name": "Python 3"
    }
  },
  "cells": [
    {
      "cell_type": "markdown",
      "metadata": {
        "id": "view-in-github",
        "colab_type": "text"
      },
      "source": [
        "<a href=\"https://colab.research.google.com/github/wallik2/University-stuff/blob/main/Data%20Structure%20and%20Algorithms/Homework/Assignment_6_Linked_list.ipynb\" target=\"_parent\"><img src=\"https://colab.research.google.com/assets/colab-badge.svg\" alt=\"Open In Colab\"/></a>"
      ]
    },
    {
      "cell_type": "markdown",
      "metadata": {
        "id": "snbTWK_h2rf-"
      },
      "source": [
        "### Class Linked Stack:"
      ]
    },
    {
      "cell_type": "code",
      "metadata": {
        "id": "2kCRKnpPqHZE"
      },
      "source": [
        "class Empty(Exception):\r\n",
        "    \"\"\"Error attempting to access an element from an empty container.\"\"\"\r\n",
        "    pass\r\n"
      ],
      "execution_count": null,
      "outputs": []
    },
    {
      "cell_type": "code",
      "metadata": {
        "id": "C_lS8ZeWqBcc"
      },
      "source": [
        "class LinkedStack:\r\n",
        "  \"\"\"LIFO Stack implementation using a singly linked list for storage.\"\"\"\r\n",
        "\r\n",
        "  #-------------------------- nested _Node class --------------------------\r\n",
        "  class _Node:\r\n",
        "    \"\"\"Lightweight, nonpublic class for storing a singly linked node.\"\"\"\r\n",
        "    __slots__ = '_element', '_next'         # streamline memory usage\r\n",
        "\r\n",
        "    def __init__(self, element, next):      # initialize node's fields\r\n",
        "      self._element = element               # reference to user's element\r\n",
        "      self._next = next                     # reference to next node\r\n",
        "\r\n",
        "  #------------------------------- stack methods -------------------------------\r\n",
        "  def __init__(self):\r\n",
        "    \"\"\"Create an empty stack.\"\"\"\r\n",
        "    self._head = None                       # reference to the head node\r\n",
        "    self._size = 0                          # number of stack elements\r\n",
        "\r\n",
        "  def __len__(self):\r\n",
        "    \"\"\"Return the number of elements in the stack.\"\"\"\r\n",
        "    return self._size\r\n",
        "\r\n",
        "  def is_empty(self):\r\n",
        "    \"\"\"Return True if the stack is empty.\"\"\"\r\n",
        "    return self._size == 0\r\n",
        "\r\n",
        "  def push(self, e):\r\n",
        "    \"\"\"Add element e to the top of the stack.\"\"\"\r\n",
        "    self._head = self._Node(e, self._head)  # create and link a new node\r\n",
        "    self._size += 1\r\n",
        "\r\n",
        "  def top(self):\r\n",
        "    \"\"\"Return (but do not remove) the element at the top of the stack.\r\n",
        "\r\n",
        "    Raise Empty exception if the stack is empty.\r\n",
        "    \"\"\"\r\n",
        "    if self.is_empty():\r\n",
        "      raise Empty('Stack is empty')\r\n",
        "    return self._head._element              # top of stack is at head of list\r\n",
        "\r\n",
        "  def pop(self):\r\n",
        "    \"\"\"Remove and return the element from the top of the stack (i.e., LIFO).\r\n",
        "\r\n",
        "    Raise Empty exception if the stack is empty.\r\n",
        "    \"\"\"\r\n",
        "    if self.is_empty():\r\n",
        "      raise Empty('Stack is empty')\r\n",
        "    answer = self._head._element\r\n",
        "    self._head = self._head._next           # bypass the former top node\r\n",
        "    self._size -= 1\r\n",
        "    return answer                            #self.total())\r\n"
      ],
      "execution_count": null,
      "outputs": []
    },
    {
      "cell_type": "markdown",
      "metadata": {
        "id": "WWNKcn8R2d8l"
      },
      "source": [
        "#### Handbook of class LinkedStack:"
      ]
    },
    {
      "cell_type": "code",
      "metadata": {
        "colab": {
          "base_uri": "https://localhost:8080/"
        },
        "id": "4yxUWc74qWQ8",
        "outputId": "e029799e-136a-4572-d47f-c39aa871339d"
      },
      "source": [
        "L = LinkedStack()\r\n",
        "print(L.__len__())\r\n",
        "print(L._head)\r\n",
        "print(L.is_empty())\r\n",
        "\r\n",
        "print('==========')\r\n",
        "\r\n",
        "L.push(11)\r\n",
        "print(L.__len__())\r\n",
        "print(L._head._element)\r\n",
        "print(L._head._next)\r\n",
        "print(L.top())\r\n",
        "\r\n",
        "print('==========')\r\n",
        "\r\n",
        "L.push(12)                         # Insert an element at the head\r\n",
        "print(L.__len__())\r\n",
        "print(L._head._element)            # Now 12 is head\r\n",
        "print(L._head._next)\r\n",
        "print(L.top())\r\n",
        "\r\n",
        "print('==========')\r\n",
        "\r\n",
        "L.push('Thirteen')\r\n",
        "print(L.__len__())\r\n",
        "print(L._head._element)\r\n",
        "print(L._head._next._element)\r\n",
        "print(L.top())\r\n",
        "\r\n",
        "\r\n",
        "L.pop()                        \r\n",
        "print(L._head._next)\r\n",
        "print(L.top())"
      ],
      "execution_count": null,
      "outputs": [
        {
          "output_type": "stream",
          "text": [
            "0\n",
            "None\n",
            "True\n",
            "==========\n",
            "1\n",
            "11\n",
            "None\n",
            "11\n",
            "==========\n",
            "2\n",
            "12\n",
            "<__main__.LinkedStack._Node object at 0x7f26fbe79b38>\n",
            "12\n",
            "==========\n",
            "3\n",
            "Thirteen\n",
            "12\n",
            "Thirteen\n",
            "<__main__.LinkedStack._Node object at 0x7f26fbe79b38>\n",
            "12\n"
          ],
          "name": "stdout"
        }
      ]
    },
    {
      "cell_type": "markdown",
      "metadata": {
        "id": "tPAsIZu32WTV"
      },
      "source": [
        "\r\n",
        "\r\n",
        "---\r\n",
        "\r\n"
      ]
    },
    {
      "cell_type": "markdown",
      "metadata": {
        "id": "dwrM-Ggnz0tl"
      },
      "source": [
        "### <font color='coral'>Q1 : Implement this code with the linked list [11,12,...,20] of length 10 and iterate until the element = 19"
      ]
    },
    {
      "cell_type": "code",
      "metadata": {
        "id": "6KBZayrJrd-L"
      },
      "source": [
        "# We need to put 20 to stack first, so we can let the 11 be a head of the linked list \r\n",
        "\r\n",
        "L = LinkedStack()\r\n",
        "\r\n",
        "elements = [i for i in reversed(range(11,21))]\r\n",
        "\r\n",
        "for e in elements:\r\n",
        "  L.push(e)"
      ],
      "execution_count": null,
      "outputs": []
    },
    {
      "cell_type": "code",
      "metadata": {
        "colab": {
          "base_uri": "https://localhost:8080/"
        },
        "id": "AiuYGLXZ1Xvt",
        "outputId": "557400e6-40e1-4ba9-cd70-3e7abad9d211"
      },
      "source": [
        "A = L._head\r\n",
        "\r\n",
        "while A._element != 19:\r\n",
        "  A = A._next\r\n",
        "\r\n",
        "print(A._element)"
      ],
      "execution_count": null,
      "outputs": [
        {
          "output_type": "stream",
          "text": [
            "19\n"
          ],
          "name": "stdout"
        }
      ]
    },
    {
      "cell_type": "markdown",
      "metadata": {
        "id": "9c10uwkQu6Qk"
      },
      "source": [
        "\r\n",
        "\r\n",
        "---\r\n",
        "\r\n"
      ]
    },
    {
      "cell_type": "markdown",
      "metadata": {
        "id": "wafxniiV3KO9"
      },
      "source": [
        "### Class CircularQueue:\r\n",
        "\r\n",
        "- Circular linked list"
      ]
    },
    {
      "cell_type": "code",
      "metadata": {
        "id": "00DhRC5au6E0"
      },
      "source": [
        "class Empty(Exception):\r\n",
        "  \"\"\"Error attempting to access an element from an empty container.\"\"\"\r\n",
        "  pass\r\n",
        "\r\n",
        "class CircularQueue:\r\n",
        "  \"\"\"Queue implementation using circularly linked list for storage.\"\"\"\r\n",
        "\r\n",
        "  #---------------------------------------------------------------------------------\r\n",
        "  # nested _Node class\r\n",
        "  class _Node:\r\n",
        "    \"\"\"Lightweight, nonpublic class for storing a singly linked node.\"\"\"\r\n",
        "    __slots__ = '_element', '_next'         # streamline memory usage\r\n",
        "\r\n",
        "    def __init__(self, element, next):\r\n",
        "      self._element = element\r\n",
        "      self._next = next\r\n",
        "\r\n",
        "  # end of _Node class\r\n",
        "  #---------------------------------------------------------------------------------\r\n",
        "\r\n",
        "  def __init__(self):\r\n",
        "    \"\"\"Create an empty queue.\"\"\"\r\n",
        "    self._tail = None                     # will represent tail of queue\r\n",
        "    self._size = 0                        # number of queue elements\r\n",
        "\r\n",
        "  def __len__(self):\r\n",
        "    \"\"\"Return the number of elements in the queue.\"\"\"\r\n",
        "    return self._size\r\n",
        "\r\n",
        "  def is_empty(self):\r\n",
        "    \"\"\"Return True if the queue is empty.\"\"\"\r\n",
        "    return self._size == 0\r\n",
        "\r\n",
        "  def first(self):\r\n",
        "    \"\"\"Return (but do not remove) the element at the front of the queue.\r\n",
        "\r\n",
        "    Raise Empty exception if the queue is empty.\r\n",
        "    \"\"\"\r\n",
        "    if self.is_empty():\r\n",
        "      raise Empty('Queue is empty')\r\n",
        "    head = self._tail._next\r\n",
        "    return head._element\r\n",
        "\r\n",
        "  def dequeue(self):\r\n",
        "    \"\"\"Remove and return the first element of the queue (i.e., FIFO).\r\n",
        "\r\n",
        "    Raise Empty exception if the queue is empty.\r\n",
        "    \"\"\"\r\n",
        "    if self.is_empty():\r\n",
        "      raise Empty('Queue is empty')\r\n",
        "    oldhead = self._tail._next\r\n",
        "    if self._size == 1:                   # removing only element\r\n",
        "      self._tail = None                   # queue becomes empty\r\n",
        "    else:\r\n",
        "      self._tail._next = oldhead._next    # bypass the old head\r\n",
        "    self._size -= 1\r\n",
        "    return oldhead._element\r\n",
        "\r\n",
        "  def enqueue(self, e):\r\n",
        "    \"\"\"Add an element to the back of queue.\"\"\"\r\n",
        "    newest = self._Node(e, None)          # node will be new tail node\r\n",
        "    if self.is_empty():\r\n",
        "      newest._next = newest               # initialize circularly\r\n",
        "    else:\r\n",
        "      newest._next = self._tail._next     # new node points to head\r\n",
        "      self._tail._next = newest           # old tail points to new node\r\n",
        "    self._tail = newest                   # new node becomes the tail\r\n",
        "    self._size += 1\r\n",
        "\r\n",
        "  def rotate(self):\r\n",
        "    \"\"\"Rotate front element to the back of the queue.\"\"\"\r\n",
        "    if self._size > 0:\r\n",
        "      self._tail = self._tail._next       # old head becomes new tail"
      ],
      "execution_count": null,
      "outputs": []
    },
    {
      "cell_type": "markdown",
      "metadata": {
        "id": "pa1i-scy4pcF"
      },
      "source": [
        "#### Handbook of CircularQueue()"
      ]
    },
    {
      "cell_type": "code",
      "metadata": {
        "colab": {
          "base_uri": "https://localhost:8080/"
        },
        "id": "ADFgk3Wq3bgb",
        "outputId": "279b193b-813e-415c-c755-0e7f6fbcb2b7"
      },
      "source": [
        "\r\n",
        "C = CircularQueue()\r\n",
        "C.enqueue(11)\r\n",
        "print(C.first())\r\n",
        "print(C.__len__())\r\n",
        "\r\n",
        "C.dequeue()\r\n",
        "print(C.__len__())"
      ],
      "execution_count": null,
      "outputs": [
        {
          "output_type": "stream",
          "text": [
            "11\n",
            "1\n",
            "0\n"
          ],
          "name": "stdout"
        }
      ]
    },
    {
      "cell_type": "markdown",
      "metadata": {
        "id": "s5jDEIbd4o39"
      },
      "source": [
        "### <font color='coral'>Q2) Use \"circular_queue.py\" to \r\n",
        "- create a linked list containing 3,5,7,9,11,13\r\n",
        "- Remove 3\r\n",
        "- Remove 13 using Rotate method"
      ]
    },
    {
      "cell_type": "code",
      "metadata": {
        "id": "wZo7symt46z0"
      },
      "source": [
        "# create a linked list containing 3,5,7,9,11,13\r\n",
        "\r\n",
        "C = CircularQueue()\r\n",
        "\r\n",
        "elements_2 = [i for i in range(3,14,2)]\r\n",
        "\r\n",
        "for e in elements_2:\r\n",
        "  C.enqueue(e)"
      ],
      "execution_count": null,
      "outputs": []
    },
    {
      "cell_type": "code",
      "metadata": {
        "colab": {
          "base_uri": "https://localhost:8080/"
        },
        "id": "69SGVXLi4lGW",
        "outputId": "4ab76699-8834-4cf3-994d-b1e40b66b99d"
      },
      "source": [
        "# Remove 3\r\n",
        "\r\n",
        "C.dequeue()"
      ],
      "execution_count": null,
      "outputs": [
        {
          "output_type": "execute_result",
          "data": {
            "text/plain": [
              "3"
            ]
          },
          "metadata": {
            "tags": []
          },
          "execution_count": 65
        }
      ]
    },
    {
      "cell_type": "code",
      "metadata": {
        "colab": {
          "base_uri": "https://localhost:8080/"
        },
        "id": "FpqhNILl36Mt",
        "outputId": "6dc8690e-7434-4dc1-8a3d-4b566cd6b112"
      },
      "source": [
        "# Remove 13 using Rotate method\r\n",
        "\r\n",
        "while C.first() != 13:\r\n",
        "  C.rotate()\r\n",
        "\r\n",
        "C.dequeue()"
      ],
      "execution_count": null,
      "outputs": [
        {
          "output_type": "execute_result",
          "data": {
            "text/plain": [
              "13"
            ]
          },
          "metadata": {
            "tags": []
          },
          "execution_count": 66
        }
      ]
    },
    {
      "cell_type": "code",
      "metadata": {
        "colab": {
          "base_uri": "https://localhost:8080/"
        },
        "id": "UGIB2xA04x7R",
        "outputId": "fe95e92f-313f-4ed8-af95-495c7978b342"
      },
      "source": [
        "# Used to check the current tail & rotate \r\n",
        "\r\n",
        "print(C.first())\r\n",
        "\r\n",
        "C.rotate()"
      ],
      "execution_count": null,
      "outputs": [
        {
          "output_type": "stream",
          "text": [
            "7\n"
          ],
          "name": "stdout"
        }
      ]
    }
  ]
}
