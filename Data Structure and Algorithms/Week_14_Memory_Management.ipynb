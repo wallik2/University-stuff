{
  "nbformat": 4,
  "nbformat_minor": 0,
  "metadata": {
    "colab": {
      "name": "Week 14: Memory Management.ipynb",
      "provenance": [],
      "authorship_tag": "ABX9TyNFLGKb/AuTkSPq2+bTZJxQ",
      "include_colab_link": true
    },
    "kernelspec": {
      "name": "python3",
      "display_name": "Python 3"
    },
    "language_info": {
      "name": "python"
    }
  },
  "cells": [
    {
      "cell_type": "markdown",
      "metadata": {
        "id": "view-in-github",
        "colab_type": "text"
      },
      "source": [
        "<a href=\"https://colab.research.google.com/github/wallik2/University-stuff/blob/main/Data%20Structure%20and%20Algorithms/Week_14_Memory_Management.ipynb\" target=\"_parent\"><img src=\"https://colab.research.google.com/assets/colab-badge.svg\" alt=\"Open In Colab\"/></a>"
      ]
    },
    {
      "cell_type": "markdown",
      "metadata": {
        "id": "ekuo5Rd8OCyM"
      },
      "source": [
        "- The Heap Space contains all objects are created\n",
        "- Stack contains any reference (variable) to those objects. \n",
        "\n",
        "> Objects stored in the Heap can be accessed throughout the application. Primitive local variables are only accessed the Stack Memory blocks that contain their methods."
      ]
    },
    {
      "cell_type": "markdown",
      "metadata": {
        "id": "jLqI23qsNJ9b"
      },
      "source": [
        "<fieldset>\n",
        "\n",
        "To make it simple,\n",
        "\n",
        "- Heap is a data type or object (such as variable, dict, integer, str,  class etc.)\n",
        "- Stack is a reference (variable)"
      ]
    },
    {
      "cell_type": "markdown",
      "metadata": {
        "id": "i0F7Cvg3OaDT"
      },
      "source": [
        "![image.png](data:image/png;base64,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)"
      ]
    },
    {
      "cell_type": "markdown",
      "metadata": {
        "id": "3mSd4lWkOd9T"
      },
      "source": [
        "Suppose A = 3, then A will be stored in Stack memory, and int 3 will be the reference"
      ]
    },
    {
      "cell_type": "markdown",
      "metadata": {
        "id": "lZMaQmHCPq_D"
      },
      "source": [
        "<u>Ex 1</u> :"
      ]
    },
    {
      "cell_type": "code",
      "metadata": {
        "id": "63vBzeD2NawV"
      },
      "source": [
        "class Employee:\n",
        "  def __init__(self,name,age):\n",
        "    self.name = name\n",
        "    self.age = age\n",
        "  \n",
        "e= Employee('Saran',20)"
      ],
      "execution_count": null,
      "outputs": []
    },
    {
      "cell_type": "markdown",
      "metadata": {
        "id": "58sPk1VPQwqE"
      },
      "source": [
        "> when e is created, it will be stored in somewhere in the **Heap memory**, as we known that the heap memory stores the object"
      ]
    },
    {
      "cell_type": "markdown",
      "metadata": {
        "id": "CPyVPKE5RMS8"
      },
      "source": [
        "\n",
        "\n",
        "---\n",
        "\n"
      ]
    },
    {
      "cell_type": "markdown",
      "metadata": {
        "id": "mTJ3J_xmRXTr"
      },
      "source": [
        "<u>Ex 2</u> :"
      ]
    },
    {
      "cell_type": "markdown",
      "metadata": {
        "id": "pozAvll2SzXV"
      },
      "source": [
        "<font size=\"5\"> Heap memory"
      ]
    },
    {
      "cell_type": "markdown",
      "metadata": {
        "id": "NPNj7HBrIrBh"
      },
      "source": [
        "> Case 1 : If all variables are store the same value"
      ]
    },
    {
      "cell_type": "code",
      "metadata": {
        "id": "vjU2dv6ORVUz"
      },
      "source": [
        "# stack (variable) = heap (reference) \n",
        "\n",
        "\n",
        "var1 = 100\n",
        "var2 = var1\n",
        "var3 = 100"
      ],
      "execution_count": null,
      "outputs": []
    },
    {
      "cell_type": "code",
      "metadata": {
        "colab": {
          "base_uri": "https://localhost:8080/"
        },
        "id": "y9-h5J_aRgUT",
        "outputId": "80b7baf2-fe24-44d6-fc8d-a4fd63e2c22c"
      },
      "source": [
        "# Memory location address will point to just one address\n",
        "\n",
        "print(id(var1))\n",
        "\n",
        "print(id(var2))\n",
        "\n",
        "print(id(var3))"
      ],
      "execution_count": null,
      "outputs": [
        {
          "output_type": "stream",
          "text": [
            "94140068783712\n",
            "94140068783712\n",
            "94140068783712\n"
          ],
          "name": "stdout"
        }
      ]
    },
    {
      "cell_type": "code",
      "metadata": {
        "id": "nIXYXro1JWlC"
      },
      "source": [
        "# ! All point to same memory address"
      ],
      "execution_count": null,
      "outputs": []
    },
    {
      "cell_type": "markdown",
      "metadata": {
        "id": "9fHeNfnEI55Q"
      },
      "source": [
        "> Case 2 : If all variables are store the different value"
      ]
    },
    {
      "cell_type": "code",
      "metadata": {
        "id": "gN5FDvLFXMle"
      },
      "source": [
        "var1 = 100\n",
        "var2 = var1\n",
        "\n",
        "#Now var3 changed the value\n",
        "var3 = 105"
      ],
      "execution_count": null,
      "outputs": []
    },
    {
      "cell_type": "code",
      "metadata": {
        "id": "oKoTC0TIXPa-",
        "colab": {
          "base_uri": "https://localhost:8080/"
        },
        "outputId": "9eae111f-2c5b-4c2e-c513-54dceed30f27"
      },
      "source": [
        "# Memory location address will point to just different addresses now, since var3 point at a difference\n",
        "print(id(var1))\n",
        "\n",
        "print(id(var2))\n",
        "\n",
        "print(id(var3))"
      ],
      "execution_count": null,
      "outputs": [
        {
          "output_type": "stream",
          "text": [
            "94140068783712\n",
            "94140068783712\n",
            "94140068783872\n"
          ],
          "name": "stdout"
        }
      ]
    },
    {
      "cell_type": "markdown",
      "metadata": {
        "id": "7iDej0_KTCWU"
      },
      "source": [
        "\n",
        "\n",
        "---\n",
        "\n"
      ]
    },
    {
      "cell_type": "markdown",
      "metadata": {
        "id": "sK70bgovS52j"
      },
      "source": [
        "<u>Ex 3:</u>\n"
      ]
    },
    {
      "cell_type": "markdown",
      "metadata": {
        "id": "wcO_p74SS_ib"
      },
      "source": [
        "\n",
        "<font size=\"5\"> Stack Memory"
      ]
    },
    {
      "cell_type": "markdown",
      "metadata": {
        "id": "QQSsSxqzKJsA"
      },
      "source": [
        "> Now, let's check the reference counts"
      ]
    },
    {
      "cell_type": "code",
      "metadata": {
        "colab": {
          "base_uri": "https://localhost:8080/"
        },
        "id": "YBBccSbRKGnC",
        "outputId": "c6b9236b-d23b-434b-f7f8-1bf44d449683"
      },
      "source": [
        "import sys\n",
        "\n",
        "sys.getrefcount(var1)"
      ],
      "execution_count": null,
      "outputs": [
        {
          "output_type": "execute_result",
          "data": {
            "text/plain": [
              "173"
            ]
          },
          "metadata": {
            "tags": []
          },
          "execution_count": 3
        }
      ]
    },
    {
      "cell_type": "markdown",
      "metadata": {
        "id": "1Zmb_TLmKXti"
      },
      "source": [
        "- currently we have 178 reference counts of var1, and suppose we assigned one more variable (var4) which has the same value as var 1\n",
        "\n",
        "- The integer 100 has **173 reference counts**, (which two of them including in var 1"
      ]
    },
    {
      "cell_type": "code",
      "metadata": {
        "colab": {
          "base_uri": "https://localhost:8080/"
        },
        "id": "M5PElEqRKUUp",
        "outputId": "82bd6ee4-da57-4dfd-bee6-7a9a431140e3"
      },
      "source": [
        "var4 = var1\n",
        "\n",
        "sys.getrefcount(var1)"
      ],
      "execution_count": null,
      "outputs": [
        {
          "output_type": "execute_result",
          "data": {
            "text/plain": [
              "174"
            ]
          },
          "metadata": {
            "tags": []
          },
          "execution_count": 4
        }
      ]
    },
    {
      "cell_type": "code",
      "metadata": {
        "colab": {
          "base_uri": "https://localhost:8080/"
        },
        "id": "3yeY8qmiLjGq",
        "outputId": "425bdd02-6884-4084-e526-9dd10fb7692a"
      },
      "source": [
        "# This is why heap memory is flexible because the memory size can be changed\n",
        "\n",
        "# Remove var4 to reduce memory size\n",
        "del var4\n",
        "\n",
        "sys.getrefcount(var1)"
      ],
      "execution_count": null,
      "outputs": [
        {
          "output_type": "execute_result",
          "data": {
            "text/plain": [
              "173"
            ]
          },
          "metadata": {
            "tags": []
          },
          "execution_count": 6
        }
      ]
    },
    {
      "cell_type": "code",
      "metadata": {
        "colab": {
          "base_uri": "https://localhost:8080/"
        },
        "id": "dk3_lo60BDCZ",
        "outputId": "3e0c8856-23aa-4475-b752-980e3da078cc"
      },
      "source": [
        "sys.getrefcount(var2)"
      ],
      "execution_count": null,
      "outputs": [
        {
          "output_type": "execute_result",
          "data": {
            "text/plain": [
              "173"
            ]
          },
          "metadata": {
            "tags": []
          },
          "execution_count": 7
        }
      ]
    },
    {
      "cell_type": "markdown",
      "metadata": {
        "id": "IsuE8LnSO6TL"
      },
      "source": [
        "\n",
        "\n",
        "---\n",
        "\n"
      ]
    },
    {
      "cell_type": "markdown",
      "metadata": {
        "id": "vQO-mmoQPCVq"
      },
      "source": [
        "<u><font size=\"5\"> Type of object"
      ]
    },
    {
      "cell_type": "markdown",
      "metadata": {
        "id": "3yq9JiGEPcr7"
      },
      "source": [
        "> stored in stack memory"
      ]
    },
    {
      "cell_type": "markdown",
      "metadata": {
        "id": "QI-F5ARMPDlK"
      },
      "source": [
        "1. Simple Object (Number, strings, boolean etc.)\n",
        "\n",
        "2. Container objects (Lists, Dictionaries, Tuple, set etc.)\n",
        "\n",
        "3. User-Defined custom classes (Employee class etc.)"
      ]
    },
    {
      "cell_type": "markdown",
      "metadata": {
        "id": "XKrTMcyMRamd"
      },
      "source": [
        "\n",
        "\n",
        "---\n",
        "\n",
        "\n",
        "\n",
        "---\n",
        "\n"
      ]
    },
    {
      "cell_type": "markdown",
      "metadata": {
        "id": "hKxCnmubRbN8"
      },
      "source": [
        "<u><font size=\"5\"> Tips to speed up Python code"
      ]
    },
    {
      "cell_type": "markdown",
      "metadata": {
        "id": "s2uufsoUaBMW"
      },
      "source": [
        "<u>Ex 1:</u>"
      ]
    },
    {
      "cell_type": "markdown",
      "metadata": {
        "id": "Gh6pW7Q1WlR-"
      },
      "source": [
        "<font color='tomato'><font size=\"5\"> Problem: High memory footprint\n"
      ]
    },
    {
      "cell_type": "code",
      "metadata": {
        "colab": {
          "base_uri": "https://localhost:8080/"
        },
        "id": "4109kAzKTqLs",
        "outputId": "b9a300af-fea9-4542-eee0-4488640ecb0f"
      },
      "source": [
        "msg = 'line1\\n'\n",
        "print(id(msg))   #'line1\\n' stored in this heap memo address\n",
        "\n",
        "msg += 'line2\\n'\n",
        "print(id(msg))   #'line1\\nline2\\n' stored in this heap memo address\n",
        "\n",
        "msg += 'line3\\n'\n",
        "print(id(msg))   #'line1\\nline2\\nline3\\n' stored in this heap memo address\n"
      ],
      "execution_count": null,
      "outputs": [
        {
          "output_type": "stream",
          "text": [
            "140371399815664\n",
            "140371399524400\n",
            "140371399605344\n"
          ],
          "name": "stdout"
        }
      ]
    },
    {
      "cell_type": "markdown",
      "metadata": {
        "id": "pDqBDaXmW44d"
      },
      "source": [
        "- This is inefficient, since the old msg will get copied and will be reuseed, which waste al lot of time, which cause the momory footprint"
      ]
    },
    {
      "cell_type": "markdown",
      "metadata": {
        "id": "IO9jl0tuWVP9"
      },
      "source": [
        "> These above code used a lot of heap memory"
      ]
    },
    {
      "cell_type": "markdown",
      "metadata": {
        "id": "lavCrOlKWwtO"
      },
      "source": [
        "<font color='spinach'><font size=\"5\"> Solution:"
      ]
    },
    {
      "cell_type": "code",
      "metadata": {
        "colab": {
          "base_uri": "https://localhost:8080/",
          "height": 34
        },
        "id": "74P-eGJqWjMl",
        "outputId": "7e613b7c-7d51-48de-9cfc-ee9c97f3972c"
      },
      "source": [
        "msg = ['line1','line2','line3']\n",
        "'\\n'.join(msg)"
      ],
      "execution_count": null,
      "outputs": [
        {
          "output_type": "execute_result",
          "data": {
            "application/vnd.google.colaboratory.intrinsic+json": {
              "type": "string"
            },
            "text/plain": [
              "'line1\\nline2\\nline3'"
            ]
          },
          "metadata": {
            "tags": []
          },
          "execution_count": 72
        }
      ]
    },
    {
      "cell_type": "markdown",
      "metadata": {
        "id": "zWa8YcNUY_rX"
      },
      "source": [
        "- This is better, we don't have to copy the str again and again, but rather we just join "
      ]
    },
    {
      "cell_type": "markdown",
      "metadata": {
        "id": "5JuXg5pldnom"
      },
      "source": [
        "\n",
        "\n",
        "---\n",
        "\n"
      ]
    },
    {
      "cell_type": "markdown",
      "metadata": {
        "id": "hfoZmonhaGaO"
      },
      "source": [
        "<u>Ex 2:</u>"
      ]
    },
    {
      "cell_type": "markdown",
      "metadata": {
        "id": "4Qjkt9pJamx_"
      },
      "source": [
        ""
      ]
    },
    {
      "cell_type": "code",
      "metadata": {
        "id": "c4MpclPIWUbF"
      },
      "source": [
        "my_var = 'nice'"
      ],
      "execution_count": null,
      "outputs": []
    },
    {
      "cell_type": "markdown",
      "metadata": {
        "id": "T0m9ESP9b7LP"
      },
      "source": [
        "Better avoid use concateness or + operator on strings"
      ]
    },
    {
      "cell_type": "code",
      "metadata": {
        "id": "J9jWXjQMaw2M"
      },
      "source": [
        "#slow\n",
        "\n",
        "msg = 'hello' + my_var + 'world'"
      ],
      "execution_count": null,
      "outputs": []
    },
    {
      "cell_type": "code",
      "metadata": {
        "colab": {
          "base_uri": "https://localhost:8080/",
          "height": 34
        },
        "id": "7q0fF7Pza71H",
        "outputId": "3b1e5b02-d21a-450e-8225-fba6970c8c69"
      },
      "source": [
        "# faster\n",
        "msg = 'hello {} world'.format(my_var)"
      ],
      "execution_count": null,
      "outputs": [
        {
          "output_type": "execute_result",
          "data": {
            "application/vnd.google.colaboratory.intrinsic+json": {
              "type": "string"
            },
            "text/plain": [
              "'hello nice world'"
            ]
          },
          "metadata": {
            "tags": []
          },
          "execution_count": 76
        }
      ]
    },
    {
      "cell_type": "code",
      "metadata": {
        "colab": {
          "base_uri": "https://localhost:8080/",
          "height": 34
        },
        "id": "FYNWvSlwbsVI",
        "outputId": "ad5ab691-4348-4963-9b35-15080b3954ec"
      },
      "source": [
        "# and even more faster\n",
        "msg = 'hello %s world' % my_var"
      ],
      "execution_count": null,
      "outputs": [
        {
          "output_type": "execute_result",
          "data": {
            "application/vnd.google.colaboratory.intrinsic+json": {
              "type": "string"
            },
            "text/plain": [
              "'hello nice world'"
            ]
          },
          "metadata": {
            "tags": []
          },
          "execution_count": 77
        }
      ]
    },
    {
      "cell_type": "code",
      "metadata": {
        "id": "AtXd3WbocHm1"
      },
      "source": [
        "# the fastest (called f-strings)\n",
        "\n",
        "msg = f'hello {my_var} world'"
      ],
      "execution_count": null,
      "outputs": []
    },
    {
      "cell_type": "markdown",
      "metadata": {
        "id": "ofgzhvl8cdj3"
      },
      "source": [
        "<fieldset>\n",
        "\n",
        "So, here is the ranking from the slowest to the fastest\n",
        "\n",
        "1. Using Concateness or '+' operator 🤭\n",
        "2. using format function\n",
        "3. Using %\n",
        "4. Using f-strings 🥇"
      ]
    },
    {
      "cell_type": "markdown",
      "metadata": {
        "id": "8WJeShv0d2W4"
      },
      "source": [
        "\n",
        "\n",
        "---\n",
        "\n"
      ]
    },
    {
      "cell_type": "markdown",
      "metadata": {
        "id": "qqcf4qOHd1Kg"
      },
      "source": [
        "<u>Ex 3:</u>"
      ]
    },
    {
      "cell_type": "markdown",
      "metadata": {
        "id": "MD4gW5IWd7OQ"
      },
      "source": [
        "if variable == True: is slower than if variable:"
      ]
    },
    {
      "cell_type": "code",
      "metadata": {
        "id": "gD4uiQz8dFtf"
      },
      "source": [
        "#Slow\n",
        "\n",
        "flag = True\n",
        "\n",
        "if flag == True:\n",
        "    print(\"This works, but is not the preferred PEP 8 pattern\")\n"
      ],
      "execution_count": null,
      "outputs": []
    },
    {
      "cell_type": "code",
      "metadata": {
        "id": "xfpNejjldrGf"
      },
      "source": [
        "#faster\n",
        "\n",
        "flag = True\n",
        "\n",
        "if flag:\n",
        "    print(\"PEP 8 Style Guide prefers this pattern\")"
      ],
      "execution_count": null,
      "outputs": []
    },
    {
      "cell_type": "markdown",
      "metadata": {
        "id": "r9QtmmPhc6Af"
      },
      "source": [
        "\n",
        "\n",
        "---\n",
        "\n"
      ]
    },
    {
      "cell_type": "markdown",
      "metadata": {
        "id": "7x2rpDlTeLLX"
      },
      "source": [
        "<u>Ex 4:</u>"
      ]
    },
    {
      "cell_type": "markdown",
      "metadata": {
        "id": "74xjBEa2ecFo"
      },
      "source": [
        "List comprehensions are known to perform, in general, better than for loops as they do not need to call the append function at each iteration"
      ]
    },
    {
      "cell_type": "code",
      "metadata": {
        "colab": {
          "base_uri": "https://localhost:8080/"
        },
        "id": "J69deFhbed3Y",
        "outputId": "77416383-0613-4776-cb15-6f69a1184088"
      },
      "source": [
        "# slow ( for loop list )\n",
        "\n",
        "x = [1, 2, 3, 4, 5, 6]\n",
        "result = []\n",
        "\n",
        "for idx in range(len(x)):\n",
        "  result.append(x[idx]*2)\n",
        "\n",
        "print(result)\n"
      ],
      "execution_count": null,
      "outputs": [
        {
          "output_type": "stream",
          "text": [
            "[2, 4, 6, 8, 10, 12]\n"
          ],
          "name": "stdout"
        }
      ]
    },
    {
      "cell_type": "code",
      "metadata": {
        "colab": {
          "base_uri": "https://localhost:8080/"
        },
        "id": "Js5m9jsMexgo",
        "outputId": "d5fe1ffe-d3a0-4f85-8684-77932d036d71"
      },
      "source": [
        "x = [1, 2, 3, 4, 5, 6]\n",
        "\n",
        "result = [(element * 2) for element in x]\n",
        "\n",
        "print(result)"
      ],
      "execution_count": null,
      "outputs": [
        {
          "output_type": "stream",
          "text": [
            "[2, 4, 6, 8, 10, 12]\n"
          ],
          "name": "stdout"
        }
      ]
    },
    {
      "cell_type": "markdown",
      "metadata": {
        "id": "gX8SsEsLgRfx"
      },
      "source": [
        "\n",
        "\n",
        "---\n",
        "\n"
      ]
    },
    {
      "cell_type": "markdown",
      "metadata": {
        "id": "1ws4qYaUgUTC"
      },
      "source": [
        "<u>Ex 5:</u>"
      ]
    },
    {
      "cell_type": "markdown",
      "metadata": {
        "id": "QIopjMjZgxSY"
      },
      "source": [
        "ref: https://stackoverflow.com/questions/22442378/what-is-the-difference-between-sortedlist-vs-list-sort"
      ]
    },
    {
      "cell_type": "markdown",
      "metadata": {
        "id": "UtcfUAjwgSNw"
      },
      "source": [
        "> For lists, list.sort() is faster than sorted() because it doesn't have to create a copy. For any other iterable, you have no choice."
      ]
    },
    {
      "cell_type": "code",
      "metadata": {
        "colab": {
          "base_uri": "https://localhost:8080/"
        },
        "id": "7ZUGIsNqg11J",
        "outputId": "f22ee66f-a191-4ad3-f969-3348b6f5533c"
      },
      "source": [
        "mylist = [58, 9, 16, 25]\n",
        "mylist.sort()\n",
        "mylist"
      ],
      "execution_count": null,
      "outputs": [
        {
          "output_type": "execute_result",
          "data": {
            "text/plain": [
              "[9, 16, 25, 58]"
            ]
          },
          "metadata": {
            "tags": []
          },
          "execution_count": 82
        }
      ]
    },
    {
      "cell_type": "code",
      "metadata": {
        "colab": {
          "base_uri": "https://localhost:8080/"
        },
        "id": "gA1qc2p7iHJ5",
        "outputId": "c996054b-6c29-4a04-b2ba-2a66d6ab5dbd"
      },
      "source": [
        "mylist2 = [58, 9, 16, 25]\n",
        "sorted(mylist2)\n",
        "mylist2\n",
        "\n",
        "#If you want to do like sort\n",
        "\n",
        "mylist2 = sorted(mylist2)\n",
        "mylist2\n"
      ],
      "execution_count": null,
      "outputs": [
        {
          "output_type": "execute_result",
          "data": {
            "text/plain": [
              "[9, 16, 25, 58]"
            ]
          },
          "metadata": {
            "tags": []
          },
          "execution_count": 85
        }
      ]
    },
    {
      "cell_type": "markdown",
      "metadata": {
        "id": "9oPbNyWvj0wT"
      },
      "source": [
        "\n",
        "\n",
        "---\n",
        "\n",
        "\n",
        "\n",
        "---\n",
        "\n"
      ]
    },
    {
      "cell_type": "markdown",
      "metadata": {
        "id": "Yp5HPI4Mj1na"
      },
      "source": [
        "<u><font size=\"5\"> How to capture the run time"
      ]
    },
    {
      "cell_type": "markdown",
      "metadata": {
        "id": "edQAVByblmPz"
      },
      "source": [
        "Using **timeit** built-in function which ignore, which is more accurate than **time**\n",
        "<fieldset>\n",
        "\n",
        "timeit is more accurate, for three reasons:\n",
        "\n",
        "1. it repeats the tests many times to eliminate the influence of other tasks on your machine, such as disk flushing and OS scheduling.\n",
        "\n",
        "2. it disables the garbage collector to prevent that process from skewing the results by scheduling a collection run at an inopportune moment.\n",
        "\n",
        "3. it picks the most accurate timer for your OS, time.time or time.clock in Python 2 and time.perf_counter() on Python 3. See timeit.default_timer.\n",
        "</fieldset>\n",
        "\n",
        "ref: https://stackoverflow.com/questions/17579357/time-time-vs-timeit-timeit"
      ]
    },
    {
      "cell_type": "code",
      "metadata": {
        "colab": {
          "base_uri": "https://localhost:8080/"
        },
        "id": "9j7PzD3VistZ",
        "outputId": "9de23bd8-8753-4f1d-ca2c-a9dcc5f6c021"
      },
      "source": [
        "import timeit\n",
        "\n",
        "starttime = timeit.default_timer()\n",
        "\n",
        "oldlist = ['hello','my','world']\n",
        "newlist = []\n",
        "\n",
        "for word in oldlist:\n",
        "  newlist.append(word.upper())\n",
        "\n",
        "endtime = timeit.default_timer()\n",
        "\n",
        "print(f'elapsed time = {endtime-starttime}')"
      ],
      "execution_count": null,
      "outputs": [
        {
          "output_type": "stream",
          "text": [
            "elapsed time = 0.00014443300005950732\n"
          ],
          "name": "stdout"
        }
      ]
    },
    {
      "cell_type": "code",
      "metadata": {
        "colab": {
          "base_uri": "https://localhost:8080/"
        },
        "id": "ghEdFdf9m9Eu",
        "outputId": "f1a640f9-cb08-42b6-87be-7d8734736a73"
      },
      "source": [
        "#slow\n",
        "starttime = timeit.default_timer()\n",
        "\n",
        "msg = 'hello' + my_var + 'world'\n",
        "\n",
        "endtime = timeit.default_timer()\n",
        "\n",
        "print(f'elapsed time = {endtime-starttime}')"
      ],
      "execution_count": null,
      "outputs": [
        {
          "output_type": "stream",
          "text": [
            "elapsed time = 5.269999928714242e-05\n"
          ],
          "name": "stdout"
        }
      ]
    },
    {
      "cell_type": "code",
      "metadata": {
        "colab": {
          "base_uri": "https://localhost:8080/"
        },
        "id": "tu-hFxtYm9E0",
        "outputId": "d6f24f92-d265-4022-ea61-ce30a8ab95cf"
      },
      "source": [
        "# faster\n",
        "starttime = timeit.default_timer()\n",
        "msg = 'hello {} world'.format(my_var)\n",
        "\n",
        "endtime = timeit.default_timer()\n",
        "\n",
        "print(f'elapsed time = {endtime-starttime}')  "
      ],
      "execution_count": null,
      "outputs": [
        {
          "output_type": "stream",
          "text": [
            "elapsed time = 0.001318340000580065\n"
          ],
          "name": "stdout"
        }
      ]
    },
    {
      "cell_type": "code",
      "metadata": {
        "colab": {
          "base_uri": "https://localhost:8080/"
        },
        "id": "9nWXPNcJm9E0",
        "outputId": "db68399c-01d2-4288-cbe5-a35ef5a7bc68"
      },
      "source": [
        "# and even more faster\n",
        "starttime = timeit.default_timer()\n",
        "\n",
        "msg = 'hello %s world' % my_var\n",
        "\n",
        "endtime = timeit.default_timer()\n",
        "\n",
        "print(f'elapsed time = {endtime-starttime}')"
      ],
      "execution_count": null,
      "outputs": [
        {
          "output_type": "stream",
          "text": [
            "elapsed time = 7.682999967073556e-05\n"
          ],
          "name": "stdout"
        }
      ]
    },
    {
      "cell_type": "code",
      "metadata": {
        "colab": {
          "base_uri": "https://localhost:8080/"
        },
        "id": "NQMXILGJm9E0",
        "outputId": "752f18ae-5248-412c-fa17-2ea023c50ff0"
      },
      "source": [
        "# the fastest (called f-strings)\n",
        "starttime = timeit.default_timer()\n",
        "\n",
        "msg = f'hello {my_var} world'\n",
        "\n",
        "endtime = timeit.default_timer()\n",
        "\n",
        "print(f'elapsed time = {endtime-starttime}')"
      ],
      "execution_count": null,
      "outputs": [
        {
          "output_type": "stream",
          "text": [
            "elapsed time = 8.560300011595245e-05\n"
          ],
          "name": "stdout"
        }
      ]
    },
    {
      "cell_type": "markdown",
      "metadata": {
        "id": "_MZkD2smnm87"
      },
      "source": [
        "\n",
        "\n",
        "---\n",
        "\n",
        "\n",
        "\n",
        "---\n",
        "\n"
      ]
    },
    {
      "cell_type": "markdown",
      "metadata": {
        "id": "YuUJJ0OCntiz"
      },
      "source": [
        "<u><font size=\"5\"> Using Generators"
      ]
    },
    {
      "cell_type": "markdown",
      "metadata": {
        "id": "X9ubmNO2nxaK"
      },
      "source": [
        "> unlike function, Generators iteratively return multiple times (using **yield** keyword)\n",
        "\n",
        "> This mean that if you have a large dataset, you don't have to wait fo the entire dataset to be accessible"
      ]
    },
    {
      "cell_type": "code",
      "metadata": {
        "id": "W41FdSXjnlyM"
      },
      "source": [
        "# define the generator\n",
        "\n",
        "def series_generator(low, high):\n",
        "  while low <= high:\n",
        "    yield low**2\n",
        "    low += 1"
      ],
      "execution_count": null,
      "outputs": []
    },
    {
      "cell_type": "code",
      "metadata": {
        "colab": {
          "base_uri": "https://localhost:8080/"
        },
        "id": "B7slwsm0ohLs",
        "outputId": "859c3ec7-5635-4979-b57a-4857156a2284"
      },
      "source": [
        "#Using range\n",
        "\n",
        "n_list = []\n",
        "\n",
        "for num in range(1, 10):\n",
        "  n_list.append(num**2)\n",
        "\n",
        "print(n_list)"
      ],
      "execution_count": null,
      "outputs": [
        {
          "output_type": "stream",
          "text": [
            "[1, 4, 9, 16, 25, 36, 49, 64, 81]\n"
          ],
          "name": "stdout"
        }
      ]
    },
    {
      "cell_type": "code",
      "metadata": {
        "colab": {
          "base_uri": "https://localhost:8080/"
        },
        "id": "I4z6Lpx6oxRz",
        "outputId": "f64d3360-42de-44f8-8384-75e5b82506ce"
      },
      "source": [
        "#Using generator to append\n",
        "\n",
        "n_list = []\n",
        "\n",
        "for num in series_generator(1,10):\n",
        "  n_list.append(num)\n",
        "\n",
        "print(n_list)"
      ],
      "execution_count": null,
      "outputs": [
        {
          "output_type": "stream",
          "text": [
            "[1, 4, 9, 16, 25, 36, 49, 64, 81, 100]\n"
          ],
          "name": "stdout"
        }
      ]
    }
  ]
}