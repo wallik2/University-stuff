{
  "nbformat": 4,
  "nbformat_minor": 0,
  "metadata": {
    "colab": {
      "name": "HW11_12_Time series regression (AAPL)",
      "provenance": [],
      "toc_visible": true,
      "mount_file_id": "1iz_DlcVl3-8heDhWoUB1SpJA5xfHYfzD",
      "authorship_tag": "ABX9TyOvvfw9HBFDnWG9zIhnftkM",
      "include_colab_link": true
    },
    "kernelspec": {
      "name": "python3",
      "display_name": "Python 3"
    },
    "language_info": {
      "name": "python"
    }
  },
  "cells": [
    {
      "cell_type": "markdown",
      "metadata": {
        "id": "view-in-github",
        "colab_type": "text"
      },
      "source": [
        "<a href=\"https://colab.research.google.com/github/wallik2/University-stuff/blob/main/Intro_Data_Sci/Homework/HW11_12_Time_series_regression_(AAPL).ipynb\" target=\"_parent\"><img src=\"https://colab.research.google.com/assets/colab-badge.svg\" alt=\"Open In Colab\"/></a>"
      ]
    },
    {
      "cell_type": "markdown",
      "metadata": {
        "id": "AdvpOwXoCD9A"
      },
      "source": [
        "## Part 2: Regression"
      ]
    },
    {
      "cell_type": "markdown",
      "metadata": {
        "id": "1KzPwYxaCN2x"
      },
      "source": [
        "<font color='tomato'><font size=\"6\">Apple stock (AAPL) : </font>"
      ]
    },
    {
      "cell_type": "markdown",
      "metadata": {
        "id": "nYmZHyZqUy83"
      },
      "source": [
        "![image.png](data:image/png;base64,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)"
      ]
    },
    {
      "cell_type": "markdown",
      "metadata": {
        "id": "2fmT1nymCN23"
      },
      "source": [
        "<fieldset>\n",
        "\n",
        "- Design and write python code to create a regression model to predict the close price for the next day.\n",
        "\n",
        "- These dataset reports the stock prices including open, high, low, close, volume, and also Name of the company'"
      ]
    },
    {
      "cell_type": "markdown",
      "metadata": {
        "id": "6uXrPjvRQ_IQ"
      },
      "source": [
        "<font size=\"2\">Ref: dealing with time series : https://www.youtube.com/watch?v=UFuo7EHI8zc"
      ]
    },
    {
      "cell_type": "markdown",
      "metadata": {
        "id": "6HYtJCVaRFHX"
      },
      "source": [
        "\n",
        "\n",
        "---\n",
        "\n"
      ]
    },
    {
      "cell_type": "markdown",
      "metadata": {
        "id": "8HCyFujURHj3"
      },
      "source": [
        "##### 1. Collecting the data"
      ]
    },
    {
      "cell_type": "code",
      "metadata": {
        "id": "BcGNgkdpIvkh"
      },
      "source": [
        "import pandas as pd, matplotlib.pyplot as plt, numpy as np, seaborn as sns"
      ],
      "execution_count": null,
      "outputs": []
    },
    {
      "cell_type": "code",
      "metadata": {
        "id": "yXrpx5UtCi4E",
        "colab": {
          "base_uri": "https://localhost:8080/",
          "height": 407
        },
        "outputId": "7e70b381-1c73-4524-b212-6292c0a7a883"
      },
      "source": [
        "AAPL = pd.read_csv(\"/content/drive/MyDrive/Data /AAPL_data.csv\")\n",
        "\n",
        "AAPL"
      ],
      "execution_count": null,
      "outputs": [
        {
          "output_type": "execute_result",
          "data": {
            "text/html": [
              "<div>\n",
              "<style scoped>\n",
              "    .dataframe tbody tr th:only-of-type {\n",
              "        vertical-align: middle;\n",
              "    }\n",
              "\n",
              "    .dataframe tbody tr th {\n",
              "        vertical-align: top;\n",
              "    }\n",
              "\n",
              "    .dataframe thead th {\n",
              "        text-align: right;\n",
              "    }\n",
              "</style>\n",
              "<table border=\"1\" class=\"dataframe\">\n",
              "  <thead>\n",
              "    <tr style=\"text-align: right;\">\n",
              "      <th></th>\n",
              "      <th>date</th>\n",
              "      <th>open</th>\n",
              "      <th>high</th>\n",
              "      <th>low</th>\n",
              "      <th>close</th>\n",
              "      <th>volume</th>\n",
              "      <th>Name</th>\n",
              "    </tr>\n",
              "  </thead>\n",
              "  <tbody>\n",
              "    <tr>\n",
              "      <th>0</th>\n",
              "      <td>2013-02-08</td>\n",
              "      <td>67.7142</td>\n",
              "      <td>68.4014</td>\n",
              "      <td>66.8928</td>\n",
              "      <td>67.8542</td>\n",
              "      <td>158168416</td>\n",
              "      <td>AAPL</td>\n",
              "    </tr>\n",
              "    <tr>\n",
              "      <th>1</th>\n",
              "      <td>2013-02-11</td>\n",
              "      <td>68.0714</td>\n",
              "      <td>69.2771</td>\n",
              "      <td>67.6071</td>\n",
              "      <td>68.5614</td>\n",
              "      <td>129029425</td>\n",
              "      <td>AAPL</td>\n",
              "    </tr>\n",
              "    <tr>\n",
              "      <th>2</th>\n",
              "      <td>2013-02-12</td>\n",
              "      <td>68.5014</td>\n",
              "      <td>68.9114</td>\n",
              "      <td>66.8205</td>\n",
              "      <td>66.8428</td>\n",
              "      <td>151829363</td>\n",
              "      <td>AAPL</td>\n",
              "    </tr>\n",
              "    <tr>\n",
              "      <th>3</th>\n",
              "      <td>2013-02-13</td>\n",
              "      <td>66.7442</td>\n",
              "      <td>67.6628</td>\n",
              "      <td>66.1742</td>\n",
              "      <td>66.7156</td>\n",
              "      <td>118721995</td>\n",
              "      <td>AAPL</td>\n",
              "    </tr>\n",
              "    <tr>\n",
              "      <th>4</th>\n",
              "      <td>2013-02-14</td>\n",
              "      <td>66.3599</td>\n",
              "      <td>67.3771</td>\n",
              "      <td>66.2885</td>\n",
              "      <td>66.6556</td>\n",
              "      <td>88809154</td>\n",
              "      <td>AAPL</td>\n",
              "    </tr>\n",
              "    <tr>\n",
              "      <th>...</th>\n",
              "      <td>...</td>\n",
              "      <td>...</td>\n",
              "      <td>...</td>\n",
              "      <td>...</td>\n",
              "      <td>...</td>\n",
              "      <td>...</td>\n",
              "      <td>...</td>\n",
              "    </tr>\n",
              "    <tr>\n",
              "      <th>1254</th>\n",
              "      <td>2018-02-01</td>\n",
              "      <td>167.1650</td>\n",
              "      <td>168.6200</td>\n",
              "      <td>166.7600</td>\n",
              "      <td>167.7800</td>\n",
              "      <td>47230787</td>\n",
              "      <td>AAPL</td>\n",
              "    </tr>\n",
              "    <tr>\n",
              "      <th>1255</th>\n",
              "      <td>2018-02-02</td>\n",
              "      <td>166.0000</td>\n",
              "      <td>166.8000</td>\n",
              "      <td>160.1000</td>\n",
              "      <td>160.5000</td>\n",
              "      <td>86593825</td>\n",
              "      <td>AAPL</td>\n",
              "    </tr>\n",
              "    <tr>\n",
              "      <th>1256</th>\n",
              "      <td>2018-02-05</td>\n",
              "      <td>159.1000</td>\n",
              "      <td>163.8800</td>\n",
              "      <td>156.0000</td>\n",
              "      <td>156.4900</td>\n",
              "      <td>72738522</td>\n",
              "      <td>AAPL</td>\n",
              "    </tr>\n",
              "    <tr>\n",
              "      <th>1257</th>\n",
              "      <td>2018-02-06</td>\n",
              "      <td>154.8300</td>\n",
              "      <td>163.7200</td>\n",
              "      <td>154.0000</td>\n",
              "      <td>163.0300</td>\n",
              "      <td>68243838</td>\n",
              "      <td>AAPL</td>\n",
              "    </tr>\n",
              "    <tr>\n",
              "      <th>1258</th>\n",
              "      <td>2018-02-07</td>\n",
              "      <td>163.0850</td>\n",
              "      <td>163.4000</td>\n",
              "      <td>159.0685</td>\n",
              "      <td>159.5400</td>\n",
              "      <td>51608580</td>\n",
              "      <td>AAPL</td>\n",
              "    </tr>\n",
              "  </tbody>\n",
              "</table>\n",
              "<p>1259 rows × 7 columns</p>\n",
              "</div>"
            ],
            "text/plain": [
              "            date      open      high       low     close     volume  Name\n",
              "0     2013-02-08   67.7142   68.4014   66.8928   67.8542  158168416  AAPL\n",
              "1     2013-02-11   68.0714   69.2771   67.6071   68.5614  129029425  AAPL\n",
              "2     2013-02-12   68.5014   68.9114   66.8205   66.8428  151829363  AAPL\n",
              "3     2013-02-13   66.7442   67.6628   66.1742   66.7156  118721995  AAPL\n",
              "4     2013-02-14   66.3599   67.3771   66.2885   66.6556   88809154  AAPL\n",
              "...          ...       ...       ...       ...       ...        ...   ...\n",
              "1254  2018-02-01  167.1650  168.6200  166.7600  167.7800   47230787  AAPL\n",
              "1255  2018-02-02  166.0000  166.8000  160.1000  160.5000   86593825  AAPL\n",
              "1256  2018-02-05  159.1000  163.8800  156.0000  156.4900   72738522  AAPL\n",
              "1257  2018-02-06  154.8300  163.7200  154.0000  163.0300   68243838  AAPL\n",
              "1258  2018-02-07  163.0850  163.4000  159.0685  159.5400   51608580  AAPL\n",
              "\n",
              "[1259 rows x 7 columns]"
            ]
          },
          "metadata": {
            "tags": []
          },
          "execution_count": 276
        }
      ]
    },
    {
      "cell_type": "markdown",
      "metadata": {
        "id": "0zJHk66vXUzP"
      },
      "source": [
        "\n",
        "\n",
        "---\n",
        "\n"
      ]
    },
    {
      "cell_type": "markdown",
      "metadata": {
        "id": "tO7zCzy2MEIQ"
      },
      "source": [
        "##### 2. Data Exploration"
      ]
    },
    {
      "cell_type": "code",
      "metadata": {
        "id": "yukAHtC-Pjan",
        "colab": {
          "base_uri": "https://localhost:8080/",
          "height": 288
        },
        "outputId": "0603917f-168e-4be2-a77e-7215fb75eb72"
      },
      "source": [
        "# Description of each feature\n",
        "\n",
        "AAPL.describe()"
      ],
      "execution_count": null,
      "outputs": [
        {
          "output_type": "execute_result",
          "data": {
            "text/html": [
              "<div>\n",
              "<style scoped>\n",
              "    .dataframe tbody tr th:only-of-type {\n",
              "        vertical-align: middle;\n",
              "    }\n",
              "\n",
              "    .dataframe tbody tr th {\n",
              "        vertical-align: top;\n",
              "    }\n",
              "\n",
              "    .dataframe thead th {\n",
              "        text-align: right;\n",
              "    }\n",
              "</style>\n",
              "<table border=\"1\" class=\"dataframe\">\n",
              "  <thead>\n",
              "    <tr style=\"text-align: right;\">\n",
              "      <th></th>\n",
              "      <th>open</th>\n",
              "      <th>high</th>\n",
              "      <th>low</th>\n",
              "      <th>close</th>\n",
              "      <th>volume</th>\n",
              "    </tr>\n",
              "  </thead>\n",
              "  <tbody>\n",
              "    <tr>\n",
              "      <th>count</th>\n",
              "      <td>1259.000000</td>\n",
              "      <td>1259.000000</td>\n",
              "      <td>1259.000000</td>\n",
              "      <td>1259.000000</td>\n",
              "      <td>1.259000e+03</td>\n",
              "    </tr>\n",
              "    <tr>\n",
              "      <th>mean</th>\n",
              "      <td>109.055429</td>\n",
              "      <td>109.951118</td>\n",
              "      <td>108.141589</td>\n",
              "      <td>109.066698</td>\n",
              "      <td>5.404790e+07</td>\n",
              "    </tr>\n",
              "    <tr>\n",
              "      <th>std</th>\n",
              "      <td>30.549220</td>\n",
              "      <td>30.686186</td>\n",
              "      <td>30.376224</td>\n",
              "      <td>30.556812</td>\n",
              "      <td>3.346835e+07</td>\n",
              "    </tr>\n",
              "    <tr>\n",
              "      <th>min</th>\n",
              "      <td>55.424200</td>\n",
              "      <td>57.085700</td>\n",
              "      <td>55.014200</td>\n",
              "      <td>55.789900</td>\n",
              "      <td>1.147592e+07</td>\n",
              "    </tr>\n",
              "    <tr>\n",
              "      <th>25%</th>\n",
              "      <td>84.647800</td>\n",
              "      <td>85.334950</td>\n",
              "      <td>84.250650</td>\n",
              "      <td>84.830650</td>\n",
              "      <td>2.969438e+07</td>\n",
              "    </tr>\n",
              "    <tr>\n",
              "      <th>50%</th>\n",
              "      <td>108.970000</td>\n",
              "      <td>110.030000</td>\n",
              "      <td>108.050000</td>\n",
              "      <td>109.010000</td>\n",
              "      <td>4.566893e+07</td>\n",
              "    </tr>\n",
              "    <tr>\n",
              "      <th>75%</th>\n",
              "      <td>127.335000</td>\n",
              "      <td>128.100000</td>\n",
              "      <td>126.290000</td>\n",
              "      <td>127.120000</td>\n",
              "      <td>6.870872e+07</td>\n",
              "    </tr>\n",
              "    <tr>\n",
              "      <th>max</th>\n",
              "      <td>179.370000</td>\n",
              "      <td>180.100000</td>\n",
              "      <td>178.250000</td>\n",
              "      <td>179.260000</td>\n",
              "      <td>2.668336e+08</td>\n",
              "    </tr>\n",
              "  </tbody>\n",
              "</table>\n",
              "</div>"
            ],
            "text/plain": [
              "              open         high          low        close        volume\n",
              "count  1259.000000  1259.000000  1259.000000  1259.000000  1.259000e+03\n",
              "mean    109.055429   109.951118   108.141589   109.066698  5.404790e+07\n",
              "std      30.549220    30.686186    30.376224    30.556812  3.346835e+07\n",
              "min      55.424200    57.085700    55.014200    55.789900  1.147592e+07\n",
              "25%      84.647800    85.334950    84.250650    84.830650  2.969438e+07\n",
              "50%     108.970000   110.030000   108.050000   109.010000  4.566893e+07\n",
              "75%     127.335000   128.100000   126.290000   127.120000  6.870872e+07\n",
              "max     179.370000   180.100000   178.250000   179.260000  2.668336e+08"
            ]
          },
          "metadata": {
            "tags": []
          },
          "execution_count": 277
        }
      ]
    },
    {
      "cell_type": "code",
      "metadata": {
        "id": "zLy6TGI6Lh4w",
        "colab": {
          "base_uri": "https://localhost:8080/",
          "height": 1000
        },
        "outputId": "7ae20399-7373-472f-85b8-742695b9d552"
      },
      "source": [
        "AAPL.hist(bins=10, figsize= (15,20), color='darkturquoise')\n",
        "\n",
        "plt.show()"
      ],
      "execution_count": null,
      "outputs": [
        {
          "output_type": "display_data",
          "data": {
            "image/png": "[encoded data removed]",
            "text/plain": [
              "<Figure size 1080x1440 with 6 Axes>"
            ]
          },
          "metadata": {
            "tags": [],
            "needs_background": "light"
          }
        }
      ]
    },
    {
      "cell_type": "markdown",
      "metadata": {
        "id": "Vo-2JIjdYBIe"
      },
      "source": [
        "\n",
        "\n",
        "---\n",
        "\n"
      ]
    },
    {
      "cell_type": "markdown",
      "metadata": {
        "id": "CFKf2tGaXY7O"
      },
      "source": [
        "> I smelled the impractical of the feature 'Name', since the name of the dataset already did self-explantory that every instance must belong to AAPL, so let's check it is true?"
      ]
    },
    {
      "cell_type": "code",
      "metadata": {
        "id": "0xXPTNxdLnUn",
        "colab": {
          "base_uri": "https://localhost:8080/"
        },
        "outputId": "b2a3b2a9-df36-4b1d-8636-7a78700e6656"
      },
      "source": [
        "AAPL.Name.value_counts()\n",
        "\n",
        "# This column should be removed due to all of the values are AAPL"
      ],
      "execution_count": null,
      "outputs": [
        {
          "output_type": "execute_result",
          "data": {
            "text/plain": [
              "AAPL    1259\n",
              "Name: Name, dtype: int64"
            ]
          },
          "metadata": {
            "tags": []
          },
          "execution_count": 279
        }
      ]
    },
    {
      "cell_type": "code",
      "metadata": {
        "id": "vBnZwcvtL3Yo"
      },
      "source": [
        "AAPL.drop('Name',axis=1,inplace=True)"
      ],
      "execution_count": null,
      "outputs": []
    },
    {
      "cell_type": "markdown",
      "metadata": {
        "id": "Yya-Ec7XU35q"
      },
      "source": [
        "\n",
        "\n",
        "---\n",
        "\n"
      ]
    },
    {
      "cell_type": "markdown",
      "metadata": {
        "id": "mJ1-s2yGU4-m"
      },
      "source": [
        "> C) Time series data exploration"
      ]
    },
    {
      "cell_type": "code",
      "metadata": {
        "id": "ZpwvJiNLTcFf",
        "colab": {
          "base_uri": "https://localhost:8080/"
        },
        "outputId": "ea1a0948-f314-4273-e19d-d75c02e9482b"
      },
      "source": [
        "AAPL['date'].dtype"
      ],
      "execution_count": null,
      "outputs": [
        {
          "output_type": "execute_result",
          "data": {
            "text/plain": [
              "dtype('O')"
            ]
          },
          "metadata": {
            "tags": []
          },
          "execution_count": 281
        }
      ]
    },
    {
      "cell_type": "code",
      "metadata": {
        "id": "juev1GmFRuXs"
      },
      "source": [
        "#Convert the dtype from Object to datetime\n",
        "\n",
        "AAPL['date']= pd.to_datetime(AAPL['date'], format='%Y-%m-%d')"
      ],
      "execution_count": null,
      "outputs": []
    },
    {
      "cell_type": "code",
      "metadata": {
        "id": "a9dU0vfETyWw",
        "colab": {
          "base_uri": "https://localhost:8080/",
          "height": 35
        },
        "outputId": "98969280-cda7-4e37-d435-d560ecabe859"
      },
      "source": [
        "# Let's test this by checking the day of the first instance\n",
        "\n",
        "AAPL.loc[0,'date'].day_name()"
      ],
      "execution_count": null,
      "outputs": [
        {
          "output_type": "execute_result",
          "data": {
            "application/vnd.google.colaboratory.intrinsic+json": {
              "type": "string"
            },
            "text/plain": [
              "'Friday'"
            ]
          },
          "metadata": {
            "tags": []
          },
          "execution_count": 283
        }
      ]
    },
    {
      "cell_type": "code",
      "metadata": {
        "id": "57uduuO4U-bu",
        "colab": {
          "base_uri": "https://localhost:8080/"
        },
        "outputId": "7dbbfb59-9c04-466b-85c7-a749e9afbc32"
      },
      "source": [
        "# Let's check how many days the data were recorded!\n",
        "\n",
        "AAPL['date'].max() - AAPL['date'].min()\n",
        "\n",
        "# 1825 days!, which is approximate 5 year from 2013 to 2018"
      ],
      "execution_count": null,
      "outputs": [
        {
          "output_type": "execute_result",
          "data": {
            "text/plain": [
              "Timedelta('1825 days 00:00:00')"
            ]
          },
          "metadata": {
            "tags": []
          },
          "execution_count": 284
        }
      ]
    },
    {
      "cell_type": "markdown",
      "metadata": {
        "id": "wQNx9RzNZ2Y8"
      },
      "source": [
        "> Let's plot the time series for 'close'"
      ]
    },
    {
      "cell_type": "code",
      "metadata": {
        "id": "be4Mnp7-Y3H-",
        "colab": {
          "base_uri": "https://localhost:8080/",
          "height": 287
        },
        "outputId": "23910442-b8e3-4ad0-dbc9-9f36a0465310"
      },
      "source": [
        "AAPL.plot.line(x='date',y='close')"
      ],
      "execution_count": null,
      "outputs": [
        {
          "output_type": "execute_result",
          "data": {
            "text/plain": [
              "<matplotlib.axes._subplots.AxesSubplot at 0x7f049de60890>"
            ]
          },
          "metadata": {
            "tags": []
          },
          "execution_count": 285
        },
        {
          "output_type": "display_data",
          "data": {
            "image/png": "[encoded data removed]",
            "text/plain": [
              "<Figure size 432x288 with 1 Axes>"
            ]
          },
          "metadata": {
            "tags": [],
            "needs_background": "light"
          }
        }
      ]
    },
    {
      "cell_type": "markdown",
      "metadata": {
        "id": "r53mhxSFgZC2"
      },
      "source": [
        "- From my analysis, It's ok to use Decomposition Method since every feature seems to have trend and Seasonality. so, It's good to use \n",
        "> Decompose Time series"
      ]
    },
    {
      "cell_type": "markdown",
      "metadata": {
        "id": "ddNCi8D7ijA2"
      },
      "source": [
        "- But, before doing that, we must do data preprocessing the data like splitting the data to training & test set"
      ]
    },
    {
      "cell_type": "markdown",
      "metadata": {
        "id": "-Dl0CrjuNw6Z"
      },
      "source": [
        "\n",
        "\n",
        "---\n",
        "\n"
      ]
    },
    {
      "cell_type": "markdown",
      "metadata": {
        "id": "tpqpEgyHNl9O"
      },
      "source": [
        "##### 3. Data Preprocessing"
      ]
    },
    {
      "cell_type": "code",
      "metadata": {
        "id": "LNJW-mmkPJ3Y",
        "colab": {
          "base_uri": "https://localhost:8080/"
        },
        "outputId": "123445ed-d89c-4794-c5cd-775fc4dc3bcf"
      },
      "source": [
        "#Checking missing values\n",
        "\n",
        "if (len(AAPL.columns) == AAPL.isnull().sum(axis=0).value_counts()[0]):\n",
        "  print('No missing value was found')"
      ],
      "execution_count": null,
      "outputs": [
        {
          "output_type": "stream",
          "text": [
            "No missing value was found\n"
          ],
          "name": "stdout"
        }
      ]
    },
    {
      "cell_type": "code",
      "metadata": {
        "colab": {
          "base_uri": "https://localhost:8080/",
          "height": 407
        },
        "id": "NyK1EMGILWvH",
        "outputId": "f4bd6c28-37e7-4aaf-ac42-09cfc91b5ccc"
      },
      "source": [
        "AAPL"
      ],
      "execution_count": null,
      "outputs": [
        {
          "output_type": "execute_result",
          "data": {
            "text/html": [
              "<div>\n",
              "<style scoped>\n",
              "    .dataframe tbody tr th:only-of-type {\n",
              "        vertical-align: middle;\n",
              "    }\n",
              "\n",
              "    .dataframe tbody tr th {\n",
              "        vertical-align: top;\n",
              "    }\n",
              "\n",
              "    .dataframe thead th {\n",
              "        text-align: right;\n",
              "    }\n",
              "</style>\n",
              "<table border=\"1\" class=\"dataframe\">\n",
              "  <thead>\n",
              "    <tr style=\"text-align: right;\">\n",
              "      <th></th>\n",
              "      <th>date</th>\n",
              "      <th>open</th>\n",
              "      <th>high</th>\n",
              "      <th>low</th>\n",
              "      <th>close</th>\n",
              "      <th>volume</th>\n",
              "    </tr>\n",
              "  </thead>\n",
              "  <tbody>\n",
              "    <tr>\n",
              "      <th>0</th>\n",
              "      <td>2013-02-08</td>\n",
              "      <td>67.7142</td>\n",
              "      <td>68.4014</td>\n",
              "      <td>66.8928</td>\n",
              "      <td>67.8542</td>\n",
              "      <td>158168416</td>\n",
              "    </tr>\n",
              "    <tr>\n",
              "      <th>1</th>\n",
              "      <td>2013-02-11</td>\n",
              "      <td>68.0714</td>\n",
              "      <td>69.2771</td>\n",
              "      <td>67.6071</td>\n",
              "      <td>68.5614</td>\n",
              "      <td>129029425</td>\n",
              "    </tr>\n",
              "    <tr>\n",
              "      <th>2</th>\n",
              "      <td>2013-02-12</td>\n",
              "      <td>68.5014</td>\n",
              "      <td>68.9114</td>\n",
              "      <td>66.8205</td>\n",
              "      <td>66.8428</td>\n",
              "      <td>151829363</td>\n",
              "    </tr>\n",
              "    <tr>\n",
              "      <th>3</th>\n",
              "      <td>2013-02-13</td>\n",
              "      <td>66.7442</td>\n",
              "      <td>67.6628</td>\n",
              "      <td>66.1742</td>\n",
              "      <td>66.7156</td>\n",
              "      <td>118721995</td>\n",
              "    </tr>\n",
              "    <tr>\n",
              "      <th>4</th>\n",
              "      <td>2013-02-14</td>\n",
              "      <td>66.3599</td>\n",
              "      <td>67.3771</td>\n",
              "      <td>66.2885</td>\n",
              "      <td>66.6556</td>\n",
              "      <td>88809154</td>\n",
              "    </tr>\n",
              "    <tr>\n",
              "      <th>...</th>\n",
              "      <td>...</td>\n",
              "      <td>...</td>\n",
              "      <td>...</td>\n",
              "      <td>...</td>\n",
              "      <td>...</td>\n",
              "      <td>...</td>\n",
              "    </tr>\n",
              "    <tr>\n",
              "      <th>1254</th>\n",
              "      <td>2018-02-01</td>\n",
              "      <td>167.1650</td>\n",
              "      <td>168.6200</td>\n",
              "      <td>166.7600</td>\n",
              "      <td>167.7800</td>\n",
              "      <td>47230787</td>\n",
              "    </tr>\n",
              "    <tr>\n",
              "      <th>1255</th>\n",
              "      <td>2018-02-02</td>\n",
              "      <td>166.0000</td>\n",
              "      <td>166.8000</td>\n",
              "      <td>160.1000</td>\n",
              "      <td>160.5000</td>\n",
              "      <td>86593825</td>\n",
              "    </tr>\n",
              "    <tr>\n",
              "      <th>1256</th>\n",
              "      <td>2018-02-05</td>\n",
              "      <td>159.1000</td>\n",
              "      <td>163.8800</td>\n",
              "      <td>156.0000</td>\n",
              "      <td>156.4900</td>\n",
              "      <td>72738522</td>\n",
              "    </tr>\n",
              "    <tr>\n",
              "      <th>1257</th>\n",
              "      <td>2018-02-06</td>\n",
              "      <td>154.8300</td>\n",
              "      <td>163.7200</td>\n",
              "      <td>154.0000</td>\n",
              "      <td>163.0300</td>\n",
              "      <td>68243838</td>\n",
              "    </tr>\n",
              "    <tr>\n",
              "      <th>1258</th>\n",
              "      <td>2018-02-07</td>\n",
              "      <td>163.0850</td>\n",
              "      <td>163.4000</td>\n",
              "      <td>159.0685</td>\n",
              "      <td>159.5400</td>\n",
              "      <td>51608580</td>\n",
              "    </tr>\n",
              "  </tbody>\n",
              "</table>\n",
              "<p>1259 rows × 6 columns</p>\n",
              "</div>"
            ],
            "text/plain": [
              "           date      open      high       low     close     volume\n",
              "0    2013-02-08   67.7142   68.4014   66.8928   67.8542  158168416\n",
              "1    2013-02-11   68.0714   69.2771   67.6071   68.5614  129029425\n",
              "2    2013-02-12   68.5014   68.9114   66.8205   66.8428  151829363\n",
              "3    2013-02-13   66.7442   67.6628   66.1742   66.7156  118721995\n",
              "4    2013-02-14   66.3599   67.3771   66.2885   66.6556   88809154\n",
              "...         ...       ...       ...       ...       ...        ...\n",
              "1254 2018-02-01  167.1650  168.6200  166.7600  167.7800   47230787\n",
              "1255 2018-02-02  166.0000  166.8000  160.1000  160.5000   86593825\n",
              "1256 2018-02-05  159.1000  163.8800  156.0000  156.4900   72738522\n",
              "1257 2018-02-06  154.8300  163.7200  154.0000  163.0300   68243838\n",
              "1258 2018-02-07  163.0850  163.4000  159.0685  159.5400   51608580\n",
              "\n",
              "[1259 rows x 6 columns]"
            ]
          },
          "metadata": {
            "tags": []
          },
          "execution_count": 287
        }
      ]
    },
    {
      "cell_type": "code",
      "metadata": {
        "id": "7NQ8dc9MLL_w"
      },
      "source": [
        "# Split the attributes & features\n",
        "\n",
        "X = AAPL['date']\n",
        "\n",
        "y = AAPL['close']"
      ],
      "execution_count": null,
      "outputs": []
    },
    {
      "cell_type": "code",
      "metadata": {
        "id": "XYwPJ6jKK9hx"
      },
      "source": [
        "# Split the training & test set\n",
        "\n",
        "from sklearn.model_selection import train_test_split\n",
        "\n",
        "X_train, X_test, y_train, y_test  = train_test_split(X, y, test_size=0.2, random_state=42,shuffle=True)"
      ],
      "execution_count": null,
      "outputs": []
    },
    {
      "cell_type": "markdown",
      "metadata": {
        "id": "Snee42y1i2G-"
      },
      "source": [
        "> After it got splitted, we need to sort it from the oldest to newest day"
      ]
    },
    {
      "cell_type": "code",
      "metadata": {
        "colab": {
          "base_uri": "https://localhost:8080/",
          "height": 407
        },
        "id": "rYKFpgRFLny3",
        "outputId": "3bdbeca2-104f-4b47-925b-a0f4c1796704"
      },
      "source": [
        "# Training set\n",
        "\n",
        "data_train = pd.concat([X_train,y_train],axis=1)\n",
        "data_train.sort_values(by='date', inplace=True);  data_train"
      ],
      "execution_count": null,
      "outputs": [
        {
          "output_type": "execute_result",
          "data": {
            "text/html": [
              "<div>\n",
              "<style scoped>\n",
              "    .dataframe tbody tr th:only-of-type {\n",
              "        vertical-align: middle;\n",
              "    }\n",
              "\n",
              "    .dataframe tbody tr th {\n",
              "        vertical-align: top;\n",
              "    }\n",
              "\n",
              "    .dataframe thead th {\n",
              "        text-align: right;\n",
              "    }\n",
              "</style>\n",
              "<table border=\"1\" class=\"dataframe\">\n",
              "  <thead>\n",
              "    <tr style=\"text-align: right;\">\n",
              "      <th></th>\n",
              "      <th>date</th>\n",
              "      <th>close</th>\n",
              "    </tr>\n",
              "  </thead>\n",
              "  <tbody>\n",
              "    <tr>\n",
              "      <th>0</th>\n",
              "      <td>2013-02-08</td>\n",
              "      <td>67.8542</td>\n",
              "    </tr>\n",
              "    <tr>\n",
              "      <th>1</th>\n",
              "      <td>2013-02-11</td>\n",
              "      <td>68.5614</td>\n",
              "    </tr>\n",
              "    <tr>\n",
              "      <th>2</th>\n",
              "      <td>2013-02-12</td>\n",
              "      <td>66.8428</td>\n",
              "    </tr>\n",
              "    <tr>\n",
              "      <th>3</th>\n",
              "      <td>2013-02-13</td>\n",
              "      <td>66.7156</td>\n",
              "    </tr>\n",
              "    <tr>\n",
              "      <th>4</th>\n",
              "      <td>2013-02-14</td>\n",
              "      <td>66.6556</td>\n",
              "    </tr>\n",
              "    <tr>\n",
              "      <th>...</th>\n",
              "      <td>...</td>\n",
              "      <td>...</td>\n",
              "    </tr>\n",
              "    <tr>\n",
              "      <th>1251</th>\n",
              "      <td>2018-01-29</td>\n",
              "      <td>167.9600</td>\n",
              "    </tr>\n",
              "    <tr>\n",
              "      <th>1253</th>\n",
              "      <td>2018-01-31</td>\n",
              "      <td>167.4300</td>\n",
              "    </tr>\n",
              "    <tr>\n",
              "      <th>1254</th>\n",
              "      <td>2018-02-01</td>\n",
              "      <td>167.7800</td>\n",
              "    </tr>\n",
              "    <tr>\n",
              "      <th>1256</th>\n",
              "      <td>2018-02-05</td>\n",
              "      <td>156.4900</td>\n",
              "    </tr>\n",
              "    <tr>\n",
              "      <th>1257</th>\n",
              "      <td>2018-02-06</td>\n",
              "      <td>163.0300</td>\n",
              "    </tr>\n",
              "  </tbody>\n",
              "</table>\n",
              "<p>1007 rows × 2 columns</p>\n",
              "</div>"
            ],
            "text/plain": [
              "           date     close\n",
              "0    2013-02-08   67.8542\n",
              "1    2013-02-11   68.5614\n",
              "2    2013-02-12   66.8428\n",
              "3    2013-02-13   66.7156\n",
              "4    2013-02-14   66.6556\n",
              "...         ...       ...\n",
              "1251 2018-01-29  167.9600\n",
              "1253 2018-01-31  167.4300\n",
              "1254 2018-02-01  167.7800\n",
              "1256 2018-02-05  156.4900\n",
              "1257 2018-02-06  163.0300\n",
              "\n",
              "[1007 rows x 2 columns]"
            ]
          },
          "metadata": {
            "tags": []
          },
          "execution_count": 290
        }
      ]
    },
    {
      "cell_type": "code",
      "metadata": {
        "colab": {
          "base_uri": "https://localhost:8080/",
          "height": 407
        },
        "id": "LmWhTVR5wAs7",
        "outputId": "7a5152ce-685e-4f5d-bbae-0eddef32acca"
      },
      "source": [
        "# Test set\n",
        "\n",
        "data_test = pd.concat([X_test,y_test],axis=1)\n",
        "data_test.sort_values(by='date', inplace=True);  data_test"
      ],
      "execution_count": null,
      "outputs": [
        {
          "output_type": "execute_result",
          "data": {
            "text/html": [
              "<div>\n",
              "<style scoped>\n",
              "    .dataframe tbody tr th:only-of-type {\n",
              "        vertical-align: middle;\n",
              "    }\n",
              "\n",
              "    .dataframe tbody tr th {\n",
              "        vertical-align: top;\n",
              "    }\n",
              "\n",
              "    .dataframe thead th {\n",
              "        text-align: right;\n",
              "    }\n",
              "</style>\n",
              "<table border=\"1\" class=\"dataframe\">\n",
              "  <thead>\n",
              "    <tr style=\"text-align: right;\">\n",
              "      <th></th>\n",
              "      <th>date</th>\n",
              "      <th>close</th>\n",
              "    </tr>\n",
              "  </thead>\n",
              "  <tbody>\n",
              "    <tr>\n",
              "      <th>10</th>\n",
              "      <td>2013-02-25</td>\n",
              "      <td>63.2571</td>\n",
              "    </tr>\n",
              "    <tr>\n",
              "      <th>23</th>\n",
              "      <td>2013-03-14</td>\n",
              "      <td>61.7857</td>\n",
              "    </tr>\n",
              "    <tr>\n",
              "      <th>29</th>\n",
              "      <td>2013-03-22</td>\n",
              "      <td>65.9871</td>\n",
              "    </tr>\n",
              "    <tr>\n",
              "      <th>31</th>\n",
              "      <td>2013-03-26</td>\n",
              "      <td>65.8765</td>\n",
              "    </tr>\n",
              "    <tr>\n",
              "      <th>32</th>\n",
              "      <td>2013-03-27</td>\n",
              "      <td>64.5828</td>\n",
              "    </tr>\n",
              "    <tr>\n",
              "      <th>...</th>\n",
              "      <td>...</td>\n",
              "      <td>...</td>\n",
              "    </tr>\n",
              "    <tr>\n",
              "      <th>1246</th>\n",
              "      <td>2018-01-22</td>\n",
              "      <td>177.0000</td>\n",
              "    </tr>\n",
              "    <tr>\n",
              "      <th>1249</th>\n",
              "      <td>2018-01-25</td>\n",
              "      <td>171.1100</td>\n",
              "    </tr>\n",
              "    <tr>\n",
              "      <th>1252</th>\n",
              "      <td>2018-01-30</td>\n",
              "      <td>166.9700</td>\n",
              "    </tr>\n",
              "    <tr>\n",
              "      <th>1255</th>\n",
              "      <td>2018-02-02</td>\n",
              "      <td>160.5000</td>\n",
              "    </tr>\n",
              "    <tr>\n",
              "      <th>1258</th>\n",
              "      <td>2018-02-07</td>\n",
              "      <td>159.5400</td>\n",
              "    </tr>\n",
              "  </tbody>\n",
              "</table>\n",
              "<p>252 rows × 2 columns</p>\n",
              "</div>"
            ],
            "text/plain": [
              "           date     close\n",
              "10   2013-02-25   63.2571\n",
              "23   2013-03-14   61.7857\n",
              "29   2013-03-22   65.9871\n",
              "31   2013-03-26   65.8765\n",
              "32   2013-03-27   64.5828\n",
              "...         ...       ...\n",
              "1246 2018-01-22  177.0000\n",
              "1249 2018-01-25  171.1100\n",
              "1252 2018-01-30  166.9700\n",
              "1255 2018-02-02  160.5000\n",
              "1258 2018-02-07  159.5400\n",
              "\n",
              "[252 rows x 2 columns]"
            ]
          },
          "metadata": {
            "tags": []
          },
          "execution_count": 291
        }
      ]
    },
    {
      "cell_type": "code",
      "metadata": {
        "id": "4ZKyX9kpv92p"
      },
      "source": [
        "# Now define the start date, end date of each set\n",
        "\n",
        "tr_start,tr_end = '2013-02-08','2018-02-06'\n",
        "te_start,te_end = '2013-02-25','2018-02-07'"
      ],
      "execution_count": null,
      "outputs": []
    },
    {
      "cell_type": "markdown",
      "metadata": {
        "id": "b9xTvgoMmWLy"
      },
      "source": [
        "> Let's plot some of the time series of the train set"
      ]
    },
    {
      "cell_type": "code",
      "metadata": {
        "id": "hvJLgAPuNhWw",
        "colab": {
          "base_uri": "https://localhost:8080/",
          "height": 287
        },
        "outputId": "9da3ca11-3f85-4a76-ee8c-50dbcaaa86db"
      },
      "source": [
        "data_train.plot.line(x='date',y='close')"
      ],
      "execution_count": null,
      "outputs": [
        {
          "output_type": "execute_result",
          "data": {
            "text/plain": [
              "<matplotlib.axes._subplots.AxesSubplot at 0x7f049e27bbd0>"
            ]
          },
          "metadata": {
            "tags": []
          },
          "execution_count": 293
        },
        {
          "output_type": "display_data",
          "data": {
            "image/png": "[encoded data removed]",
            "text/plain": [
              "<Figure size 432x288 with 1 Axes>"
            ]
          },
          "metadata": {
            "tags": [],
            "needs_background": "light"
          }
        }
      ]
    },
    {
      "cell_type": "markdown",
      "metadata": {
        "id": "S6u4z3JHNYJg"
      },
      "source": [
        "\n",
        "\n",
        "---\n",
        "\n"
      ]
    },
    {
      "cell_type": "code",
      "metadata": {
        "id": "l6mCHlrxvyKj",
        "colab": {
          "base_uri": "https://localhost:8080/"
        },
        "outputId": "02385ac0-0688-46f7-c689-7d012ad0b28e"
      },
      "source": [
        "# How many days does this X_train contains\n",
        "\n",
        "data_train['date'].max() - data_train['date'].min()"
      ],
      "execution_count": null,
      "outputs": [
        {
          "output_type": "execute_result",
          "data": {
            "text/plain": [
              "Timedelta('1824 days 00:00:00')"
            ]
          },
          "metadata": {
            "tags": []
          },
          "execution_count": 294
        }
      ]
    },
    {
      "cell_type": "code",
      "metadata": {
        "colab": {
          "base_uri": "https://localhost:8080/",
          "height": 437
        },
        "id": "OvBRc79nqYTk",
        "outputId": "4219ef7a-ecfb-4293-82c7-d178c6a24e5a"
      },
      "source": [
        "data_train.index = data_train['date']\n",
        "\n",
        "data_train.drop('date',axis=1,inplace=True);data_train"
      ],
      "execution_count": null,
      "outputs": [
        {
          "output_type": "execute_result",
          "data": {
            "text/html": [
              "<div>\n",
              "<style scoped>\n",
              "    .dataframe tbody tr th:only-of-type {\n",
              "        vertical-align: middle;\n",
              "    }\n",
              "\n",
              "    .dataframe tbody tr th {\n",
              "        vertical-align: top;\n",
              "    }\n",
              "\n",
              "    .dataframe thead th {\n",
              "        text-align: right;\n",
              "    }\n",
              "</style>\n",
              "<table border=\"1\" class=\"dataframe\">\n",
              "  <thead>\n",
              "    <tr style=\"text-align: right;\">\n",
              "      <th></th>\n",
              "      <th>close</th>\n",
              "    </tr>\n",
              "    <tr>\n",
              "      <th>date</th>\n",
              "      <th></th>\n",
              "    </tr>\n",
              "  </thead>\n",
              "  <tbody>\n",
              "    <tr>\n",
              "      <th>2013-02-08</th>\n",
              "      <td>67.8542</td>\n",
              "    </tr>\n",
              "    <tr>\n",
              "      <th>2013-02-11</th>\n",
              "      <td>68.5614</td>\n",
              "    </tr>\n",
              "    <tr>\n",
              "      <th>2013-02-12</th>\n",
              "      <td>66.8428</td>\n",
              "    </tr>\n",
              "    <tr>\n",
              "      <th>2013-02-13</th>\n",
              "      <td>66.7156</td>\n",
              "    </tr>\n",
              "    <tr>\n",
              "      <th>2013-02-14</th>\n",
              "      <td>66.6556</td>\n",
              "    </tr>\n",
              "    <tr>\n",
              "      <th>...</th>\n",
              "      <td>...</td>\n",
              "    </tr>\n",
              "    <tr>\n",
              "      <th>2018-01-29</th>\n",
              "      <td>167.9600</td>\n",
              "    </tr>\n",
              "    <tr>\n",
              "      <th>2018-01-31</th>\n",
              "      <td>167.4300</td>\n",
              "    </tr>\n",
              "    <tr>\n",
              "      <th>2018-02-01</th>\n",
              "      <td>167.7800</td>\n",
              "    </tr>\n",
              "    <tr>\n",
              "      <th>2018-02-05</th>\n",
              "      <td>156.4900</td>\n",
              "    </tr>\n",
              "    <tr>\n",
              "      <th>2018-02-06</th>\n",
              "      <td>163.0300</td>\n",
              "    </tr>\n",
              "  </tbody>\n",
              "</table>\n",
              "<p>1007 rows × 1 columns</p>\n",
              "</div>"
            ],
            "text/plain": [
              "               close\n",
              "date                \n",
              "2013-02-08   67.8542\n",
              "2013-02-11   68.5614\n",
              "2013-02-12   66.8428\n",
              "2013-02-13   66.7156\n",
              "2013-02-14   66.6556\n",
              "...              ...\n",
              "2018-01-29  167.9600\n",
              "2018-01-31  167.4300\n",
              "2018-02-01  167.7800\n",
              "2018-02-05  156.4900\n",
              "2018-02-06  163.0300\n",
              "\n",
              "[1007 rows x 1 columns]"
            ]
          },
          "metadata": {
            "tags": []
          },
          "execution_count": 295
        }
      ]
    },
    {
      "cell_type": "markdown",
      "metadata": {
        "id": "xnHnV4kSH60u"
      },
      "source": [
        "\n",
        "\n",
        "---\n",
        "\n"
      ]
    },
    {
      "cell_type": "markdown",
      "metadata": {
        "id": "1dgqSbv4tjJF"
      },
      "source": [
        "- Decomposing Time series"
      ]
    },
    {
      "cell_type": "markdown",
      "metadata": {
        "id": "ETzbq3rTHwi2"
      },
      "source": [
        "> We will break the trend & seasonal and Residual of this time series graph"
      ]
    },
    {
      "cell_type": "code",
      "metadata": {
        "colab": {
          "base_uri": "https://localhost:8080/",
          "height": 297
        },
        "id": "tDmPndDUnBO9",
        "outputId": "84e73f0a-8700-424c-9964-445dd962b621"
      },
      "source": [
        "from statsmodels.tsa.seasonal import seasonal_decompose\n",
        "\n",
        "## freq = 365; mean trend of the year\n",
        "result = seasonal_decompose(data_train['close'], freq = 365, model='multiplicative')\n",
        "result.plot()\n",
        "\n",
        "plt.show()"
      ],
      "execution_count": null,
      "outputs": [
        {
          "output_type": "display_data",
          "data": {
            "image/png": "[encoded data removed]",
            "text/plain": [
              "<Figure size 432x288 with 4 Axes>"
            ]
          },
          "metadata": {
            "tags": [],
            "needs_background": "light"
          }
        }
      ]
    },
    {
      "cell_type": "markdown",
      "metadata": {
        "id": "UBH3Z7FJ1REp"
      },
      "source": [
        "> According to the following graph, there are clearly a trend!\n",
        ", so we will decide to pick the ARIMA as our model"
      ]
    },
    {
      "cell_type": "markdown",
      "metadata": {
        "id": "sD65VAxG139Z"
      },
      "source": [
        "--- \n",
        "\n",
        "<br>\n",
        "\n",
        "\n",
        "\n",
        "### 4. Model Training"
      ]
    },
    {
      "cell_type": "markdown",
      "metadata": {
        "id": "NQew-GznzFjC"
      },
      "source": [
        "We decided to use ARIMA model to predict the time-series "
      ]
    },
    {
      "cell_type": "markdown",
      "metadata": {
        "id": "rKiLvsLux9bG"
      },
      "source": [
        "> Find the best parameter of ARIMA(p=?,d=?,q=?) "
      ]
    },
    {
      "cell_type": "code",
      "metadata": {
        "colab": {
          "base_uri": "https://localhost:8080/",
          "height": 607
        },
        "id": "fk4IcbUAxEEp",
        "outputId": "04bad346-77ee-4b1c-f96e-542aafb71f60"
      },
      "source": [
        "#we use tra.diff()(differenced data), because this time series is unit root process.\n",
        "import statsmodels.api as sm\n",
        "\n",
        "fig,ax = plt.subplots(2,1,figsize=(20,10))\n",
        "fig = sm.graphics.tsa.plot_acf(data_train.diff().dropna(), lags=50, ax=ax[0])\n",
        "fig = sm.graphics.tsa.plot_pacf(data_train.diff().dropna(), lags=50, ax=ax[1])\n",
        "plt.show()\n",
        "\n",
        "# Find the best (p,q,)"
      ],
      "execution_count": null,
      "outputs": [
        {
          "output_type": "display_data",
          "data": {
            "image/png": "[encoded data removed]",
            "text/plain": [
              "<Figure size 1440x720 with 2 Axes>"
            ]
          },
          "metadata": {
            "tags": [],
            "needs_background": "light"
          }
        }
      ]
    },
    {
      "cell_type": "markdown",
      "metadata": {
        "id": "MbUEL88MyKpJ"
      },
      "source": [
        "> According to this graph, the parameter (p,d) is (1,1)\n",
        "\n",
        "> Now, what is q"
      ]
    },
    {
      "cell_type": "code",
      "metadata": {
        "colab": {
          "base_uri": "https://localhost:8080/",
          "height": 35
        },
        "id": "fhinHDzyx3Ki",
        "outputId": "8e43dcf9-768c-49d8-f958-686ebf17b4dc"
      },
      "source": [
        "\"\"\"\n",
        "\n",
        "resDiff = sm.tsa.arma_order_select_ic(data_train, max_ar=7, max_ma=7, ic='aic', trend='c')\n",
        "\n",
        "print('ARMA(p,q) =',resDiff['aic_min_order'],'is the best.')\n",
        "\n",
        "\"\"\"\n",
        "\n",
        "# This took very long time to run it.."
      ],
      "execution_count": null,
      "outputs": [
        {
          "output_type": "execute_result",
          "data": {
            "application/vnd.google.colaboratory.intrinsic+json": {
              "type": "string"
            },
            "text/plain": [
              "\"\\n\\nresDiff = sm.tsa.arma_order_select_ic(data_train, max_ar=7, max_ma=7, ic='aic', trend='c')\\n\\nprint('ARMA(p,q) =',resDiff['aic_min_order'],'is the best.')\\n\\n\""
            ]
          },
          "metadata": {
            "tags": []
          },
          "execution_count": 298
        }
      ]
    },
    {
      "cell_type": "markdown",
      "metadata": {
        "id": "mwWslrMe2Rho"
      },
      "source": [
        "> This suggest us that (p,q) = (1,0) is the best pair\n",
        "\n",
        "> So, we decided to use (p,d,q) = (1,1,0)"
      ]
    },
    {
      "cell_type": "code",
      "metadata": {
        "id": "lh13k82f3iKy"
      },
      "source": [
        "# We really need to fulfill the date that doesn't occur in that period by N/A\n",
        "\n",
        "df = data_train.resample(\"D\").last()"
      ],
      "execution_count": null,
      "outputs": []
    },
    {
      "cell_type": "code",
      "metadata": {
        "colab": {
          "base_uri": "https://localhost:8080/",
          "height": 548
        },
        "id": "bODJZ-3ikktb",
        "outputId": "263cbc83-c166-4ee4-d60a-ddcf0d69a74e"
      },
      "source": [
        "# fit an ARIMA model and plot residual errors\n",
        "from statsmodels.tsa.statespace.sarimax import SARIMAX\n",
        "\n",
        "# let seasonal order = (0,0,0,0) to transform SARIMAX to ARIMA\n",
        "model = SARIMAX(df,order=(1,1,7),freq='D',seasonal_order=(0,0,0,0),\n",
        "                                 enforce_stationarity=False, enforce_invertibility=False,).fit()\n",
        "model.summary()\n"
      ],
      "execution_count": null,
      "outputs": [
        {
          "output_type": "execute_result",
          "data": {
            "text/html": [
              "<table class=\"simpletable\">\n",
              "<caption>Statespace Model Results</caption>\n",
              "<tr>\n",
              "  <th>Dep. Variable:</th>         <td>close</td>      <th>  No. Observations:  </th>   <td>1825</td>   \n",
              "</tr>\n",
              "<tr>\n",
              "  <th>Model:</th>           <td>SARIMAX(1, 1, 7)</td> <th>  Log Likelihood     </th> <td>-2004.732</td>\n",
              "</tr>\n",
              "<tr>\n",
              "  <th>Date:</th>            <td>Wed, 07 Apr 2021</td> <th>  AIC                </th> <td>4027.465</td> \n",
              "</tr>\n",
              "<tr>\n",
              "  <th>Time:</th>                <td>16:12:12</td>     <th>  BIC                </th> <td>4077.004</td> \n",
              "</tr>\n",
              "<tr>\n",
              "  <th>Sample:</th>             <td>02-08-2013</td>    <th>  HQIC               </th> <td>4045.744</td> \n",
              "</tr>\n",
              "<tr>\n",
              "  <th></th>                   <td>- 02-06-2018</td>   <th>                     </th>     <td> </td>    \n",
              "</tr>\n",
              "<tr>\n",
              "  <th>Covariance Type:</th>        <td>opg</td>       <th>                     </th>     <td> </td>    \n",
              "</tr>\n",
              "</table>\n",
              "<table class=\"simpletable\">\n",
              "<tr>\n",
              "     <td></td>       <th>coef</th>     <th>std err</th>      <th>z</th>      <th>P>|z|</th>  <th>[0.025</th>    <th>0.975]</th>  \n",
              "</tr>\n",
              "<tr>\n",
              "  <th>ar.L1</th>  <td>   -0.7565</td> <td>    0.409</td> <td>   -1.851</td> <td> 0.064</td> <td>   -1.558</td> <td>    0.045</td>\n",
              "</tr>\n",
              "<tr>\n",
              "  <th>ma.L1</th>  <td>    0.6641</td> <td>    0.412</td> <td>    1.611</td> <td> 0.107</td> <td>   -0.144</td> <td>    1.472</td>\n",
              "</tr>\n",
              "<tr>\n",
              "  <th>ma.L2</th>  <td>   -0.1493</td> <td>    0.055</td> <td>   -2.715</td> <td> 0.007</td> <td>   -0.257</td> <td>   -0.041</td>\n",
              "</tr>\n",
              "<tr>\n",
              "  <th>ma.L3</th>  <td>    0.0148</td> <td>    0.073</td> <td>    0.201</td> <td> 0.841</td> <td>   -0.129</td> <td>    0.159</td>\n",
              "</tr>\n",
              "<tr>\n",
              "  <th>ma.L4</th>  <td>    0.0931</td> <td>    0.065</td> <td>    1.425</td> <td> 0.154</td> <td>   -0.035</td> <td>    0.221</td>\n",
              "</tr>\n",
              "<tr>\n",
              "  <th>ma.L5</th>  <td>   -0.0770</td> <td>    0.053</td> <td>   -1.466</td> <td> 0.143</td> <td>   -0.180</td> <td>    0.026</td>\n",
              "</tr>\n",
              "<tr>\n",
              "  <th>ma.L6</th>  <td>   -0.0502</td> <td>    0.048</td> <td>   -1.038</td> <td> 0.299</td> <td>   -0.145</td> <td>    0.045</td>\n",
              "</tr>\n",
              "<tr>\n",
              "  <th>ma.L7</th>  <td>    0.0539</td> <td>    0.037</td> <td>    1.448</td> <td> 0.147</td> <td>   -0.019</td> <td>    0.127</td>\n",
              "</tr>\n",
              "<tr>\n",
              "  <th>sigma2</th> <td>    2.2090</td> <td>    0.063</td> <td>   35.284</td> <td> 0.000</td> <td>    2.086</td> <td>    2.332</td>\n",
              "</tr>\n",
              "</table>\n",
              "<table class=\"simpletable\">\n",
              "<tr>\n",
              "  <th>Ljung-Box (Q):</th>          <td>55.13</td> <th>  Jarque-Bera (JB):  </th> <td>9278.01</td>\n",
              "</tr>\n",
              "<tr>\n",
              "  <th>Prob(Q):</th>                <td>0.06</td>  <th>  Prob(JB):          </th>  <td>0.00</td>  \n",
              "</tr>\n",
              "<tr>\n",
              "  <th>Heteroskedasticity (H):</th> <td>2.39</td>  <th>  Skew:              </th>  <td>-0.07</td> \n",
              "</tr>\n",
              "<tr>\n",
              "  <th>Prob(H) (two-sided):</th>    <td>0.00</td>  <th>  Kurtosis:          </th>  <td>14.07</td> \n",
              "</tr>\n",
              "</table><br/><br/>Warnings:<br/>[1] Covariance matrix calculated using the outer product of gradients (complex-step)."
            ],
            "text/plain": [
              "<class 'statsmodels.iolib.summary.Summary'>\n",
              "\"\"\"\n",
              "                           Statespace Model Results                           \n",
              "==============================================================================\n",
              "Dep. Variable:                  close   No. Observations:                 1825\n",
              "Model:               SARIMAX(1, 1, 7)   Log Likelihood               -2004.732\n",
              "Date:                Wed, 07 Apr 2021   AIC                           4027.465\n",
              "Time:                        16:12:12   BIC                           4077.004\n",
              "Sample:                    02-08-2013   HQIC                          4045.744\n",
              "                         - 02-06-2018                                         \n",
              "Covariance Type:                  opg                                         \n",
              "==============================================================================\n",
              "                 coef    std err          z      P>|z|      [0.025      0.975]\n",
              "------------------------------------------------------------------------------\n",
              "ar.L1         -0.7565      0.409     -1.851      0.064      -1.558       0.045\n",
              "ma.L1          0.6641      0.412      1.611      0.107      -0.144       1.472\n",
              "ma.L2         -0.1493      0.055     -2.715      0.007      -0.257      -0.041\n",
              "ma.L3          0.0148      0.073      0.201      0.841      -0.129       0.159\n",
              "ma.L4          0.0931      0.065      1.425      0.154      -0.035       0.221\n",
              "ma.L5         -0.0770      0.053     -1.466      0.143      -0.180       0.026\n",
              "ma.L6         -0.0502      0.048     -1.038      0.299      -0.145       0.045\n",
              "ma.L7          0.0539      0.037      1.448      0.147      -0.019       0.127\n",
              "sigma2         2.2090      0.063     35.284      0.000       2.086       2.332\n",
              "===================================================================================\n",
              "Ljung-Box (Q):                       55.13   Jarque-Bera (JB):              9278.01\n",
              "Prob(Q):                              0.06   Prob(JB):                         0.00\n",
              "Heteroskedasticity (H):               2.39   Skew:                            -0.07\n",
              "Prob(H) (two-sided):                  0.00   Kurtosis:                        14.07\n",
              "===================================================================================\n",
              "\n",
              "Warnings:\n",
              "[1] Covariance matrix calculated using the outer product of gradients (complex-step).\n",
              "\"\"\""
            ]
          },
          "metadata": {
            "tags": []
          },
          "execution_count": 301
        }
      ]
    },
    {
      "cell_type": "code",
      "metadata": {
        "colab": {
          "base_uri": "https://localhost:8080/",
          "height": 499
        },
        "id": "84A3UUnl3W0Y",
        "outputId": "69687439-5fbf-44eb-f9c1-d11c5168d30e"
      },
      "source": [
        "res = model.resid\n",
        "fig,ax = plt.subplots(2,1,figsize=(15,8))\n",
        "fig = sm.graphics.tsa.plot_acf(res, lags=50, ax=ax[0])\n",
        "fig = sm.graphics.tsa.plot_pacf(res, lags=50, ax=ax[1])\n",
        "plt.show()"
      ],
      "execution_count": null,
      "outputs": [
        {
          "output_type": "display_data",
          "data": {
            "image/png": "[encoded data removed]",
            "text/plain": [
              "<Figure size 1080x576 with 2 Axes>"
            ]
          },
          "metadata": {
            "tags": [],
            "needs_background": "light"
          }
        }
      ]
    },
    {
      "cell_type": "code",
      "metadata": {
        "id": "NrC-nA0-GY_o"
      },
      "source": [
        "from sklearn.metrics import mean_squared_error\n",
        "\n",
        "# Let's predict\n",
        "data_pred = model.predict(te_start,te_end)"
      ],
      "execution_count": null,
      "outputs": []
    },
    {
      "cell_type": "code",
      "metadata": {
        "id": "of7uojCxta9z"
      },
      "source": [
        "# Let's reshape the data_pred & data_test before evaluating it\n",
        "\n",
        "data_test.index = data_test['date']\n",
        "\n",
        "data_test.drop('date',axis=1,inplace=True);data_test\n",
        "data_pred = pd.DataFrame(data_pred,columns=['close']);\n",
        "data_pred.index.name = 'date'\n",
        "\n",
        "data_pred = pd.DataFrame(data_pred,columns=['close']);data_pred\n",
        "\n",
        "\n",
        "data_pred = data_pred[data_pred.index.isin(data_test.index)]"
      ],
      "execution_count": null,
      "outputs": []
    },
    {
      "cell_type": "code",
      "metadata": {
        "colab": {
          "base_uri": "https://localhost:8080/"
        },
        "id": "SdfBYednGhCG",
        "outputId": "93a19cec-4055-497c-fd8d-88b76ba4a55a"
      },
      "source": [
        "print('ARIMA model MSE: {}'.format(mean_squared_error(data_test,data_pred)))"
      ],
      "execution_count": null,
      "outputs": [
        {
          "output_type": "stream",
          "text": [
            "ARIMA model MSE: 2.939333228747993\n"
          ],
          "name": "stdout"
        }
      ]
    },
    {
      "cell_type": "code",
      "metadata": {
        "colab": {
          "base_uri": "https://localhost:8080/",
          "height": 265
        },
        "id": "BVIb1JBhE2W3",
        "outputId": "8ef59385-146b-490c-a991-ae1e060c94cc"
      },
      "source": [
        "plt.plot(data_test.index, data_test['close'],label='The real line')\n",
        "plt.plot(data_pred.index, data_pred['close'],label=\"The Predict line\")\n",
        "\n",
        "plt.legend()\n",
        "plt.show()"
      ],
      "execution_count": null,
      "outputs": [
        {
          "output_type": "display_data",
          "data": {
            "image/png": "[encoded data removed]",
            "text/plain": [
              "<Figure size 432x288 with 1 Axes>"
            ]
          },
          "metadata": {
            "tags": [],
            "needs_background": "light"
          }
        }
      ]
    },
    {
      "cell_type": "markdown",
      "metadata": {
        "id": "VEeJP608GxmX"
      },
      "source": [
        "> ARIMA did very good job, as you can see that the predict line made by them are able to capture almost all of the real line\n",
        "\n",
        "> Also verified that this is a good model according to the extremely low MSE (2.939)"
      ]
    }
  ]
}