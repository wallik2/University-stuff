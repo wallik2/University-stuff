{
  "nbformat": 4,
  "nbformat_minor": 0,
  "metadata": {
    "colab": {
      "name": "HW6_2: Data presentation Q.4",
      "provenance": [],
      "toc_visible": true,
      "mount_file_id": "1SG8feeNN-AHETJpcdUfh5M9TC6Ub2hUD",
      "authorship_tag": "ABX9TyO4bEEI9wAxFhvS6UhY+pAS",
      "include_colab_link": true
    },
    "kernelspec": {
      "name": "python3",
      "display_name": "Python 3"
    }
  },
  "cells": [
    {
      "cell_type": "markdown",
      "metadata": {
        "id": "view-in-github",
        "colab_type": "text"
      },
      "source": [
        "<a href=\"https://colab.research.google.com/github/wallik2/University-stuff/blob/main/Intro_Data_Sci/Homework/HW6_2_Data_presentation_Q_4.ipynb\" target=\"_parent\"><img src=\"https://colab.research.google.com/assets/colab-badge.svg\" alt=\"Open In Colab\"/></a>"
      ]
    },
    {
      "cell_type": "code",
      "metadata": {
        "id": "i6atrgn4CYuK"
      },
      "source": [
        "import pandas as pd"
      ],
      "execution_count": null,
      "outputs": []
    },
    {
      "cell_type": "markdown",
      "metadata": {
        "id": "Iqph0372FHOm"
      },
      "source": [
        "\n",
        "\n",
        "---\n",
        "\n",
        "\n",
        "# 4.Write Python code to process AAPL_data.csv and answer following question"
      ]
    },
    {
      "cell_type": "code",
      "metadata": {
        "id": "PUb1bgh5FQrW"
      },
      "source": [
        "AAPL_data = pd.read_csv('/content/drive/MyDrive/Data /AAPL_data.csv')"
      ],
      "execution_count": null,
      "outputs": []
    },
    {
      "cell_type": "markdown",
      "metadata": {
        "id": "-F_oxGyKTMjg"
      },
      "source": [
        "<fieldset>\n",
        "<font size=\"5\">Stock trading Terminology</font> <br> \n",
        "\n",
        "- High and Low refer to the maximum and minimum prices in a given time period.\n",
        "\n",
        "- Open and close are the prices at which a stock began and ended trading in the same period.\n",
        "\n",
        "- Volume is the total amount of trading activity.\n",
        "\n",
        "\n"
      ]
    },
    {
      "cell_type": "markdown",
      "metadata": {
        "id": "xMUgBd3nS5Kg"
      },
      "source": [
        "![33.PNG](data:image/png;base64,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)\n",
        "\n",
        "---"
      ]
    },
    {
      "cell_type": "code",
      "metadata": {
        "colab": {
          "base_uri": "https://localhost:8080/"
        },
        "id": "JVZ75oflOsm4",
        "outputId": "b5ec3e2e-c38e-4304-df90-ba9b2e058f5e"
      },
      "source": [
        "AAPL_data.head()"
      ],
      "execution_count": null,
      "outputs": [
        {
          "output_type": "execute_result",
          "data": {
            "text/html": [
              "<div>\n",
              "<style scoped>\n",
              "    .dataframe tbody tr th:only-of-type {\n",
              "        vertical-align: middle;\n",
              "    }\n",
              "\n",
              "    .dataframe tbody tr th {\n",
              "        vertical-align: top;\n",
              "    }\n",
              "\n",
              "    .dataframe thead th {\n",
              "        text-align: right;\n",
              "    }\n",
              "</style>\n",
              "<table border=\"1\" class=\"dataframe\">\n",
              "  <thead>\n",
              "    <tr style=\"text-align: right;\">\n",
              "      <th></th>\n",
              "      <th>date</th>\n",
              "      <th>open</th>\n",
              "      <th>high</th>\n",
              "      <th>low</th>\n",
              "      <th>close</th>\n",
              "      <th>volume</th>\n",
              "      <th>Name</th>\n",
              "    </tr>\n",
              "  </thead>\n",
              "  <tbody>\n",
              "    <tr>\n",
              "      <th>1</th>\n",
              "      <td>2013-02-08</td>\n",
              "      <td>67.7142</td>\n",
              "      <td>68.4014</td>\n",
              "      <td>66.8928</td>\n",
              "      <td>67.8542</td>\n",
              "      <td>158168416</td>\n",
              "      <td>AAPL</td>\n",
              "    </tr>\n",
              "    <tr>\n",
              "      <th>2</th>\n",
              "      <td>2013-02-11</td>\n",
              "      <td>68.0714</td>\n",
              "      <td>69.2771</td>\n",
              "      <td>67.6071</td>\n",
              "      <td>68.5614</td>\n",
              "      <td>129029425</td>\n",
              "      <td>AAPL</td>\n",
              "    </tr>\n",
              "    <tr>\n",
              "      <th>3</th>\n",
              "      <td>2013-02-12</td>\n",
              "      <td>68.5014</td>\n",
              "      <td>68.9114</td>\n",
              "      <td>66.8205</td>\n",
              "      <td>66.8428</td>\n",
              "      <td>151829363</td>\n",
              "      <td>AAPL</td>\n",
              "    </tr>\n",
              "    <tr>\n",
              "      <th>4</th>\n",
              "      <td>2013-02-13</td>\n",
              "      <td>66.7442</td>\n",
              "      <td>67.6628</td>\n",
              "      <td>66.1742</td>\n",
              "      <td>66.7156</td>\n",
              "      <td>118721995</td>\n",
              "      <td>AAPL</td>\n",
              "    </tr>\n",
              "    <tr>\n",
              "      <th>5</th>\n",
              "      <td>2013-02-14</td>\n",
              "      <td>66.3599</td>\n",
              "      <td>67.3771</td>\n",
              "      <td>66.2885</td>\n",
              "      <td>66.6556</td>\n",
              "      <td>88809154</td>\n",
              "      <td>AAPL</td>\n",
              "    </tr>\n",
              "  </tbody>\n",
              "</table>\n",
              "</div>"
            ],
            "text/plain": [
              "         date     open     high      low    close     volume  Name\n",
              "1  2013-02-08  67.7142  68.4014  66.8928  67.8542  158168416  AAPL\n",
              "2  2013-02-11  68.0714  69.2771  67.6071  68.5614  129029425  AAPL\n",
              "3  2013-02-12  68.5014  68.9114  66.8205  66.8428  151829363  AAPL\n",
              "4  2013-02-13  66.7442  67.6628  66.1742  66.7156  118721995  AAPL\n",
              "5  2013-02-14  66.3599  67.3771  66.2885  66.6556   88809154  AAPL"
            ]
          },
          "metadata": {
            "tags": []
          },
          "execution_count": 67
        }
      ]
    },
    {
      "cell_type": "code",
      "metadata": {
        "id": "c6wbD6A_GDfu"
      },
      "source": [
        "# Let the first index starts from 1 instead of 0 (Preference)\n",
        "\n",
        "AAPL_data.index +=1"
      ],
      "execution_count": null,
      "outputs": []
    },
    {
      "cell_type": "code",
      "metadata": {
        "colab": {
          "base_uri": "https://localhost:8080/"
        },
        "id": "oYu1k8SbP7GI",
        "outputId": "245ef9b5-3e81-4d7e-e282-4ca497ad2c91"
      },
      "source": [
        "# The Number of instances and attributes\n",
        "\n",
        "AAPL_data.shape"
      ],
      "execution_count": null,
      "outputs": [
        {
          "output_type": "execute_result",
          "data": {
            "text/plain": [
              "(1259, 7)"
            ]
          },
          "metadata": {
            "tags": []
          },
          "execution_count": 68
        }
      ]
    },
    {
      "cell_type": "code",
      "metadata": {
        "id": "G-eRFZqBQdx4"
      },
      "source": [
        "# Seem like AAPL is not a useful attribute, since it's all belong to AAPL\n",
        "\n",
        "AAPL_data['Name'].value_counts()"
      ],
      "execution_count": null,
      "outputs": []
    },
    {
      "cell_type": "code",
      "metadata": {
        "id": "cGQ9FtIaR-D5"
      },
      "source": [
        "# So, Let's remove the attribute 'name'\n",
        "AAPL_data.drop('Name', inplace=True, axis=1)"
      ],
      "execution_count": null,
      "outputs": []
    },
    {
      "cell_type": "code",
      "metadata": {
        "colab": {
          "base_uri": "https://localhost:8080/"
        },
        "id": "VOGNJBxCRBaR",
        "outputId": "b5c1bf16-60c8-47e1-c20f-ecc2a9c05d8c"
      },
      "source": [
        "AAPL_data.describe()"
      ],
      "execution_count": null,
      "outputs": [
        {
          "output_type": "execute_result",
          "data": {
            "text/html": [
              "<div>\n",
              "<style scoped>\n",
              "    .dataframe tbody tr th:only-of-type {\n",
              "        vertical-align: middle;\n",
              "    }\n",
              "\n",
              "    .dataframe tbody tr th {\n",
              "        vertical-align: top;\n",
              "    }\n",
              "\n",
              "    .dataframe thead th {\n",
              "        text-align: right;\n",
              "    }\n",
              "</style>\n",
              "<table border=\"1\" class=\"dataframe\">\n",
              "  <thead>\n",
              "    <tr style=\"text-align: right;\">\n",
              "      <th></th>\n",
              "      <th>open</th>\n",
              "      <th>high</th>\n",
              "      <th>low</th>\n",
              "      <th>close</th>\n",
              "      <th>volume</th>\n",
              "    </tr>\n",
              "  </thead>\n",
              "  <tbody>\n",
              "    <tr>\n",
              "      <th>count</th>\n",
              "      <td>1259.000000</td>\n",
              "      <td>1259.000000</td>\n",
              "      <td>1259.000000</td>\n",
              "      <td>1259.000000</td>\n",
              "      <td>1.259000e+03</td>\n",
              "    </tr>\n",
              "    <tr>\n",
              "      <th>mean</th>\n",
              "      <td>109.055429</td>\n",
              "      <td>109.951118</td>\n",
              "      <td>108.141589</td>\n",
              "      <td>109.066698</td>\n",
              "      <td>5.404790e+07</td>\n",
              "    </tr>\n",
              "    <tr>\n",
              "      <th>std</th>\n",
              "      <td>30.549220</td>\n",
              "      <td>30.686186</td>\n",
              "      <td>30.376224</td>\n",
              "      <td>30.556812</td>\n",
              "      <td>3.346835e+07</td>\n",
              "    </tr>\n",
              "    <tr>\n",
              "      <th>min</th>\n",
              "      <td>55.424200</td>\n",
              "      <td>57.085700</td>\n",
              "      <td>55.014200</td>\n",
              "      <td>55.789900</td>\n",
              "      <td>1.147592e+07</td>\n",
              "    </tr>\n",
              "    <tr>\n",
              "      <th>25%</th>\n",
              "      <td>84.647800</td>\n",
              "      <td>85.334950</td>\n",
              "      <td>84.250650</td>\n",
              "      <td>84.830650</td>\n",
              "      <td>2.969438e+07</td>\n",
              "    </tr>\n",
              "    <tr>\n",
              "      <th>50%</th>\n",
              "      <td>108.970000</td>\n",
              "      <td>110.030000</td>\n",
              "      <td>108.050000</td>\n",
              "      <td>109.010000</td>\n",
              "      <td>4.566893e+07</td>\n",
              "    </tr>\n",
              "    <tr>\n",
              "      <th>75%</th>\n",
              "      <td>127.335000</td>\n",
              "      <td>128.100000</td>\n",
              "      <td>126.290000</td>\n",
              "      <td>127.120000</td>\n",
              "      <td>6.870872e+07</td>\n",
              "    </tr>\n",
              "    <tr>\n",
              "      <th>max</th>\n",
              "      <td>179.370000</td>\n",
              "      <td>180.100000</td>\n",
              "      <td>178.250000</td>\n",
              "      <td>179.260000</td>\n",
              "      <td>2.668336e+08</td>\n",
              "    </tr>\n",
              "  </tbody>\n",
              "</table>\n",
              "</div>"
            ],
            "text/plain": [
              "              open         high          low        close        volume\n",
              "count  1259.000000  1259.000000  1259.000000  1259.000000  1.259000e+03\n",
              "mean    109.055429   109.951118   108.141589   109.066698  5.404790e+07\n",
              "std      30.549220    30.686186    30.376224    30.556812  3.346835e+07\n",
              "min      55.424200    57.085700    55.014200    55.789900  1.147592e+07\n",
              "25%      84.647800    85.334950    84.250650    84.830650  2.969438e+07\n",
              "50%     108.970000   110.030000   108.050000   109.010000  4.566893e+07\n",
              "75%     127.335000   128.100000   126.290000   127.120000  6.870872e+07\n",
              "max     179.370000   180.100000   178.250000   179.260000  2.668336e+08"
            ]
          },
          "metadata": {
            "tags": []
          },
          "execution_count": 83
        }
      ]
    },
    {
      "cell_type": "code",
      "metadata": {
        "colab": {
          "base_uri": "https://localhost:8080/"
        },
        "id": "xqHtIihBUaFB",
        "outputId": "d5f7f188-965e-4541-f334-a9568a138abf"
      },
      "source": [
        "# Descending the dataset by 'high' column\n",
        "\n",
        "AAPL_data.sort_values(by='high', ascending=False)"
      ],
      "execution_count": null,
      "outputs": [
        {
          "output_type": "execute_result",
          "data": {
            "text/html": [
              "<div>\n",
              "<style scoped>\n",
              "    .dataframe tbody tr th:only-of-type {\n",
              "        vertical-align: middle;\n",
              "    }\n",
              "\n",
              "    .dataframe tbody tr th {\n",
              "        vertical-align: top;\n",
              "    }\n",
              "\n",
              "    .dataframe thead th {\n",
              "        text-align: right;\n",
              "    }\n",
              "</style>\n",
              "<table border=\"1\" class=\"dataframe\">\n",
              "  <thead>\n",
              "    <tr style=\"text-align: right;\">\n",
              "      <th></th>\n",
              "      <th>date</th>\n",
              "      <th>open</th>\n",
              "      <th>high</th>\n",
              "      <th>low</th>\n",
              "      <th>close</th>\n",
              "      <th>volume</th>\n",
              "    </tr>\n",
              "  </thead>\n",
              "  <tbody>\n",
              "    <tr>\n",
              "      <th>1245</th>\n",
              "      <td>2018-01-18</td>\n",
              "      <td>179.3700</td>\n",
              "      <td>180.1000</td>\n",
              "      <td>178.2500</td>\n",
              "      <td>179.2600</td>\n",
              "      <td>31193352</td>\n",
              "    </tr>\n",
              "    <tr>\n",
              "      <th>1246</th>\n",
              "      <td>2018-01-19</td>\n",
              "      <td>178.6100</td>\n",
              "      <td>179.5800</td>\n",
              "      <td>177.4100</td>\n",
              "      <td>178.4600</td>\n",
              "      <td>32425067</td>\n",
              "    </tr>\n",
              "    <tr>\n",
              "      <th>1248</th>\n",
              "      <td>2018-01-23</td>\n",
              "      <td>177.3000</td>\n",
              "      <td>179.4400</td>\n",
              "      <td>176.8200</td>\n",
              "      <td>177.0400</td>\n",
              "      <td>32689146</td>\n",
              "    </tr>\n",
              "    <tr>\n",
              "      <th>1243</th>\n",
              "      <td>2018-01-16</td>\n",
              "      <td>177.9000</td>\n",
              "      <td>179.3900</td>\n",
              "      <td>176.1400</td>\n",
              "      <td>176.1900</td>\n",
              "      <td>29565947</td>\n",
              "    </tr>\n",
              "    <tr>\n",
              "      <th>1244</th>\n",
              "      <td>2018-01-17</td>\n",
              "      <td>176.1500</td>\n",
              "      <td>179.2500</td>\n",
              "      <td>175.0700</td>\n",
              "      <td>179.1000</td>\n",
              "      <td>34386836</td>\n",
              "    </tr>\n",
              "    <tr>\n",
              "      <th>...</th>\n",
              "      <td>...</td>\n",
              "      <td>...</td>\n",
              "      <td>...</td>\n",
              "      <td>...</td>\n",
              "      <td>...</td>\n",
              "      <td>...</td>\n",
              "    </tr>\n",
              "    <tr>\n",
              "      <th>96</th>\n",
              "      <td>2013-06-26</td>\n",
              "      <td>57.6999</td>\n",
              "      <td>57.8271</td>\n",
              "      <td>56.5228</td>\n",
              "      <td>56.8671</td>\n",
              "      <td>91924994</td>\n",
              "    </tr>\n",
              "    <tr>\n",
              "      <th>50</th>\n",
              "      <td>2013-04-22</td>\n",
              "      <td>56.0914</td>\n",
              "      <td>57.4571</td>\n",
              "      <td>55.8964</td>\n",
              "      <td>56.9528</td>\n",
              "      <td>107338322</td>\n",
              "    </tr>\n",
              "    <tr>\n",
              "      <th>97</th>\n",
              "      <td>2013-06-27</td>\n",
              "      <td>57.0357</td>\n",
              "      <td>57.3414</td>\n",
              "      <td>56.2199</td>\n",
              "      <td>56.2542</td>\n",
              "      <td>84297955</td>\n",
              "    </tr>\n",
              "    <tr>\n",
              "      <th>98</th>\n",
              "      <td>2013-06-28</td>\n",
              "      <td>55.9085</td>\n",
              "      <td>57.1814</td>\n",
              "      <td>55.5528</td>\n",
              "      <td>56.6471</td>\n",
              "      <td>144619734</td>\n",
              "    </tr>\n",
              "    <tr>\n",
              "      <th>49</th>\n",
              "      <td>2013-04-19</td>\n",
              "      <td>55.4242</td>\n",
              "      <td>57.0857</td>\n",
              "      <td>55.0142</td>\n",
              "      <td>55.7899</td>\n",
              "      <td>152194413</td>\n",
              "    </tr>\n",
              "  </tbody>\n",
              "</table>\n",
              "<p>1259 rows × 6 columns</p>\n",
              "</div>"
            ],
            "text/plain": [
              "            date      open      high       low     close     volume\n",
              "1245  2018-01-18  179.3700  180.1000  178.2500  179.2600   31193352\n",
              "1246  2018-01-19  178.6100  179.5800  177.4100  178.4600   32425067\n",
              "1248  2018-01-23  177.3000  179.4400  176.8200  177.0400   32689146\n",
              "1243  2018-01-16  177.9000  179.3900  176.1400  176.1900   29565947\n",
              "1244  2018-01-17  176.1500  179.2500  175.0700  179.1000   34386836\n",
              "...          ...       ...       ...       ...       ...        ...\n",
              "96    2013-06-26   57.6999   57.8271   56.5228   56.8671   91924994\n",
              "50    2013-04-22   56.0914   57.4571   55.8964   56.9528  107338322\n",
              "97    2013-06-27   57.0357   57.3414   56.2199   56.2542   84297955\n",
              "98    2013-06-28   55.9085   57.1814   55.5528   56.6471  144619734\n",
              "49    2013-04-19   55.4242   57.0857   55.0142   55.7899  152194413\n",
              "\n",
              "[1259 rows x 6 columns]"
            ]
          },
          "metadata": {
            "tags": []
          },
          "execution_count": 85
        }
      ]
    },
    {
      "cell_type": "code",
      "metadata": {
        "colab": {
          "base_uri": "https://localhost:8080/"
        },
        "id": "GOjKcm3zV2RB",
        "outputId": "dec45f31-d1bd-46e6-e7e7-7aec29acd87b"
      },
      "source": [
        "AAPL_data.sort_values(by='low')"
      ],
      "execution_count": null,
      "outputs": [
        {
          "output_type": "execute_result",
          "data": {
            "text/html": [
              "<div>\n",
              "<style scoped>\n",
              "    .dataframe tbody tr th:only-of-type {\n",
              "        vertical-align: middle;\n",
              "    }\n",
              "\n",
              "    .dataframe tbody tr th {\n",
              "        vertical-align: top;\n",
              "    }\n",
              "\n",
              "    .dataframe thead th {\n",
              "        text-align: right;\n",
              "    }\n",
              "</style>\n",
              "<table border=\"1\" class=\"dataframe\">\n",
              "  <thead>\n",
              "    <tr style=\"text-align: right;\">\n",
              "      <th></th>\n",
              "      <th>date</th>\n",
              "      <th>open</th>\n",
              "      <th>high</th>\n",
              "      <th>low</th>\n",
              "      <th>close</th>\n",
              "      <th>volume</th>\n",
              "    </tr>\n",
              "  </thead>\n",
              "  <tbody>\n",
              "    <tr>\n",
              "      <th>49</th>\n",
              "      <td>2013-04-19</td>\n",
              "      <td>55.4242</td>\n",
              "      <td>57.0857</td>\n",
              "      <td>55.0142</td>\n",
              "      <td>55.7899</td>\n",
              "      <td>152194413</td>\n",
              "    </tr>\n",
              "    <tr>\n",
              "      <th>98</th>\n",
              "      <td>2013-06-28</td>\n",
              "      <td>55.9085</td>\n",
              "      <td>57.1814</td>\n",
              "      <td>55.5528</td>\n",
              "      <td>56.6471</td>\n",
              "      <td>144619734</td>\n",
              "    </tr>\n",
              "    <tr>\n",
              "      <th>48</th>\n",
              "      <td>2013-04-18</td>\n",
              "      <td>57.8557</td>\n",
              "      <td>57.9699</td>\n",
              "      <td>55.6774</td>\n",
              "      <td>56.0071</td>\n",
              "      <td>166438048</td>\n",
              "    </tr>\n",
              "    <tr>\n",
              "      <th>50</th>\n",
              "      <td>2013-04-22</td>\n",
              "      <td>56.0914</td>\n",
              "      <td>57.4571</td>\n",
              "      <td>55.8964</td>\n",
              "      <td>56.9528</td>\n",
              "      <td>107338322</td>\n",
              "    </tr>\n",
              "    <tr>\n",
              "      <th>52</th>\n",
              "      <td>2013-04-24</td>\n",
              "      <td>56.2199</td>\n",
              "      <td>59.3214</td>\n",
              "      <td>56.0714</td>\n",
              "      <td>57.9231</td>\n",
              "      <td>242387530</td>\n",
              "    </tr>\n",
              "    <tr>\n",
              "      <th>...</th>\n",
              "      <td>...</td>\n",
              "      <td>...</td>\n",
              "      <td>...</td>\n",
              "      <td>...</td>\n",
              "      <td>...</td>\n",
              "      <td>...</td>\n",
              "    </tr>\n",
              "    <tr>\n",
              "      <th>1243</th>\n",
              "      <td>2018-01-16</td>\n",
              "      <td>177.9000</td>\n",
              "      <td>179.3900</td>\n",
              "      <td>176.1400</td>\n",
              "      <td>176.1900</td>\n",
              "      <td>29565947</td>\n",
              "    </tr>\n",
              "    <tr>\n",
              "      <th>1247</th>\n",
              "      <td>2018-01-22</td>\n",
              "      <td>177.3000</td>\n",
              "      <td>177.7800</td>\n",
              "      <td>176.6016</td>\n",
              "      <td>177.0000</td>\n",
              "      <td>27108551</td>\n",
              "    </tr>\n",
              "    <tr>\n",
              "      <th>1248</th>\n",
              "      <td>2018-01-23</td>\n",
              "      <td>177.3000</td>\n",
              "      <td>179.4400</td>\n",
              "      <td>176.8200</td>\n",
              "      <td>177.0400</td>\n",
              "      <td>32689146</td>\n",
              "    </tr>\n",
              "    <tr>\n",
              "      <th>1246</th>\n",
              "      <td>2018-01-19</td>\n",
              "      <td>178.6100</td>\n",
              "      <td>179.5800</td>\n",
              "      <td>177.4100</td>\n",
              "      <td>178.4600</td>\n",
              "      <td>32425067</td>\n",
              "    </tr>\n",
              "    <tr>\n",
              "      <th>1245</th>\n",
              "      <td>2018-01-18</td>\n",
              "      <td>179.3700</td>\n",
              "      <td>180.1000</td>\n",
              "      <td>178.2500</td>\n",
              "      <td>179.2600</td>\n",
              "      <td>31193352</td>\n",
              "    </tr>\n",
              "  </tbody>\n",
              "</table>\n",
              "<p>1259 rows × 6 columns</p>\n",
              "</div>"
            ],
            "text/plain": [
              "            date      open      high       low     close     volume\n",
              "49    2013-04-19   55.4242   57.0857   55.0142   55.7899  152194413\n",
              "98    2013-06-28   55.9085   57.1814   55.5528   56.6471  144619734\n",
              "48    2013-04-18   57.8557   57.9699   55.6774   56.0071  166438048\n",
              "50    2013-04-22   56.0914   57.4571   55.8964   56.9528  107338322\n",
              "52    2013-04-24   56.2199   59.3214   56.0714   57.9231  242387530\n",
              "...          ...       ...       ...       ...       ...        ...\n",
              "1243  2018-01-16  177.9000  179.3900  176.1400  176.1900   29565947\n",
              "1247  2018-01-22  177.3000  177.7800  176.6016  177.0000   27108551\n",
              "1248  2018-01-23  177.3000  179.4400  176.8200  177.0400   32689146\n",
              "1246  2018-01-19  178.6100  179.5800  177.4100  178.4600   32425067\n",
              "1245  2018-01-18  179.3700  180.1000  178.2500  179.2600   31193352\n",
              "\n",
              "[1259 rows x 6 columns]"
            ]
          },
          "metadata": {
            "tags": []
          },
          "execution_count": 86
        }
      ]
    }
  ]
}