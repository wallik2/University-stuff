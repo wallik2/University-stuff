{
  "nbformat": 4,
  "nbformat_minor": 0,
  "metadata": {
    "colab": {
      "name": "HW11_12_Clustering (Iris)",
      "provenance": [],
      "mount_file_id": "1AJ90-4DtpiQ8y8F3cZsD082HlBlD2QmP",
      "authorship_tag": "ABX9TyM2fDdHHpXQE1jWeDzP5bRG",
      "include_colab_link": true
    },
    "kernelspec": {
      "name": "python3",
      "display_name": "Python 3"
    },
    "language_info": {
      "name": "python"
    }
  },
  "cells": [
    {
      "cell_type": "markdown",
      "metadata": {
        "id": "view-in-github",
        "colab_type": "text"
      },
      "source": [
        "<a href=\"https://colab.research.google.com/github/wallik2/University-stuff/blob/main/Intro_Data_Sci/Homework/HW11_12_Clustering_(Iris).ipynb\" target=\"_parent\"><img src=\"https://colab.research.google.com/assets/colab-badge.svg\" alt=\"Open In Colab\"/></a>"
      ]
    },
    {
      "cell_type": "markdown",
      "metadata": {
        "id": "QjcoZeoVMzwB"
      },
      "source": [
        "##### 1. Collecting the data"
      ]
    },
    {
      "cell_type": "code",
      "metadata": {
        "colab": {
          "base_uri": "https://localhost:8080/",
          "height": 419
        },
        "id": "MUYPJ_FhIZgx",
        "outputId": "dbbca7c7-b72c-4980-edea-23b0de428b1c"
      },
      "source": [
        "import pandas as pd, numpy as np ,matplotlib.pyplot as plt, seaborn as sns\n",
        "\n",
        "iris = pd.read_csv(\"/content/drive/MyDrive/Data /iris.data\",header=None)\n",
        "\n",
        "iris.columns = ['Petal Length', 'Petal Width', 'Sepal Length', 'Sepal Width', 'Species']\n",
        "\n",
        "iris"
      ],
      "execution_count": null,
      "outputs": [
        {
          "output_type": "execute_result",
          "data": {
            "text/html": [
              "<div>\n",
              "<style scoped>\n",
              "    .dataframe tbody tr th:only-of-type {\n",
              "        vertical-align: middle;\n",
              "    }\n",
              "\n",
              "    .dataframe tbody tr th {\n",
              "        vertical-align: top;\n",
              "    }\n",
              "\n",
              "    .dataframe thead th {\n",
              "        text-align: right;\n",
              "    }\n",
              "</style>\n",
              "<table border=\"1\" class=\"dataframe\">\n",
              "  <thead>\n",
              "    <tr style=\"text-align: right;\">\n",
              "      <th></th>\n",
              "      <th>Petal Length</th>\n",
              "      <th>Petal Width</th>\n",
              "      <th>Sepal Length</th>\n",
              "      <th>Sepal Width</th>\n",
              "      <th>Species</th>\n",
              "    </tr>\n",
              "  </thead>\n",
              "  <tbody>\n",
              "    <tr>\n",
              "      <th>0</th>\n",
              "      <td>5.1</td>\n",
              "      <td>3.5</td>\n",
              "      <td>1.4</td>\n",
              "      <td>0.2</td>\n",
              "      <td>Iris-setosa</td>\n",
              "    </tr>\n",
              "    <tr>\n",
              "      <th>1</th>\n",
              "      <td>4.9</td>\n",
              "      <td>3.0</td>\n",
              "      <td>1.4</td>\n",
              "      <td>0.2</td>\n",
              "      <td>Iris-setosa</td>\n",
              "    </tr>\n",
              "    <tr>\n",
              "      <th>2</th>\n",
              "      <td>4.7</td>\n",
              "      <td>3.2</td>\n",
              "      <td>1.3</td>\n",
              "      <td>0.2</td>\n",
              "      <td>Iris-setosa</td>\n",
              "    </tr>\n",
              "    <tr>\n",
              "      <th>3</th>\n",
              "      <td>4.6</td>\n",
              "      <td>3.1</td>\n",
              "      <td>1.5</td>\n",
              "      <td>0.2</td>\n",
              "      <td>Iris-setosa</td>\n",
              "    </tr>\n",
              "    <tr>\n",
              "      <th>4</th>\n",
              "      <td>5.0</td>\n",
              "      <td>3.6</td>\n",
              "      <td>1.4</td>\n",
              "      <td>0.2</td>\n",
              "      <td>Iris-setosa</td>\n",
              "    </tr>\n",
              "    <tr>\n",
              "      <th>...</th>\n",
              "      <td>...</td>\n",
              "      <td>...</td>\n",
              "      <td>...</td>\n",
              "      <td>...</td>\n",
              "      <td>...</td>\n",
              "    </tr>\n",
              "    <tr>\n",
              "      <th>145</th>\n",
              "      <td>6.7</td>\n",
              "      <td>3.0</td>\n",
              "      <td>5.2</td>\n",
              "      <td>2.3</td>\n",
              "      <td>Iris-virginica</td>\n",
              "    </tr>\n",
              "    <tr>\n",
              "      <th>146</th>\n",
              "      <td>6.3</td>\n",
              "      <td>2.5</td>\n",
              "      <td>5.0</td>\n",
              "      <td>1.9</td>\n",
              "      <td>Iris-virginica</td>\n",
              "    </tr>\n",
              "    <tr>\n",
              "      <th>147</th>\n",
              "      <td>6.5</td>\n",
              "      <td>3.0</td>\n",
              "      <td>5.2</td>\n",
              "      <td>2.0</td>\n",
              "      <td>Iris-virginica</td>\n",
              "    </tr>\n",
              "    <tr>\n",
              "      <th>148</th>\n",
              "      <td>6.2</td>\n",
              "      <td>3.4</td>\n",
              "      <td>5.4</td>\n",
              "      <td>2.3</td>\n",
              "      <td>Iris-virginica</td>\n",
              "    </tr>\n",
              "    <tr>\n",
              "      <th>149</th>\n",
              "      <td>5.9</td>\n",
              "      <td>3.0</td>\n",
              "      <td>5.1</td>\n",
              "      <td>1.8</td>\n",
              "      <td>Iris-virginica</td>\n",
              "    </tr>\n",
              "  </tbody>\n",
              "</table>\n",
              "<p>150 rows × 5 columns</p>\n",
              "</div>"
            ],
            "text/plain": [
              "     Petal Length  Petal Width  Sepal Length  Sepal Width         Species\n",
              "0             5.1          3.5           1.4          0.2     Iris-setosa\n",
              "1             4.9          3.0           1.4          0.2     Iris-setosa\n",
              "2             4.7          3.2           1.3          0.2     Iris-setosa\n",
              "3             4.6          3.1           1.5          0.2     Iris-setosa\n",
              "4             5.0          3.6           1.4          0.2     Iris-setosa\n",
              "..            ...          ...           ...          ...             ...\n",
              "145           6.7          3.0           5.2          2.3  Iris-virginica\n",
              "146           6.3          2.5           5.0          1.9  Iris-virginica\n",
              "147           6.5          3.0           5.2          2.0  Iris-virginica\n",
              "148           6.2          3.4           5.4          2.3  Iris-virginica\n",
              "149           5.9          3.0           5.1          1.8  Iris-virginica\n",
              "\n",
              "[150 rows x 5 columns]"
            ]
          },
          "metadata": {
            "tags": []
          },
          "execution_count": 290
        }
      ]
    },
    {
      "cell_type": "markdown",
      "metadata": {
        "id": "IAhjBgMlNxM_"
      },
      "source": [
        "\n",
        "\n",
        "---\n",
        "\n"
      ]
    },
    {
      "cell_type": "markdown",
      "metadata": {
        "id": "q3uwmel_NuyY"
      },
      "source": [
        "##### 2. Data Exploration"
      ]
    },
    {
      "cell_type": "code",
      "metadata": {
        "colab": {
          "base_uri": "https://localhost:8080/",
          "height": 297
        },
        "id": "t74VYtbUF3Qf",
        "outputId": "720c6c65-0af1-409a-eb6c-d159723944a0"
      },
      "source": [
        "iris.describe()"
      ],
      "execution_count": null,
      "outputs": [
        {
          "output_type": "execute_result",
          "data": {
            "text/html": [
              "<div>\n",
              "<style scoped>\n",
              "    .dataframe tbody tr th:only-of-type {\n",
              "        vertical-align: middle;\n",
              "    }\n",
              "\n",
              "    .dataframe tbody tr th {\n",
              "        vertical-align: top;\n",
              "    }\n",
              "\n",
              "    .dataframe thead th {\n",
              "        text-align: right;\n",
              "    }\n",
              "</style>\n",
              "<table border=\"1\" class=\"dataframe\">\n",
              "  <thead>\n",
              "    <tr style=\"text-align: right;\">\n",
              "      <th></th>\n",
              "      <th>Petal Length</th>\n",
              "      <th>Petal Width</th>\n",
              "      <th>Sepal Length</th>\n",
              "      <th>Sepal Width</th>\n",
              "    </tr>\n",
              "  </thead>\n",
              "  <tbody>\n",
              "    <tr>\n",
              "      <th>count</th>\n",
              "      <td>150.000000</td>\n",
              "      <td>150.000000</td>\n",
              "      <td>150.000000</td>\n",
              "      <td>150.000000</td>\n",
              "    </tr>\n",
              "    <tr>\n",
              "      <th>mean</th>\n",
              "      <td>5.843333</td>\n",
              "      <td>3.054000</td>\n",
              "      <td>3.758667</td>\n",
              "      <td>1.198667</td>\n",
              "    </tr>\n",
              "    <tr>\n",
              "      <th>std</th>\n",
              "      <td>0.828066</td>\n",
              "      <td>0.433594</td>\n",
              "      <td>1.764420</td>\n",
              "      <td>0.763161</td>\n",
              "    </tr>\n",
              "    <tr>\n",
              "      <th>min</th>\n",
              "      <td>4.300000</td>\n",
              "      <td>2.000000</td>\n",
              "      <td>1.000000</td>\n",
              "      <td>0.100000</td>\n",
              "    </tr>\n",
              "    <tr>\n",
              "      <th>25%</th>\n",
              "      <td>5.100000</td>\n",
              "      <td>2.800000</td>\n",
              "      <td>1.600000</td>\n",
              "      <td>0.300000</td>\n",
              "    </tr>\n",
              "    <tr>\n",
              "      <th>50%</th>\n",
              "      <td>5.800000</td>\n",
              "      <td>3.000000</td>\n",
              "      <td>4.350000</td>\n",
              "      <td>1.300000</td>\n",
              "    </tr>\n",
              "    <tr>\n",
              "      <th>75%</th>\n",
              "      <td>6.400000</td>\n",
              "      <td>3.300000</td>\n",
              "      <td>5.100000</td>\n",
              "      <td>1.800000</td>\n",
              "    </tr>\n",
              "    <tr>\n",
              "      <th>max</th>\n",
              "      <td>7.900000</td>\n",
              "      <td>4.400000</td>\n",
              "      <td>6.900000</td>\n",
              "      <td>2.500000</td>\n",
              "    </tr>\n",
              "  </tbody>\n",
              "</table>\n",
              "</div>"
            ],
            "text/plain": [
              "       Petal Length  Petal Width  Sepal Length  Sepal Width\n",
              "count    150.000000   150.000000    150.000000   150.000000\n",
              "mean       5.843333     3.054000      3.758667     1.198667\n",
              "std        0.828066     0.433594      1.764420     0.763161\n",
              "min        4.300000     2.000000      1.000000     0.100000\n",
              "25%        5.100000     2.800000      1.600000     0.300000\n",
              "50%        5.800000     3.000000      4.350000     1.300000\n",
              "75%        6.400000     3.300000      5.100000     1.800000\n",
              "max        7.900000     4.400000      6.900000     2.500000"
            ]
          },
          "metadata": {
            "tags": []
          },
          "execution_count": 291
        }
      ]
    },
    {
      "cell_type": "code",
      "metadata": {
        "colab": {
          "base_uri": "https://localhost:8080/",
          "height": 867
        },
        "id": "6agh0qPKNg3f",
        "outputId": "b51778e8-db0b-4cb2-9133-e769f390a261"
      },
      "source": [
        "corr_matrix = iris.corr()\n",
        "top_corr_features = corr_matrix.index\n",
        "plt.figure(figsize=(20,15))\n",
        "#Plot heat map\n",
        "g=sns.heatmap(iris[top_corr_features].corr(),annot=True,cmap=\"RdYlGn\")"
      ],
      "execution_count": null,
      "outputs": [
        {
          "output_type": "display_data",
          "data": {
            "image/png": "[encoded data removed]",
            "text/plain": [
              "<Figure size 1440x1080 with 2 Axes>"
            ]
          },
          "metadata": {
            "tags": [],
            "needs_background": "light"
          }
        }
      ]
    },
    {
      "cell_type": "markdown",
      "metadata": {
        "id": "ey-GWUmzOlGn"
      },
      "source": [
        "> From Collinearity: Sepal width & Sepal length has the highest multicollinearity"
      ]
    },
    {
      "cell_type": "code",
      "metadata": {
        "id": "9fEJCDNQOAQP"
      },
      "source": [
        "X = iris.drop('Species',axis=1)\n",
        "\n",
        "y = iris['Species']\n",
        "\n",
        "#Extract the features & label "
      ],
      "execution_count": null,
      "outputs": []
    },
    {
      "cell_type": "code",
      "metadata": {
        "colab": {
          "base_uri": "https://localhost:8080/",
          "height": 282
        },
        "id": "ZG4GYOI5ONHH",
        "outputId": "e5ecc169-618d-4efe-b52a-12b2d6e2594b"
      },
      "source": [
        "from sklearn.feature_selection import mutual_info_classif\n",
        "\n",
        "m1_score = mutual_info_classif(X,y)\n",
        "\n",
        "m1_score = pd.DataFrame(data=m1_score,columns=['MI_score'],index=X.columns)\n",
        "\n",
        "m1_score.sort_values(by='MI_score',ascending=False).plot.barh()"
      ],
      "execution_count": null,
      "outputs": [
        {
          "output_type": "execute_result",
          "data": {
            "text/plain": [
              "<matplotlib.axes._subplots.AxesSubplot at 0x7f3365fb2390>"
            ]
          },
          "metadata": {
            "tags": []
          },
          "execution_count": 294
        },
        {
          "output_type": "display_data",
          "data": {
            "image/png": "[encoded data removed]",
            "text/plain": [
              "<Figure size 432x288 with 1 Axes>"
            ]
          },
          "metadata": {
            "tags": [],
            "needs_background": "light"
          }
        }
      ]
    },
    {
      "cell_type": "markdown",
      "metadata": {
        "id": "RHVV5pkIOaH9"
      },
      "source": [
        "> From Mutual Information: Sepal length has the strongest relationship with Species, following by Sepal length"
      ]
    },
    {
      "cell_type": "code",
      "metadata": {
        "colab": {
          "base_uri": "https://localhost:8080/",
          "height": 336
        },
        "id": "dY6P_eftPSKQ",
        "outputId": "ec0cedc6-d698-44c2-f424-9d863c998384"
      },
      "source": [
        "iris.hist(bins=10, figsize= (5,5), color='darkturquoise')\n",
        "\n",
        "plt.show()"
      ],
      "execution_count": null,
      "outputs": [
        {
          "output_type": "display_data",
          "data": {
            "image/png": "[encoded data removed]",
            "text/plain": [
              "<Figure size 360x360 with 4 Axes>"
            ]
          },
          "metadata": {
            "tags": [],
            "needs_background": "light"
          }
        }
      ]
    },
    {
      "cell_type": "markdown",
      "metadata": {
        "id": "JTqA4peJPnXe"
      },
      "source": [
        "> Petal length & Petal width have the distribution shape closed to Normal distribution."
      ]
    },
    {
      "cell_type": "code",
      "metadata": {
        "id": "0ECyotc5PzSg"
      },
      "source": [
        ""
      ],
      "execution_count": null,
      "outputs": []
    },
    {
      "cell_type": "markdown",
      "metadata": {
        "id": "OYRNLhc5QKg2"
      },
      "source": [
        "\n",
        "\n",
        "---\n",
        "\n"
      ]
    },
    {
      "cell_type": "markdown",
      "metadata": {
        "id": "GbIsuToaDi60"
      },
      "source": [
        "##### 3. Data Preprocessing"
      ]
    },
    {
      "cell_type": "markdown",
      "metadata": {
        "id": "Qf8xoDGxKUC7"
      },
      "source": [
        "###### A) Check the missing values & outliers"
      ]
    },
    {
      "cell_type": "code",
      "metadata": {
        "colab": {
          "base_uri": "https://localhost:8080/"
        },
        "id": "yp88jLw-E19U",
        "outputId": "d4430f69-5763-4e11-c6e6-2a40b922bce0"
      },
      "source": [
        "#Checking missing values\n",
        "\n",
        "if (len(iris.columns) == iris.isnull().sum(axis=0).value_counts()[0]):\n",
        "  print('No missing value was found')"
      ],
      "execution_count": null,
      "outputs": [
        {
          "output_type": "stream",
          "text": [
            "No missing value was found\n"
          ],
          "name": "stdout"
        }
      ]
    },
    {
      "cell_type": "code",
      "metadata": {
        "colab": {
          "base_uri": "https://localhost:8080/",
          "height": 493
        },
        "id": "14wOCs3cEm38",
        "outputId": "ce8b6105-8e80-4a20-b42b-750073bfcd56"
      },
      "source": [
        "from scipy import stats\n",
        "\n",
        "fig, ax = plt.subplots(2,2,figsize=(5,7))\n",
        "\n",
        "fig.suptitle('Boxplots of the features',fontsize=10)\n",
        "\n",
        "sns.despine(left=True)\n",
        "\n",
        "L = 0\n",
        "\n",
        "for i in range(2):\n",
        "  for k in range(2):\n",
        "    sns.boxplot(ax=ax[i][k], x=iris.iloc[:,L])\n",
        "    L += 1\n",
        "    if L == 4:\n",
        "      break\n",
        "    "
      ],
      "execution_count": null,
      "outputs": [
        {
          "output_type": "display_data",
          "data": {
            "image/png": "[encoded data removed]",
            "text/plain": [
              "<Figure size 360x504 with 4 Axes>"
            ]
          },
          "metadata": {
            "tags": [],
            "needs_background": "light"
          }
        }
      ]
    },
    {
      "cell_type": "markdown",
      "metadata": {
        "id": "WtGQRQesFw8w"
      },
      "source": [
        "> Only Petal width has a bit of outliers, but that's not a problem"
      ]
    },
    {
      "cell_type": "markdown",
      "metadata": {
        "id": "qRyj11C9To6P"
      },
      "source": [
        "\n",
        "\n",
        "---\n",
        "\n"
      ]
    },
    {
      "cell_type": "code",
      "metadata": {
        "id": "eOeuhN-0UZXv"
      },
      "source": [
        "from sklearn.model_selection import train_test_split\n",
        "\n",
        "X_train, X_test, y_train, y_test  = train_test_split(X, y, test_size=0.2, random_state=42,shuffle=True)"
      ],
      "execution_count": null,
      "outputs": []
    },
    {
      "cell_type": "code",
      "metadata": {
        "id": "5-I0VfZAZKDG"
      },
      "source": [
        "X_train.reset_index(drop=True, inplace=True)"
      ],
      "execution_count": null,
      "outputs": []
    },
    {
      "cell_type": "code",
      "metadata": {
        "id": "di9jZto2Z2QG"
      },
      "source": [
        "y_train.reset_index(drop=True , inplace=True)"
      ],
      "execution_count": null,
      "outputs": []
    },
    {
      "cell_type": "code",
      "metadata": {
        "colab": {
          "base_uri": "https://localhost:8080/",
          "height": 419
        },
        "id": "kNqDjxJ0ZvOu",
        "outputId": "0c12a098-86b3-45e5-d5ef-ac7ed2460c2c"
      },
      "source": [
        "X_train"
      ],
      "execution_count": null,
      "outputs": [
        {
          "output_type": "execute_result",
          "data": {
            "text/html": [
              "<div>\n",
              "<style scoped>\n",
              "    .dataframe tbody tr th:only-of-type {\n",
              "        vertical-align: middle;\n",
              "    }\n",
              "\n",
              "    .dataframe tbody tr th {\n",
              "        vertical-align: top;\n",
              "    }\n",
              "\n",
              "    .dataframe thead th {\n",
              "        text-align: right;\n",
              "    }\n",
              "</style>\n",
              "<table border=\"1\" class=\"dataframe\">\n",
              "  <thead>\n",
              "    <tr style=\"text-align: right;\">\n",
              "      <th></th>\n",
              "      <th>Petal Length</th>\n",
              "      <th>Petal Width</th>\n",
              "      <th>Sepal Length</th>\n",
              "      <th>Sepal Width</th>\n",
              "    </tr>\n",
              "  </thead>\n",
              "  <tbody>\n",
              "    <tr>\n",
              "      <th>0</th>\n",
              "      <td>4.6</td>\n",
              "      <td>3.6</td>\n",
              "      <td>1.0</td>\n",
              "      <td>0.2</td>\n",
              "    </tr>\n",
              "    <tr>\n",
              "      <th>1</th>\n",
              "      <td>5.7</td>\n",
              "      <td>4.4</td>\n",
              "      <td>1.5</td>\n",
              "      <td>0.4</td>\n",
              "    </tr>\n",
              "    <tr>\n",
              "      <th>2</th>\n",
              "      <td>6.7</td>\n",
              "      <td>3.1</td>\n",
              "      <td>4.4</td>\n",
              "      <td>1.4</td>\n",
              "    </tr>\n",
              "    <tr>\n",
              "      <th>3</th>\n",
              "      <td>4.8</td>\n",
              "      <td>3.4</td>\n",
              "      <td>1.6</td>\n",
              "      <td>0.2</td>\n",
              "    </tr>\n",
              "    <tr>\n",
              "      <th>4</th>\n",
              "      <td>4.4</td>\n",
              "      <td>3.2</td>\n",
              "      <td>1.3</td>\n",
              "      <td>0.2</td>\n",
              "    </tr>\n",
              "    <tr>\n",
              "      <th>...</th>\n",
              "      <td>...</td>\n",
              "      <td>...</td>\n",
              "      <td>...</td>\n",
              "      <td>...</td>\n",
              "    </tr>\n",
              "    <tr>\n",
              "      <th>115</th>\n",
              "      <td>6.1</td>\n",
              "      <td>2.8</td>\n",
              "      <td>4.0</td>\n",
              "      <td>1.3</td>\n",
              "    </tr>\n",
              "    <tr>\n",
              "      <th>116</th>\n",
              "      <td>4.9</td>\n",
              "      <td>2.5</td>\n",
              "      <td>4.5</td>\n",
              "      <td>1.7</td>\n",
              "    </tr>\n",
              "    <tr>\n",
              "      <th>117</th>\n",
              "      <td>5.8</td>\n",
              "      <td>4.0</td>\n",
              "      <td>1.2</td>\n",
              "      <td>0.2</td>\n",
              "    </tr>\n",
              "    <tr>\n",
              "      <th>118</th>\n",
              "      <td>5.8</td>\n",
              "      <td>2.6</td>\n",
              "      <td>4.0</td>\n",
              "      <td>1.2</td>\n",
              "    </tr>\n",
              "    <tr>\n",
              "      <th>119</th>\n",
              "      <td>7.1</td>\n",
              "      <td>3.0</td>\n",
              "      <td>5.9</td>\n",
              "      <td>2.1</td>\n",
              "    </tr>\n",
              "  </tbody>\n",
              "</table>\n",
              "<p>120 rows × 4 columns</p>\n",
              "</div>"
            ],
            "text/plain": [
              "     Petal Length  Petal Width  Sepal Length  Sepal Width\n",
              "0             4.6          3.6           1.0          0.2\n",
              "1             5.7          4.4           1.5          0.4\n",
              "2             6.7          3.1           4.4          1.4\n",
              "3             4.8          3.4           1.6          0.2\n",
              "4             4.4          3.2           1.3          0.2\n",
              "..            ...          ...           ...          ...\n",
              "115           6.1          2.8           4.0          1.3\n",
              "116           4.9          2.5           4.5          1.7\n",
              "117           5.8          4.0           1.2          0.2\n",
              "118           5.8          2.6           4.0          1.2\n",
              "119           7.1          3.0           5.9          2.1\n",
              "\n",
              "[120 rows x 4 columns]"
            ]
          },
          "metadata": {
            "tags": []
          },
          "execution_count": 301
        }
      ]
    },
    {
      "cell_type": "markdown",
      "metadata": {
        "id": "NLt969AURYWV"
      },
      "source": [
        "> If don't split? then how can we make sure that the model is ready to deploy?"
      ]
    },
    {
      "cell_type": "code",
      "metadata": {
        "colab": {
          "base_uri": "https://localhost:8080/",
          "height": 419
        },
        "id": "E1HZSAy7TA0v",
        "outputId": "70d27726-1745-460e-8d9c-a08d475715d4"
      },
      "source": [
        "data_train = pd.concat([y_train, X_train], axis=1)\n",
        "\n",
        "data_train"
      ],
      "execution_count": null,
      "outputs": [
        {
          "output_type": "execute_result",
          "data": {
            "text/html": [
              "<div>\n",
              "<style scoped>\n",
              "    .dataframe tbody tr th:only-of-type {\n",
              "        vertical-align: middle;\n",
              "    }\n",
              "\n",
              "    .dataframe tbody tr th {\n",
              "        vertical-align: top;\n",
              "    }\n",
              "\n",
              "    .dataframe thead th {\n",
              "        text-align: right;\n",
              "    }\n",
              "</style>\n",
              "<table border=\"1\" class=\"dataframe\">\n",
              "  <thead>\n",
              "    <tr style=\"text-align: right;\">\n",
              "      <th></th>\n",
              "      <th>Species</th>\n",
              "      <th>Petal Length</th>\n",
              "      <th>Petal Width</th>\n",
              "      <th>Sepal Length</th>\n",
              "      <th>Sepal Width</th>\n",
              "    </tr>\n",
              "  </thead>\n",
              "  <tbody>\n",
              "    <tr>\n",
              "      <th>0</th>\n",
              "      <td>Iris-setosa</td>\n",
              "      <td>4.6</td>\n",
              "      <td>3.6</td>\n",
              "      <td>1.0</td>\n",
              "      <td>0.2</td>\n",
              "    </tr>\n",
              "    <tr>\n",
              "      <th>1</th>\n",
              "      <td>Iris-setosa</td>\n",
              "      <td>5.7</td>\n",
              "      <td>4.4</td>\n",
              "      <td>1.5</td>\n",
              "      <td>0.4</td>\n",
              "    </tr>\n",
              "    <tr>\n",
              "      <th>2</th>\n",
              "      <td>Iris-versicolor</td>\n",
              "      <td>6.7</td>\n",
              "      <td>3.1</td>\n",
              "      <td>4.4</td>\n",
              "      <td>1.4</td>\n",
              "    </tr>\n",
              "    <tr>\n",
              "      <th>3</th>\n",
              "      <td>Iris-setosa</td>\n",
              "      <td>4.8</td>\n",
              "      <td>3.4</td>\n",
              "      <td>1.6</td>\n",
              "      <td>0.2</td>\n",
              "    </tr>\n",
              "    <tr>\n",
              "      <th>4</th>\n",
              "      <td>Iris-setosa</td>\n",
              "      <td>4.4</td>\n",
              "      <td>3.2</td>\n",
              "      <td>1.3</td>\n",
              "      <td>0.2</td>\n",
              "    </tr>\n",
              "    <tr>\n",
              "      <th>...</th>\n",
              "      <td>...</td>\n",
              "      <td>...</td>\n",
              "      <td>...</td>\n",
              "      <td>...</td>\n",
              "      <td>...</td>\n",
              "    </tr>\n",
              "    <tr>\n",
              "      <th>115</th>\n",
              "      <td>Iris-versicolor</td>\n",
              "      <td>6.1</td>\n",
              "      <td>2.8</td>\n",
              "      <td>4.0</td>\n",
              "      <td>1.3</td>\n",
              "    </tr>\n",
              "    <tr>\n",
              "      <th>116</th>\n",
              "      <td>Iris-virginica</td>\n",
              "      <td>4.9</td>\n",
              "      <td>2.5</td>\n",
              "      <td>4.5</td>\n",
              "      <td>1.7</td>\n",
              "    </tr>\n",
              "    <tr>\n",
              "      <th>117</th>\n",
              "      <td>Iris-setosa</td>\n",
              "      <td>5.8</td>\n",
              "      <td>4.0</td>\n",
              "      <td>1.2</td>\n",
              "      <td>0.2</td>\n",
              "    </tr>\n",
              "    <tr>\n",
              "      <th>118</th>\n",
              "      <td>Iris-versicolor</td>\n",
              "      <td>5.8</td>\n",
              "      <td>2.6</td>\n",
              "      <td>4.0</td>\n",
              "      <td>1.2</td>\n",
              "    </tr>\n",
              "    <tr>\n",
              "      <th>119</th>\n",
              "      <td>Iris-virginica</td>\n",
              "      <td>7.1</td>\n",
              "      <td>3.0</td>\n",
              "      <td>5.9</td>\n",
              "      <td>2.1</td>\n",
              "    </tr>\n",
              "  </tbody>\n",
              "</table>\n",
              "<p>120 rows × 5 columns</p>\n",
              "</div>"
            ],
            "text/plain": [
              "             Species  Petal Length  Petal Width  Sepal Length  Sepal Width\n",
              "0        Iris-setosa           4.6          3.6           1.0          0.2\n",
              "1        Iris-setosa           5.7          4.4           1.5          0.4\n",
              "2    Iris-versicolor           6.7          3.1           4.4          1.4\n",
              "3        Iris-setosa           4.8          3.4           1.6          0.2\n",
              "4        Iris-setosa           4.4          3.2           1.3          0.2\n",
              "..               ...           ...          ...           ...          ...\n",
              "115  Iris-versicolor           6.1          2.8           4.0          1.3\n",
              "116   Iris-virginica           4.9          2.5           4.5          1.7\n",
              "117      Iris-setosa           5.8          4.0           1.2          0.2\n",
              "118  Iris-versicolor           5.8          2.6           4.0          1.2\n",
              "119   Iris-virginica           7.1          3.0           5.9          2.1\n",
              "\n",
              "[120 rows x 5 columns]"
            ]
          },
          "metadata": {
            "tags": []
          },
          "execution_count": 302
        }
      ]
    },
    {
      "cell_type": "markdown",
      "metadata": {
        "id": "f2qxabc2UbZG"
      },
      "source": [
        "\n",
        "\n",
        "---\n",
        "\n"
      ]
    },
    {
      "cell_type": "markdown",
      "metadata": {
        "id": "Q_qWwAAsTwGm"
      },
      "source": [
        "<fieldset>\n",
        "\n",
        "Petal Length & Petal Width"
      ]
    },
    {
      "cell_type": "code",
      "metadata": {
        "colab": {
          "base_uri": "https://localhost:8080/",
          "height": 400
        },
        "id": "XvXlyg_eSBVH",
        "outputId": "0efbf281-ed6e-4683-a7f1-b90dc6c7aac3"
      },
      "source": [
        "sns.lmplot(x=\"Petal Length\", y=\"Petal Width\", data=data_train, hue=\"Species\", fit_reg=False, legend=True)"
      ],
      "execution_count": null,
      "outputs": [
        {
          "output_type": "execute_result",
          "data": {
            "text/plain": [
              "<seaborn.axisgrid.FacetGrid at 0x7f3365641390>"
            ]
          },
          "metadata": {
            "tags": []
          },
          "execution_count": 303
        },
        {
          "output_type": "display_data",
          "data": {
            "image/png": "[encoded data removed]",
            "text/plain": [
              "<Figure size 463.25x360 with 1 Axes>"
            ]
          },
          "metadata": {
            "tags": [],
            "needs_background": "light"
          }
        }
      ]
    },
    {
      "cell_type": "markdown",
      "metadata": {
        "id": "WibgVCW3TRum"
      },
      "source": [
        "> Are these clusters discriminately obvious?"
      ]
    },
    {
      "cell_type": "markdown",
      "metadata": {
        "id": "r-QvuzxpUamm"
      },
      "source": [
        "\n",
        "\n",
        "---\n",
        "\n"
      ]
    },
    {
      "cell_type": "markdown",
      "metadata": {
        "id": "rG6NVdVTT316"
      },
      "source": [
        "<fieldset>\n",
        "\n",
        "Sepal Length & Petal Width"
      ]
    },
    {
      "cell_type": "code",
      "metadata": {
        "colab": {
          "base_uri": "https://localhost:8080/",
          "height": 400
        },
        "id": "TINpznR2Tq7_",
        "outputId": "45a4346c-6fb1-45bd-e1da-d50f42a2bddf"
      },
      "source": [
        "sns.lmplot(x=\"Sepal Length\", y=\"Petal Width\", data=data_train, hue=\"Species\", fit_reg=False, legend=True)"
      ],
      "execution_count": null,
      "outputs": [
        {
          "output_type": "execute_result",
          "data": {
            "text/plain": [
              "<seaborn.axisgrid.FacetGrid at 0x7f3365645b50>"
            ]
          },
          "metadata": {
            "tags": []
          },
          "execution_count": 304
        },
        {
          "output_type": "display_data",
          "data": {
            "image/png": "[encoded data removed]",
            "text/plain": [
              "<Figure size 463.25x360 with 1 Axes>"
            ]
          },
          "metadata": {
            "tags": [],
            "needs_background": "light"
          }
        }
      ]
    },
    {
      "cell_type": "markdown",
      "metadata": {
        "id": "XIhO2uaDT9pe"
      },
      "source": [
        "> The clusters are more obvious than Petal length & Petal width "
      ]
    },
    {
      "cell_type": "markdown",
      "metadata": {
        "id": "SuVqgPMbUZ5u"
      },
      "source": [
        "\n",
        "\n",
        "---\n",
        "\n"
      ]
    },
    {
      "cell_type": "markdown",
      "metadata": {
        "id": "Ti4GAe6wT9y3"
      },
      "source": [
        "<fieldset>\n",
        "\n",
        "Sepal Length & Sepal Width"
      ]
    },
    {
      "cell_type": "code",
      "metadata": {
        "colab": {
          "base_uri": "https://localhost:8080/",
          "height": 400
        },
        "id": "65-L3eFuUPv-",
        "outputId": "8f7aaab8-3902-487d-f5ee-30d4a810fab6"
      },
      "source": [
        "sns.lmplot(x=\"Sepal Length\", y=\"Sepal Width\", data=data_train, hue=\"Species\", fit_reg=False, legend=True)"
      ],
      "execution_count": null,
      "outputs": [
        {
          "output_type": "execute_result",
          "data": {
            "text/plain": [
              "<seaborn.axisgrid.FacetGrid at 0x7f3364f4e250>"
            ]
          },
          "metadata": {
            "tags": []
          },
          "execution_count": 305
        },
        {
          "output_type": "display_data",
          "data": {
            "image/png": "[encoded data removed]",
            "text/plain": [
              "<Figure size 463.25x360 with 1 Axes>"
            ]
          },
          "metadata": {
            "tags": [],
            "needs_background": "light"
          }
        }
      ]
    },
    {
      "cell_type": "markdown",
      "metadata": {
        "id": "9PSdJTluUUNn"
      },
      "source": [
        "> Discrimination is real! ... This is the most obvious clustering ever\n",
        "\n",
        "> Assumption: Using these 2 features might be enough to classify which species it belong to"
      ]
    },
    {
      "cell_type": "markdown",
      "metadata": {
        "id": "OvtxZtVjTqbu"
      },
      "source": [
        "\n",
        "\n",
        "---\n",
        "\n"
      ]
    },
    {
      "cell_type": "markdown",
      "metadata": {
        "id": "-SK_MpD5UmXe"
      },
      "source": [
        "<fieldset>\n",
        "\n",
        "Petal Width & Sepal Width"
      ]
    },
    {
      "cell_type": "code",
      "metadata": {
        "colab": {
          "base_uri": "https://localhost:8080/",
          "height": 400
        },
        "id": "Sowk81aNUeB1",
        "outputId": "ae9c323c-f83f-45b3-8846-0ca952e502bb"
      },
      "source": [
        "sns.lmplot(x=\"Petal Width\", y=\"Sepal Width\", data=data_train, hue=\"Species\", fit_reg=False, legend=True)"
      ],
      "execution_count": null,
      "outputs": [
        {
          "output_type": "execute_result",
          "data": {
            "text/plain": [
              "<seaborn.axisgrid.FacetGrid at 0x7f3364ec6850>"
            ]
          },
          "metadata": {
            "tags": []
          },
          "execution_count": 306
        },
        {
          "output_type": "display_data",
          "data": {
            "image/png": "[encoded data removed]",
            "text/plain": [
              "<Figure size 463.25x360 with 1 Axes>"
            ]
          },
          "metadata": {
            "tags": [],
            "needs_background": "light"
          }
        }
      ]
    },
    {
      "cell_type": "markdown",
      "metadata": {
        "id": "F237W1s-UstW"
      },
      "source": [
        "> Not bad, but Sepal width & Sepal length is far way better"
      ]
    },
    {
      "cell_type": "markdown",
      "metadata": {
        "id": "tEbNcEFmUsLO"
      },
      "source": [
        "\n",
        "\n",
        "---\n",
        "\n"
      ]
    },
    {
      "cell_type": "markdown",
      "metadata": {
        "id": "ToEFeY-ba9Po"
      },
      "source": [
        "###### B) Normalization\n"
      ]
    },
    {
      "cell_type": "markdown",
      "metadata": {
        "id": "L7j_f7b8W9uO"
      },
      "source": [
        "- Normalization for its best"
      ]
    },
    {
      "cell_type": "code",
      "metadata": {
        "colab": {
          "base_uri": "https://localhost:8080/",
          "height": 419
        },
        "id": "9xRjjgxMWjl4",
        "outputId": "432ead5e-b7ff-4133-ef12-3f4faf5a7c55"
      },
      "source": [
        "from sklearn.preprocessing import MinMaxScaler\n",
        "\n",
        "MMS = MinMaxScaler()\n",
        "\n",
        "MMS.fit(X_train)\n",
        "\n",
        "X_tr = pd.DataFrame(MMS.transform(X_train))\n",
        "\n",
        "X_tr.columns = X_train.columns\n",
        "\n",
        "X_tr"
      ],
      "execution_count": null,
      "outputs": [
        {
          "output_type": "execute_result",
          "data": {
            "text/html": [
              "<div>\n",
              "<style scoped>\n",
              "    .dataframe tbody tr th:only-of-type {\n",
              "        vertical-align: middle;\n",
              "    }\n",
              "\n",
              "    .dataframe tbody tr th {\n",
              "        vertical-align: top;\n",
              "    }\n",
              "\n",
              "    .dataframe thead th {\n",
              "        text-align: right;\n",
              "    }\n",
              "</style>\n",
              "<table border=\"1\" class=\"dataframe\">\n",
              "  <thead>\n",
              "    <tr style=\"text-align: right;\">\n",
              "      <th></th>\n",
              "      <th>Petal Length</th>\n",
              "      <th>Petal Width</th>\n",
              "      <th>Sepal Length</th>\n",
              "      <th>Sepal Width</th>\n",
              "    </tr>\n",
              "  </thead>\n",
              "  <tbody>\n",
              "    <tr>\n",
              "      <th>0</th>\n",
              "      <td>0.088235</td>\n",
              "      <td>0.666667</td>\n",
              "      <td>0.000000</td>\n",
              "      <td>0.041667</td>\n",
              "    </tr>\n",
              "    <tr>\n",
              "      <th>1</th>\n",
              "      <td>0.411765</td>\n",
              "      <td>1.000000</td>\n",
              "      <td>0.087719</td>\n",
              "      <td>0.125000</td>\n",
              "    </tr>\n",
              "    <tr>\n",
              "      <th>2</th>\n",
              "      <td>0.705882</td>\n",
              "      <td>0.458333</td>\n",
              "      <td>0.596491</td>\n",
              "      <td>0.541667</td>\n",
              "    </tr>\n",
              "    <tr>\n",
              "      <th>3</th>\n",
              "      <td>0.147059</td>\n",
              "      <td>0.583333</td>\n",
              "      <td>0.105263</td>\n",
              "      <td>0.041667</td>\n",
              "    </tr>\n",
              "    <tr>\n",
              "      <th>4</th>\n",
              "      <td>0.029412</td>\n",
              "      <td>0.500000</td>\n",
              "      <td>0.052632</td>\n",
              "      <td>0.041667</td>\n",
              "    </tr>\n",
              "    <tr>\n",
              "      <th>...</th>\n",
              "      <td>...</td>\n",
              "      <td>...</td>\n",
              "      <td>...</td>\n",
              "      <td>...</td>\n",
              "    </tr>\n",
              "    <tr>\n",
              "      <th>115</th>\n",
              "      <td>0.529412</td>\n",
              "      <td>0.333333</td>\n",
              "      <td>0.526316</td>\n",
              "      <td>0.500000</td>\n",
              "    </tr>\n",
              "    <tr>\n",
              "      <th>116</th>\n",
              "      <td>0.176471</td>\n",
              "      <td>0.208333</td>\n",
              "      <td>0.614035</td>\n",
              "      <td>0.666667</td>\n",
              "    </tr>\n",
              "    <tr>\n",
              "      <th>117</th>\n",
              "      <td>0.441176</td>\n",
              "      <td>0.833333</td>\n",
              "      <td>0.035088</td>\n",
              "      <td>0.041667</td>\n",
              "    </tr>\n",
              "    <tr>\n",
              "      <th>118</th>\n",
              "      <td>0.441176</td>\n",
              "      <td>0.250000</td>\n",
              "      <td>0.526316</td>\n",
              "      <td>0.458333</td>\n",
              "    </tr>\n",
              "    <tr>\n",
              "      <th>119</th>\n",
              "      <td>0.823529</td>\n",
              "      <td>0.416667</td>\n",
              "      <td>0.859649</td>\n",
              "      <td>0.833333</td>\n",
              "    </tr>\n",
              "  </tbody>\n",
              "</table>\n",
              "<p>120 rows × 4 columns</p>\n",
              "</div>"
            ],
            "text/plain": [
              "     Petal Length  Petal Width  Sepal Length  Sepal Width\n",
              "0        0.088235     0.666667      0.000000     0.041667\n",
              "1        0.411765     1.000000      0.087719     0.125000\n",
              "2        0.705882     0.458333      0.596491     0.541667\n",
              "3        0.147059     0.583333      0.105263     0.041667\n",
              "4        0.029412     0.500000      0.052632     0.041667\n",
              "..            ...          ...           ...          ...\n",
              "115      0.529412     0.333333      0.526316     0.500000\n",
              "116      0.176471     0.208333      0.614035     0.666667\n",
              "117      0.441176     0.833333      0.035088     0.041667\n",
              "118      0.441176     0.250000      0.526316     0.458333\n",
              "119      0.823529     0.416667      0.859649     0.833333\n",
              "\n",
              "[120 rows x 4 columns]"
            ]
          },
          "metadata": {
            "tags": []
          },
          "execution_count": 307
        }
      ]
    },
    {
      "cell_type": "markdown",
      "metadata": {
        "id": "zwZJ9jV18eVZ"
      },
      "source": [
        "###### C) Dimensional Reduction"
      ]
    },
    {
      "cell_type": "code",
      "metadata": {
        "colab": {
          "base_uri": "https://localhost:8080/",
          "height": 419
        },
        "id": "JC_nbqdY9ieE",
        "outputId": "3dcd7128-1a7b-4185-f11b-04d88c92bd1b"
      },
      "source": [
        "from sklearn.decomposition import PCA\n",
        "\n",
        "pca = PCA(n_components=2)\n",
        "\n",
        "pca.fit(X_tr)\n",
        "\n",
        "X_tr_2 = pd.DataFrame(pca.transform(X_tr))\n",
        "X_tr_2"
      ],
      "execution_count": null,
      "outputs": [
        {
          "output_type": "execute_result",
          "data": {
            "text/html": [
              "<div>\n",
              "<style scoped>\n",
              "    .dataframe tbody tr th:only-of-type {\n",
              "        vertical-align: middle;\n",
              "    }\n",
              "\n",
              "    .dataframe tbody tr th {\n",
              "        vertical-align: top;\n",
              "    }\n",
              "\n",
              "    .dataframe thead th {\n",
              "        text-align: right;\n",
              "    }\n",
              "</style>\n",
              "<table border=\"1\" class=\"dataframe\">\n",
              "  <thead>\n",
              "    <tr style=\"text-align: right;\">\n",
              "      <th></th>\n",
              "      <th>0</th>\n",
              "      <th>1</th>\n",
              "    </tr>\n",
              "  </thead>\n",
              "  <tbody>\n",
              "    <tr>\n",
              "      <th>0</th>\n",
              "      <td>-0.745859</td>\n",
              "      <td>0.089402</td>\n",
              "    </tr>\n",
              "    <tr>\n",
              "      <th>1</th>\n",
              "      <td>-0.545741</td>\n",
              "      <td>0.522342</td>\n",
              "    </tr>\n",
              "    <tr>\n",
              "      <th>2</th>\n",
              "      <td>0.243203</td>\n",
              "      <td>0.122122</td>\n",
              "    </tr>\n",
              "    <tr>\n",
              "      <th>3</th>\n",
              "      <td>-0.641903</td>\n",
              "      <td>0.034153</td>\n",
              "    </tr>\n",
              "    <tr>\n",
              "      <th>4</th>\n",
              "      <td>-0.714198</td>\n",
              "      <td>-0.089117</td>\n",
              "    </tr>\n",
              "    <tr>\n",
              "      <th>...</th>\n",
              "      <td>...</td>\n",
              "      <td>...</td>\n",
              "    </tr>\n",
              "    <tr>\n",
              "      <th>115</th>\n",
              "      <td>0.114077</td>\n",
              "      <td>-0.062010</td>\n",
              "    </tr>\n",
              "    <tr>\n",
              "      <th>116</th>\n",
              "      <td>0.136886</td>\n",
              "      <td>-0.344117</td>\n",
              "    </tr>\n",
              "    <tr>\n",
              "      <th>117</th>\n",
              "      <td>-0.593411</td>\n",
              "      <td>0.394016</td>\n",
              "    </tr>\n",
              "    <tr>\n",
              "      <th>118</th>\n",
              "      <td>0.061437</td>\n",
              "      <td>-0.174443</td>\n",
              "    </tr>\n",
              "    <tr>\n",
              "      <th>119</th>\n",
              "      <td>0.648699</td>\n",
              "      <td>0.109098</td>\n",
              "    </tr>\n",
              "  </tbody>\n",
              "</table>\n",
              "<p>120 rows × 2 columns</p>\n",
              "</div>"
            ],
            "text/plain": [
              "            0         1\n",
              "0   -0.745859  0.089402\n",
              "1   -0.545741  0.522342\n",
              "2    0.243203  0.122122\n",
              "3   -0.641903  0.034153\n",
              "4   -0.714198 -0.089117\n",
              "..        ...       ...\n",
              "115  0.114077 -0.062010\n",
              "116  0.136886 -0.344117\n",
              "117 -0.593411  0.394016\n",
              "118  0.061437 -0.174443\n",
              "119  0.648699  0.109098\n",
              "\n",
              "[120 rows x 2 columns]"
            ]
          },
          "metadata": {
            "tags": []
          },
          "execution_count": 308
        }
      ]
    },
    {
      "cell_type": "code",
      "metadata": {
        "colab": {
          "base_uri": "https://localhost:8080/",
          "height": 419
        },
        "id": "tbuMnkUWXcHt",
        "outputId": "fd1f143a-9715-4ee6-9367-bfa0bddee2a4"
      },
      "source": [
        "data_train_2 =  pd.concat([y_train, X_tr_2], axis=1)\n",
        "\n",
        "data_train_2"
      ],
      "execution_count": null,
      "outputs": [
        {
          "output_type": "execute_result",
          "data": {
            "text/html": [
              "<div>\n",
              "<style scoped>\n",
              "    .dataframe tbody tr th:only-of-type {\n",
              "        vertical-align: middle;\n",
              "    }\n",
              "\n",
              "    .dataframe tbody tr th {\n",
              "        vertical-align: top;\n",
              "    }\n",
              "\n",
              "    .dataframe thead th {\n",
              "        text-align: right;\n",
              "    }\n",
              "</style>\n",
              "<table border=\"1\" class=\"dataframe\">\n",
              "  <thead>\n",
              "    <tr style=\"text-align: right;\">\n",
              "      <th></th>\n",
              "      <th>Species</th>\n",
              "      <th>0</th>\n",
              "      <th>1</th>\n",
              "    </tr>\n",
              "  </thead>\n",
              "  <tbody>\n",
              "    <tr>\n",
              "      <th>0</th>\n",
              "      <td>Iris-setosa</td>\n",
              "      <td>-0.745859</td>\n",
              "      <td>0.089402</td>\n",
              "    </tr>\n",
              "    <tr>\n",
              "      <th>1</th>\n",
              "      <td>Iris-setosa</td>\n",
              "      <td>-0.545741</td>\n",
              "      <td>0.522342</td>\n",
              "    </tr>\n",
              "    <tr>\n",
              "      <th>2</th>\n",
              "      <td>Iris-versicolor</td>\n",
              "      <td>0.243203</td>\n",
              "      <td>0.122122</td>\n",
              "    </tr>\n",
              "    <tr>\n",
              "      <th>3</th>\n",
              "      <td>Iris-setosa</td>\n",
              "      <td>-0.641903</td>\n",
              "      <td>0.034153</td>\n",
              "    </tr>\n",
              "    <tr>\n",
              "      <th>4</th>\n",
              "      <td>Iris-setosa</td>\n",
              "      <td>-0.714198</td>\n",
              "      <td>-0.089117</td>\n",
              "    </tr>\n",
              "    <tr>\n",
              "      <th>...</th>\n",
              "      <td>...</td>\n",
              "      <td>...</td>\n",
              "      <td>...</td>\n",
              "    </tr>\n",
              "    <tr>\n",
              "      <th>115</th>\n",
              "      <td>Iris-versicolor</td>\n",
              "      <td>0.114077</td>\n",
              "      <td>-0.062010</td>\n",
              "    </tr>\n",
              "    <tr>\n",
              "      <th>116</th>\n",
              "      <td>Iris-virginica</td>\n",
              "      <td>0.136886</td>\n",
              "      <td>-0.344117</td>\n",
              "    </tr>\n",
              "    <tr>\n",
              "      <th>117</th>\n",
              "      <td>Iris-setosa</td>\n",
              "      <td>-0.593411</td>\n",
              "      <td>0.394016</td>\n",
              "    </tr>\n",
              "    <tr>\n",
              "      <th>118</th>\n",
              "      <td>Iris-versicolor</td>\n",
              "      <td>0.061437</td>\n",
              "      <td>-0.174443</td>\n",
              "    </tr>\n",
              "    <tr>\n",
              "      <th>119</th>\n",
              "      <td>Iris-virginica</td>\n",
              "      <td>0.648699</td>\n",
              "      <td>0.109098</td>\n",
              "    </tr>\n",
              "  </tbody>\n",
              "</table>\n",
              "<p>120 rows × 3 columns</p>\n",
              "</div>"
            ],
            "text/plain": [
              "             Species         0         1\n",
              "0        Iris-setosa -0.745859  0.089402\n",
              "1        Iris-setosa -0.545741  0.522342\n",
              "2    Iris-versicolor  0.243203  0.122122\n",
              "3        Iris-setosa -0.641903  0.034153\n",
              "4        Iris-setosa -0.714198 -0.089117\n",
              "..               ...       ...       ...\n",
              "115  Iris-versicolor  0.114077 -0.062010\n",
              "116   Iris-virginica  0.136886 -0.344117\n",
              "117      Iris-setosa -0.593411  0.394016\n",
              "118  Iris-versicolor  0.061437 -0.174443\n",
              "119   Iris-virginica  0.648699  0.109098\n",
              "\n",
              "[120 rows x 3 columns]"
            ]
          },
          "metadata": {
            "tags": []
          },
          "execution_count": 309
        }
      ]
    },
    {
      "cell_type": "code",
      "metadata": {
        "colab": {
          "base_uri": "https://localhost:8080/",
          "height": 419
        },
        "id": "4RUibdXLadwO",
        "outputId": "f47d5651-3341-4234-839a-e2095f18c667"
      },
      "source": [
        "data_train_2.columns = ['Species','feature 0', 'feature 1']\n",
        "data_train_2"
      ],
      "execution_count": null,
      "outputs": [
        {
          "output_type": "execute_result",
          "data": {
            "text/html": [
              "<div>\n",
              "<style scoped>\n",
              "    .dataframe tbody tr th:only-of-type {\n",
              "        vertical-align: middle;\n",
              "    }\n",
              "\n",
              "    .dataframe tbody tr th {\n",
              "        vertical-align: top;\n",
              "    }\n",
              "\n",
              "    .dataframe thead th {\n",
              "        text-align: right;\n",
              "    }\n",
              "</style>\n",
              "<table border=\"1\" class=\"dataframe\">\n",
              "  <thead>\n",
              "    <tr style=\"text-align: right;\">\n",
              "      <th></th>\n",
              "      <th>Species</th>\n",
              "      <th>feature 0</th>\n",
              "      <th>feature 1</th>\n",
              "    </tr>\n",
              "  </thead>\n",
              "  <tbody>\n",
              "    <tr>\n",
              "      <th>0</th>\n",
              "      <td>Iris-setosa</td>\n",
              "      <td>-0.745859</td>\n",
              "      <td>0.089402</td>\n",
              "    </tr>\n",
              "    <tr>\n",
              "      <th>1</th>\n",
              "      <td>Iris-setosa</td>\n",
              "      <td>-0.545741</td>\n",
              "      <td>0.522342</td>\n",
              "    </tr>\n",
              "    <tr>\n",
              "      <th>2</th>\n",
              "      <td>Iris-versicolor</td>\n",
              "      <td>0.243203</td>\n",
              "      <td>0.122122</td>\n",
              "    </tr>\n",
              "    <tr>\n",
              "      <th>3</th>\n",
              "      <td>Iris-setosa</td>\n",
              "      <td>-0.641903</td>\n",
              "      <td>0.034153</td>\n",
              "    </tr>\n",
              "    <tr>\n",
              "      <th>4</th>\n",
              "      <td>Iris-setosa</td>\n",
              "      <td>-0.714198</td>\n",
              "      <td>-0.089117</td>\n",
              "    </tr>\n",
              "    <tr>\n",
              "      <th>...</th>\n",
              "      <td>...</td>\n",
              "      <td>...</td>\n",
              "      <td>...</td>\n",
              "    </tr>\n",
              "    <tr>\n",
              "      <th>115</th>\n",
              "      <td>Iris-versicolor</td>\n",
              "      <td>0.114077</td>\n",
              "      <td>-0.062010</td>\n",
              "    </tr>\n",
              "    <tr>\n",
              "      <th>116</th>\n",
              "      <td>Iris-virginica</td>\n",
              "      <td>0.136886</td>\n",
              "      <td>-0.344117</td>\n",
              "    </tr>\n",
              "    <tr>\n",
              "      <th>117</th>\n",
              "      <td>Iris-setosa</td>\n",
              "      <td>-0.593411</td>\n",
              "      <td>0.394016</td>\n",
              "    </tr>\n",
              "    <tr>\n",
              "      <th>118</th>\n",
              "      <td>Iris-versicolor</td>\n",
              "      <td>0.061437</td>\n",
              "      <td>-0.174443</td>\n",
              "    </tr>\n",
              "    <tr>\n",
              "      <th>119</th>\n",
              "      <td>Iris-virginica</td>\n",
              "      <td>0.648699</td>\n",
              "      <td>0.109098</td>\n",
              "    </tr>\n",
              "  </tbody>\n",
              "</table>\n",
              "<p>120 rows × 3 columns</p>\n",
              "</div>"
            ],
            "text/plain": [
              "             Species  feature 0  feature 1\n",
              "0        Iris-setosa  -0.745859   0.089402\n",
              "1        Iris-setosa  -0.545741   0.522342\n",
              "2    Iris-versicolor   0.243203   0.122122\n",
              "3        Iris-setosa  -0.641903   0.034153\n",
              "4        Iris-setosa  -0.714198  -0.089117\n",
              "..               ...        ...        ...\n",
              "115  Iris-versicolor   0.114077  -0.062010\n",
              "116   Iris-virginica   0.136886  -0.344117\n",
              "117      Iris-setosa  -0.593411   0.394016\n",
              "118  Iris-versicolor   0.061437  -0.174443\n",
              "119   Iris-virginica   0.648699   0.109098\n",
              "\n",
              "[120 rows x 3 columns]"
            ]
          },
          "metadata": {
            "tags": []
          },
          "execution_count": 310
        }
      ]
    },
    {
      "cell_type": "markdown",
      "metadata": {
        "id": "ybs1a39CXXtT"
      },
      "source": [
        "> Are you wondering to see the clusters after PCA?"
      ]
    },
    {
      "cell_type": "markdown",
      "metadata": {
        "id": "IfXfAwdKaPBm"
      },
      "source": [
        "\n",
        "\n",
        "---\n",
        "\n"
      ]
    },
    {
      "cell_type": "markdown",
      "metadata": {
        "id": "oiu6ehwkXuA0"
      },
      "source": [
        "<fieldset>\n",
        "\n",
        "feature 0 & feature 1"
      ]
    },
    {
      "cell_type": "code",
      "metadata": {
        "colab": {
          "base_uri": "https://localhost:8080/",
          "height": 400
        },
        "id": "wR-MqcUZXuA0",
        "outputId": "84ad00ea-ce39-4c4f-d07c-44e8a3165abf"
      },
      "source": [
        "sns.lmplot(x='feature 0', y='feature 1', data=data_train_2, hue=\"Species\", fit_reg=False, legend=True)"
      ],
      "execution_count": null,
      "outputs": [
        {
          "output_type": "execute_result",
          "data": {
            "text/plain": [
              "<seaborn.axisgrid.FacetGrid at 0x7f3364e52a50>"
            ]
          },
          "metadata": {
            "tags": []
          },
          "execution_count": 311
        },
        {
          "output_type": "display_data",
          "data": {
            "image/png": "[encoded data removed]",
            "text/plain": [
              "<Figure size 463.25x360 with 1 Axes>"
            ]
          },
          "metadata": {
            "tags": [],
            "needs_background": "light"
          }
        }
      ]
    },
    {
      "cell_type": "markdown",
      "metadata": {
        "id": "q8fX-nNeXuA1"
      },
      "source": [
        "> Is it really help our clustering algorithm do their job easier?"
      ]
    },
    {
      "cell_type": "markdown",
      "metadata": {
        "id": "IhG-epbvcoHG"
      },
      "source": [
        "\n",
        "\n",
        "---\n",
        "\n"
      ]
    },
    {
      "cell_type": "markdown",
      "metadata": {
        "id": "1WlwP-DXcpE9"
      },
      "source": [
        "###### D) Label Encoder"
      ]
    },
    {
      "cell_type": "code",
      "metadata": {
        "id": "xM8nkZeHcop-"
      },
      "source": [
        "from sklearn.preprocessing import LabelEncoder\n",
        "\n",
        "label_encoder = LabelEncoder()"
      ],
      "execution_count": null,
      "outputs": []
    },
    {
      "cell_type": "code",
      "metadata": {
        "colab": {
          "base_uri": "https://localhost:8080/",
          "height": 419
        },
        "id": "UWP_e7rqfudk",
        "outputId": "fb4b8538-ad5d-44f7-cf97-ff3596203167"
      },
      "source": [
        "X_tr_2"
      ],
      "execution_count": null,
      "outputs": [
        {
          "output_type": "execute_result",
          "data": {
            "text/html": [
              "<div>\n",
              "<style scoped>\n",
              "    .dataframe tbody tr th:only-of-type {\n",
              "        vertical-align: middle;\n",
              "    }\n",
              "\n",
              "    .dataframe tbody tr th {\n",
              "        vertical-align: top;\n",
              "    }\n",
              "\n",
              "    .dataframe thead th {\n",
              "        text-align: right;\n",
              "    }\n",
              "</style>\n",
              "<table border=\"1\" class=\"dataframe\">\n",
              "  <thead>\n",
              "    <tr style=\"text-align: right;\">\n",
              "      <th></th>\n",
              "      <th>0</th>\n",
              "      <th>1</th>\n",
              "    </tr>\n",
              "  </thead>\n",
              "  <tbody>\n",
              "    <tr>\n",
              "      <th>0</th>\n",
              "      <td>-0.745859</td>\n",
              "      <td>0.089402</td>\n",
              "    </tr>\n",
              "    <tr>\n",
              "      <th>1</th>\n",
              "      <td>-0.545741</td>\n",
              "      <td>0.522342</td>\n",
              "    </tr>\n",
              "    <tr>\n",
              "      <th>2</th>\n",
              "      <td>0.243203</td>\n",
              "      <td>0.122122</td>\n",
              "    </tr>\n",
              "    <tr>\n",
              "      <th>3</th>\n",
              "      <td>-0.641903</td>\n",
              "      <td>0.034153</td>\n",
              "    </tr>\n",
              "    <tr>\n",
              "      <th>4</th>\n",
              "      <td>-0.714198</td>\n",
              "      <td>-0.089117</td>\n",
              "    </tr>\n",
              "    <tr>\n",
              "      <th>...</th>\n",
              "      <td>...</td>\n",
              "      <td>...</td>\n",
              "    </tr>\n",
              "    <tr>\n",
              "      <th>115</th>\n",
              "      <td>0.114077</td>\n",
              "      <td>-0.062010</td>\n",
              "    </tr>\n",
              "    <tr>\n",
              "      <th>116</th>\n",
              "      <td>0.136886</td>\n",
              "      <td>-0.344117</td>\n",
              "    </tr>\n",
              "    <tr>\n",
              "      <th>117</th>\n",
              "      <td>-0.593411</td>\n",
              "      <td>0.394016</td>\n",
              "    </tr>\n",
              "    <tr>\n",
              "      <th>118</th>\n",
              "      <td>0.061437</td>\n",
              "      <td>-0.174443</td>\n",
              "    </tr>\n",
              "    <tr>\n",
              "      <th>119</th>\n",
              "      <td>0.648699</td>\n",
              "      <td>0.109098</td>\n",
              "    </tr>\n",
              "  </tbody>\n",
              "</table>\n",
              "<p>120 rows × 2 columns</p>\n",
              "</div>"
            ],
            "text/plain": [
              "            0         1\n",
              "0   -0.745859  0.089402\n",
              "1   -0.545741  0.522342\n",
              "2    0.243203  0.122122\n",
              "3   -0.641903  0.034153\n",
              "4   -0.714198 -0.089117\n",
              "..        ...       ...\n",
              "115  0.114077 -0.062010\n",
              "116  0.136886 -0.344117\n",
              "117 -0.593411  0.394016\n",
              "118  0.061437 -0.174443\n",
              "119  0.648699  0.109098\n",
              "\n",
              "[120 rows x 2 columns]"
            ]
          },
          "metadata": {
            "tags": []
          },
          "execution_count": 313
        }
      ]
    },
    {
      "cell_type": "code",
      "metadata": {
        "id": "uUi4hpw7c3al"
      },
      "source": [
        "label_encoder.fit(y_train)\n",
        "\n",
        "y_train = label_encoder.transform(y_train)"
      ],
      "execution_count": null,
      "outputs": []
    },
    {
      "cell_type": "code",
      "metadata": {
        "id": "hsbn4o45f-md"
      },
      "source": [
        "y_train = pd.DataFrame(y_train,columns=['Species'])"
      ],
      "execution_count": null,
      "outputs": []
    },
    {
      "cell_type": "code",
      "metadata": {
        "colab": {
          "base_uri": "https://localhost:8080/",
          "height": 419
        },
        "id": "jkiu8e7RfhNG",
        "outputId": "6f69c58e-6bbb-4f28-c8d5-0aaf3ad82091"
      },
      "source": [
        "data_train_3 =  pd.concat([y_train, X_tr_2], axis=1)\n",
        "\n",
        "data_train_3"
      ],
      "execution_count": null,
      "outputs": [
        {
          "output_type": "execute_result",
          "data": {
            "text/html": [
              "<div>\n",
              "<style scoped>\n",
              "    .dataframe tbody tr th:only-of-type {\n",
              "        vertical-align: middle;\n",
              "    }\n",
              "\n",
              "    .dataframe tbody tr th {\n",
              "        vertical-align: top;\n",
              "    }\n",
              "\n",
              "    .dataframe thead th {\n",
              "        text-align: right;\n",
              "    }\n",
              "</style>\n",
              "<table border=\"1\" class=\"dataframe\">\n",
              "  <thead>\n",
              "    <tr style=\"text-align: right;\">\n",
              "      <th></th>\n",
              "      <th>Species</th>\n",
              "      <th>0</th>\n",
              "      <th>1</th>\n",
              "    </tr>\n",
              "  </thead>\n",
              "  <tbody>\n",
              "    <tr>\n",
              "      <th>0</th>\n",
              "      <td>0</td>\n",
              "      <td>-0.745859</td>\n",
              "      <td>0.089402</td>\n",
              "    </tr>\n",
              "    <tr>\n",
              "      <th>1</th>\n",
              "      <td>0</td>\n",
              "      <td>-0.545741</td>\n",
              "      <td>0.522342</td>\n",
              "    </tr>\n",
              "    <tr>\n",
              "      <th>2</th>\n",
              "      <td>1</td>\n",
              "      <td>0.243203</td>\n",
              "      <td>0.122122</td>\n",
              "    </tr>\n",
              "    <tr>\n",
              "      <th>3</th>\n",
              "      <td>0</td>\n",
              "      <td>-0.641903</td>\n",
              "      <td>0.034153</td>\n",
              "    </tr>\n",
              "    <tr>\n",
              "      <th>4</th>\n",
              "      <td>0</td>\n",
              "      <td>-0.714198</td>\n",
              "      <td>-0.089117</td>\n",
              "    </tr>\n",
              "    <tr>\n",
              "      <th>...</th>\n",
              "      <td>...</td>\n",
              "      <td>...</td>\n",
              "      <td>...</td>\n",
              "    </tr>\n",
              "    <tr>\n",
              "      <th>115</th>\n",
              "      <td>1</td>\n",
              "      <td>0.114077</td>\n",
              "      <td>-0.062010</td>\n",
              "    </tr>\n",
              "    <tr>\n",
              "      <th>116</th>\n",
              "      <td>2</td>\n",
              "      <td>0.136886</td>\n",
              "      <td>-0.344117</td>\n",
              "    </tr>\n",
              "    <tr>\n",
              "      <th>117</th>\n",
              "      <td>0</td>\n",
              "      <td>-0.593411</td>\n",
              "      <td>0.394016</td>\n",
              "    </tr>\n",
              "    <tr>\n",
              "      <th>118</th>\n",
              "      <td>1</td>\n",
              "      <td>0.061437</td>\n",
              "      <td>-0.174443</td>\n",
              "    </tr>\n",
              "    <tr>\n",
              "      <th>119</th>\n",
              "      <td>2</td>\n",
              "      <td>0.648699</td>\n",
              "      <td>0.109098</td>\n",
              "    </tr>\n",
              "  </tbody>\n",
              "</table>\n",
              "<p>120 rows × 3 columns</p>\n",
              "</div>"
            ],
            "text/plain": [
              "     Species         0         1\n",
              "0          0 -0.745859  0.089402\n",
              "1          0 -0.545741  0.522342\n",
              "2          1  0.243203  0.122122\n",
              "3          0 -0.641903  0.034153\n",
              "4          0 -0.714198 -0.089117\n",
              "..       ...       ...       ...\n",
              "115        1  0.114077 -0.062010\n",
              "116        2  0.136886 -0.344117\n",
              "117        0 -0.593411  0.394016\n",
              "118        1  0.061437 -0.174443\n",
              "119        2  0.648699  0.109098\n",
              "\n",
              "[120 rows x 3 columns]"
            ]
          },
          "metadata": {
            "tags": []
          },
          "execution_count": 316
        }
      ]
    },
    {
      "cell_type": "markdown",
      "metadata": {
        "id": "TLFlOiDVa5Mm"
      },
      "source": [
        "\n",
        "\n",
        "---\n",
        "\n"
      ]
    },
    {
      "cell_type": "markdown",
      "metadata": {
        "id": "qnXkP4uJbJr2"
      },
      "source": [
        "### 4. Model Training"
      ]
    },
    {
      "cell_type": "markdown",
      "metadata": {
        "id": "igNCCSL6bPGN"
      },
      "source": [
        "> All algorithm we are going to use is K-Mean"
      ]
    },
    {
      "cell_type": "code",
      "metadata": {
        "id": "ORQayzNUbWbm"
      },
      "source": [
        "# Let k=3, since there're only just 3 species, if not, Is there any species I missed ?\n",
        "\n",
        "from sklearn.cluster import KMeans\n",
        "\n",
        "K_mean = KMeans(n_clusters=3,n_init= 100,random_state=0)"
      ],
      "execution_count": null,
      "outputs": []
    },
    {
      "cell_type": "code",
      "metadata": {
        "colab": {
          "base_uri": "https://localhost:8080/",
          "height": 282
        },
        "id": "M-M1jrAqcRF-",
        "outputId": "f1286b47-47f1-4225-a579-31c1aea5540f"
      },
      "source": [
        "# Clustering made by the K-mean model\n",
        "\n",
        "# The predicted group\n",
        "\n",
        "Model = K_mean.fit(X_tr_2)\n",
        "\n",
        "#Model.cluster_centers_\n",
        "\n",
        "group_predict = Model.predict(X_tr_2)\n",
        "\n",
        "plt.scatter(data_train_2['feature 0'],data_train_2['feature 1'], c=group_predict)"
      ],
      "execution_count": null,
      "outputs": [
        {
          "output_type": "execute_result",
          "data": {
            "text/plain": [
              "<matplotlib.collections.PathCollection at 0x7f3364da0c10>"
            ]
          },
          "metadata": {
            "tags": []
          },
          "execution_count": 318
        },
        {
          "output_type": "display_data",
          "data": {
            "image/png": "[encoded data removed]",
            "text/plain": [
              "<Figure size 432x288 with 1 Axes>"
            ]
          },
          "metadata": {
            "tags": [],
            "needs_background": "light"
          }
        }
      ]
    },
    {
      "cell_type": "code",
      "metadata": {
        "colab": {
          "base_uri": "https://localhost:8080/",
          "height": 400
        },
        "id": "mTMmRJZJjN39",
        "outputId": "ecf61a32-9af4-414e-b70a-7f95a5b3ad43"
      },
      "source": [
        "# The real group\n",
        "\n",
        "sns.lmplot(x='feature 0', y='feature 1', data=data_train_2, hue=\"Species\", fit_reg=False, legend=True)"
      ],
      "execution_count": null,
      "outputs": [
        {
          "output_type": "execute_result",
          "data": {
            "text/plain": [
              "<seaborn.axisgrid.FacetGrid at 0x7f3364d64f90>"
            ]
          },
          "metadata": {
            "tags": []
          },
          "execution_count": 319
        },
        {
          "output_type": "display_data",
          "data": {
            "image/png": "[encoded data removed]",
            "text/plain": [
              "<Figure size 463.25x360 with 1 Axes>"
            ]
          },
          "metadata": {
            "tags": [],
            "needs_background": "light"
          }
        }
      ]
    },
    {
      "cell_type": "code",
      "metadata": {
        "colab": {
          "base_uri": "https://localhost:8080/"
        },
        "id": "3sCGseZLpSbD",
        "outputId": "f910a386-6320-4df7-e173-798474cb6734"
      },
      "source": [
        "group_predict"
      ],
      "execution_count": null,
      "outputs": [
        {
          "output_type": "execute_result",
          "data": {
            "text/plain": [
              "array([1, 1, 0, 1, 1, 0, 0, 1, 1, 1, 0, 0, 2, 1, 1, 0, 0, 2, 0, 2, 0, 2,\n",
              "       0, 1, 2, 0, 1, 1, 1, 0, 0, 1, 1, 1, 0, 1, 0, 2, 1, 0, 0, 1, 0, 0,\n",
              "       0, 0, 2, 0, 1, 0, 2, 1, 1, 0, 2, 1, 2, 1, 1, 0, 0, 2, 0, 0, 2, 0,\n",
              "       1, 1, 0, 2, 1, 1, 1, 0, 2, 1, 2, 2, 1, 0, 0, 0, 2, 2, 1, 2, 0, 2,\n",
              "       0, 0, 0, 1, 0, 0, 1, 0, 2, 2, 1, 0, 2, 2, 1, 2, 1, 2, 2, 2, 0, 2,\n",
              "       0, 0, 0, 0, 1, 0, 0, 1, 0, 2], dtype=int32)"
            ]
          },
          "metadata": {
            "tags": []
          },
          "execution_count": 320
        }
      ]
    },
    {
      "cell_type": "code",
      "metadata": {
        "colab": {
          "base_uri": "https://localhost:8080/"
        },
        "id": "5v5x-yL5pLir",
        "outputId": "4b05b8f1-4a5c-4cd6-9078-bf4f201b2a07"
      },
      "source": [
        "Model.labels_"
      ],
      "execution_count": null,
      "outputs": [
        {
          "output_type": "execute_result",
          "data": {
            "text/plain": [
              "array([1, 1, 0, 1, 1, 0, 0, 1, 1, 1, 0, 0, 2, 1, 1, 0, 0, 2, 0, 2, 0, 2,\n",
              "       0, 1, 2, 0, 1, 1, 1, 0, 0, 1, 1, 1, 0, 1, 0, 2, 1, 0, 0, 1, 0, 0,\n",
              "       0, 0, 2, 0, 1, 0, 2, 1, 1, 0, 2, 1, 2, 1, 1, 0, 0, 2, 0, 0, 2, 0,\n",
              "       1, 1, 0, 2, 1, 1, 1, 0, 2, 1, 2, 2, 1, 0, 0, 0, 2, 2, 1, 2, 0, 2,\n",
              "       0, 0, 0, 1, 0, 0, 1, 0, 2, 2, 1, 0, 2, 2, 1, 2, 1, 2, 2, 2, 0, 2,\n",
              "       0, 0, 0, 0, 1, 0, 0, 1, 0, 2], dtype=int32)"
            ]
          },
          "metadata": {
            "tags": []
          },
          "execution_count": 321
        }
      ]
    },
    {
      "cell_type": "markdown",
      "metadata": {
        "id": "fzIKkyJMj77U"
      },
      "source": [
        "> Are they similar ?, yes it did, let see the accuracy the performance of this K-mean"
      ]
    },
    {
      "cell_type": "code",
      "metadata": {
        "colab": {
          "base_uri": "https://localhost:8080/"
        },
        "id": "p9-OLzX2mqSD",
        "outputId": "c24cdf32-0870-42dd-efee-da282d666c9b"
      },
      "source": [
        "from sklearn import metrics\n",
        "\n",
        "score = metrics.adjusted_mutual_info_score(y_train.to_numpy().flatten(), group_predict)\n",
        "\n",
        "score"
      ],
      "execution_count": null,
      "outputs": [
        {
          "output_type": "execute_result",
          "data": {
            "text/plain": [
              "0.6950999496675995"
            ]
          },
          "metadata": {
            "tags": []
          },
          "execution_count": 322
        }
      ]
    },
    {
      "cell_type": "markdown",
      "metadata": {
        "id": "sBygPD7KrRIT"
      },
      "source": [
        "> The accuracy is 69.5% according to Mutual information score, which is not bad\n",
        "\n",
        "> Next, let's predict the test set"
      ]
    },
    {
      "cell_type": "markdown",
      "metadata": {
        "id": "LN9u0GI2rndz"
      },
      "source": [
        "\n",
        "\n",
        "---\n",
        "\n"
      ]
    },
    {
      "cell_type": "markdown",
      "metadata": {
        "id": "zhYD0p9yrn-s"
      },
      "source": [
        "### 5. Model Deployment"
      ]
    },
    {
      "cell_type": "markdown",
      "metadata": {
        "id": "XY6uwjI9tDId"
      },
      "source": [
        "> Preprocess the test set first"
      ]
    },
    {
      "cell_type": "code",
      "metadata": {
        "id": "3YuT9uI4sJAD"
      },
      "source": [
        "#Normalize first\n",
        "\n",
        "X_tr_test = pd.DataFrame(MMS.transform(X_test))"
      ],
      "execution_count": null,
      "outputs": []
    },
    {
      "cell_type": "code",
      "metadata": {
        "id": "s7Qu0tFjrrWy"
      },
      "source": [
        "# Then PCA\n",
        "\n",
        "X_tr_test = pca.transform(X_tr_test)\n",
        "\n",
        "X_tr_test = pd.DataFrame(X_tr_test); #X_tr_test"
      ],
      "execution_count": null,
      "outputs": []
    },
    {
      "cell_type": "code",
      "metadata": {
        "id": "wtj5gXXRtH1Z"
      },
      "source": [
        "y_test = label_encoder.transform(y_test)\n",
        "\n",
        "y_test = pd.DataFrame(y_test,columns=['Species']); #y_test"
      ],
      "execution_count": null,
      "outputs": []
    },
    {
      "cell_type": "code",
      "metadata": {
        "id": "CKQaGH9St7r1"
      },
      "source": [
        "data_test =  pd.concat([y_test, X_tr_test], axis=1)\n",
        "\n",
        "data_test.columns = ['Species','feature 0', 'feature 1']\n",
        "#data_test"
      ],
      "execution_count": null,
      "outputs": []
    },
    {
      "cell_type": "code",
      "metadata": {
        "colab": {
          "base_uri": "https://localhost:8080/",
          "height": 400
        },
        "id": "X3jIAAwmvP6y",
        "outputId": "a6ee81c4-cb9d-4907-b3ab-02068d8df47a"
      },
      "source": [
        "sns.lmplot(x='feature 0', y='feature 1', data=data_test, hue=\"Species\", fit_reg=False, legend=True)"
      ],
      "execution_count": null,
      "outputs": [
        {
          "output_type": "execute_result",
          "data": {
            "text/plain": [
              "<seaborn.axisgrid.FacetGrid at 0x7f3364e17390>"
            ]
          },
          "metadata": {
            "tags": []
          },
          "execution_count": 329
        },
        {
          "output_type": "display_data",
          "data": {
            "image/png": "[encoded data removed]",
            "text/plain": [
              "<Figure size 406.375x360 with 1 Axes>"
            ]
          },
          "metadata": {
            "tags": [],
            "needs_background": "light"
          }
        }
      ]
    },
    {
      "cell_type": "markdown",
      "metadata": {
        "id": "kOOt5eaxvpgi"
      },
      "source": [
        "\n",
        "\n",
        "---\n",
        "\n"
      ]
    },
    {
      "cell_type": "code",
      "metadata": {
        "id": "MVU2bgTJvqBx"
      },
      "source": [
        "group_predict_test = Model.predict(X_tr_test)"
      ],
      "execution_count": null,
      "outputs": []
    },
    {
      "cell_type": "code",
      "metadata": {
        "colab": {
          "base_uri": "https://localhost:8080/",
          "height": 282
        },
        "id": "BwlLP9G9wGvi",
        "outputId": "da1fd961-2a2a-4877-bfe7-b448130e4106"
      },
      "source": [
        "# The predict one\n",
        "\n",
        "plt.scatter(data_test['feature 0'],data_test['feature 1'], c=group_predict_test)"
      ],
      "execution_count": null,
      "outputs": [
        {
          "output_type": "execute_result",
          "data": {
            "text/plain": [
              "<matplotlib.collections.PathCollection at 0x7f33639d3590>"
            ]
          },
          "metadata": {
            "tags": []
          },
          "execution_count": 333
        },
        {
          "output_type": "display_data",
          "data": {
            "image/png": "[encoded data removed]",
            "text/plain": [
              "<Figure size 432x288 with 1 Axes>"
            ]
          },
          "metadata": {
            "tags": [],
            "needs_background": "light"
          }
        }
      ]
    },
    {
      "cell_type": "code",
      "metadata": {
        "colab": {
          "base_uri": "https://localhost:8080/",
          "height": 400
        },
        "id": "evJ0A8QjwQRL",
        "outputId": "b418f187-40f9-4138-d236-dcf8b630ca7c"
      },
      "source": [
        "# The real one\n",
        "\n",
        "sns.lmplot(x='feature 0', y='feature 1', data=data_test, hue=\"Species\", fit_reg=False, legend=True)"
      ],
      "execution_count": null,
      "outputs": [
        {
          "output_type": "execute_result",
          "data": {
            "text/plain": [
              "<seaborn.axisgrid.FacetGrid at 0x7f3363932190>"
            ]
          },
          "metadata": {
            "tags": []
          },
          "execution_count": 334
        },
        {
          "output_type": "display_data",
          "data": {
            "image/png": "[encoded data removed]",
            "text/plain": [
              "<Figure size 406.375x360 with 1 Axes>"
            ]
          },
          "metadata": {
            "tags": [],
            "needs_background": "light"
          }
        }
      ]
    },
    {
      "cell_type": "markdown",
      "metadata": {
        "id": "gTVVngxzwW4q"
      },
      "source": [
        "> Great prediction, the predict one & real one are closely similar, let declare this good by evaluating by MI score"
      ]
    },
    {
      "cell_type": "code",
      "metadata": {
        "colab": {
          "base_uri": "https://localhost:8080/"
        },
        "id": "4I3sQzQ0wiXS",
        "outputId": "62ee1618-aa08-488e-d6d9-877f25d1cde8"
      },
      "source": [
        "score_test = metrics.adjusted_mutual_info_score(y_test.to_numpy().flatten(), group_predict_test)\n",
        "\n",
        "score_test"
      ],
      "execution_count": null,
      "outputs": [
        {
          "output_type": "execute_result",
          "data": {
            "text/plain": [
              "0.8923689116628176"
            ]
          },
          "metadata": {
            "tags": []
          },
          "execution_count": 336
        }
      ]
    },
    {
      "cell_type": "markdown",
      "metadata": {
        "id": "hHf1Fx5Ywzg6"
      },
      "source": [
        "> The score is impressive (Note that the range of MI score is 0 to 1)\n",
        "\n",
        "> However, the score is high might be the result from very low sample, this is why we need more data!"
      ]
    },
    {
      "cell_type": "markdown",
      "metadata": {
        "id": "lEjgLpnXxA9B"
      },
      "source": [
        "\n",
        "\n",
        "---\n",
        "\n"
      ]
    }
  ]
}